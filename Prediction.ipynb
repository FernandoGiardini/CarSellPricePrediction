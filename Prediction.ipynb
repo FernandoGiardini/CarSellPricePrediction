{
 "cells": [
  {
   "cell_type": "code",
   "execution_count": 385,
   "metadata": {},
   "outputs": [],
   "source": [
    "!pip -q install plotly \n",
    "!pip -q install yellowbrick\n",
    "!pip -q install pandas\n",
    "!pip -q install matplotlib\n",
    "!pip -q install seaborn"
   ]
  },
  {
   "cell_type": "code",
   "execution_count": 386,
   "metadata": {},
   "outputs": [],
   "source": [
    "import pandas as pd\n",
    "import numpy as np\n",
    "import seaborn as sns\n",
    "import matplotlib.pyplot as plt\n",
    "import plotly.express as px"
   ]
  },
  {
   "cell_type": "code",
   "execution_count": 387,
   "metadata": {},
   "outputs": [],
   "source": [
    "base_carros = pd.read_csv('cars.csv')"
   ]
  },
  {
   "cell_type": "code",
   "execution_count": 388,
   "metadata": {},
   "outputs": [
    {
     "data": {
      "text/html": [
       "<div>\n",
       "<style scoped>\n",
       "    .dataframe tbody tr th:only-of-type {\n",
       "        vertical-align: middle;\n",
       "    }\n",
       "\n",
       "    .dataframe tbody tr th {\n",
       "        vertical-align: top;\n",
       "    }\n",
       "\n",
       "    .dataframe thead th {\n",
       "        text-align: right;\n",
       "    }\n",
       "</style>\n",
       "<table border=\"1\" class=\"dataframe\">\n",
       "  <thead>\n",
       "    <tr style=\"text-align: right;\">\n",
       "      <th></th>\n",
       "      <th>Car_ID</th>\n",
       "      <th>Brand</th>\n",
       "      <th>Model</th>\n",
       "      <th>Year</th>\n",
       "      <th>Kilometers_Driven</th>\n",
       "      <th>Fuel_Type</th>\n",
       "      <th>Transmission</th>\n",
       "      <th>Owner_Type</th>\n",
       "      <th>Mileage</th>\n",
       "      <th>Engine</th>\n",
       "      <th>Power</th>\n",
       "      <th>Seats</th>\n",
       "      <th>Price</th>\n",
       "    </tr>\n",
       "  </thead>\n",
       "  <tbody>\n",
       "    <tr>\n",
       "      <th>0</th>\n",
       "      <td>1</td>\n",
       "      <td>Toyota</td>\n",
       "      <td>Corolla</td>\n",
       "      <td>2018</td>\n",
       "      <td>50000</td>\n",
       "      <td>Petrol</td>\n",
       "      <td>Manual</td>\n",
       "      <td>First</td>\n",
       "      <td>15</td>\n",
       "      <td>1498</td>\n",
       "      <td>108</td>\n",
       "      <td>5</td>\n",
       "      <td>800000</td>\n",
       "    </tr>\n",
       "    <tr>\n",
       "      <th>1</th>\n",
       "      <td>2</td>\n",
       "      <td>Honda</td>\n",
       "      <td>Civic</td>\n",
       "      <td>2019</td>\n",
       "      <td>40000</td>\n",
       "      <td>Petrol</td>\n",
       "      <td>Automatic</td>\n",
       "      <td>Second</td>\n",
       "      <td>17</td>\n",
       "      <td>1597</td>\n",
       "      <td>140</td>\n",
       "      <td>5</td>\n",
       "      <td>1000000</td>\n",
       "    </tr>\n",
       "    <tr>\n",
       "      <th>2</th>\n",
       "      <td>3</td>\n",
       "      <td>Ford</td>\n",
       "      <td>Mustang</td>\n",
       "      <td>2017</td>\n",
       "      <td>20000</td>\n",
       "      <td>Petrol</td>\n",
       "      <td>Automatic</td>\n",
       "      <td>First</td>\n",
       "      <td>10</td>\n",
       "      <td>4951</td>\n",
       "      <td>395</td>\n",
       "      <td>4</td>\n",
       "      <td>2500000</td>\n",
       "    </tr>\n",
       "    <tr>\n",
       "      <th>3</th>\n",
       "      <td>4</td>\n",
       "      <td>Maruti</td>\n",
       "      <td>Swift</td>\n",
       "      <td>2020</td>\n",
       "      <td>30000</td>\n",
       "      <td>Diesel</td>\n",
       "      <td>Manual</td>\n",
       "      <td>Third</td>\n",
       "      <td>23</td>\n",
       "      <td>1248</td>\n",
       "      <td>74</td>\n",
       "      <td>5</td>\n",
       "      <td>600000</td>\n",
       "    </tr>\n",
       "    <tr>\n",
       "      <th>4</th>\n",
       "      <td>5</td>\n",
       "      <td>Hyundai</td>\n",
       "      <td>Sonata</td>\n",
       "      <td>2016</td>\n",
       "      <td>60000</td>\n",
       "      <td>Diesel</td>\n",
       "      <td>Automatic</td>\n",
       "      <td>Second</td>\n",
       "      <td>18</td>\n",
       "      <td>1999</td>\n",
       "      <td>194</td>\n",
       "      <td>5</td>\n",
       "      <td>850000</td>\n",
       "    </tr>\n",
       "    <tr>\n",
       "      <th>...</th>\n",
       "      <td>...</td>\n",
       "      <td>...</td>\n",
       "      <td>...</td>\n",
       "      <td>...</td>\n",
       "      <td>...</td>\n",
       "      <td>...</td>\n",
       "      <td>...</td>\n",
       "      <td>...</td>\n",
       "      <td>...</td>\n",
       "      <td>...</td>\n",
       "      <td>...</td>\n",
       "      <td>...</td>\n",
       "      <td>...</td>\n",
       "    </tr>\n",
       "    <tr>\n",
       "      <th>95</th>\n",
       "      <td>96</td>\n",
       "      <td>Mercedes</td>\n",
       "      <td>C-Class</td>\n",
       "      <td>2019</td>\n",
       "      <td>22000</td>\n",
       "      <td>Diesel</td>\n",
       "      <td>Automatic</td>\n",
       "      <td>First</td>\n",
       "      <td>16</td>\n",
       "      <td>1950</td>\n",
       "      <td>191</td>\n",
       "      <td>5</td>\n",
       "      <td>2900000</td>\n",
       "    </tr>\n",
       "    <tr>\n",
       "      <th>96</th>\n",
       "      <td>97</td>\n",
       "      <td>Toyota</td>\n",
       "      <td>Innova Crysta</td>\n",
       "      <td>2017</td>\n",
       "      <td>38000</td>\n",
       "      <td>Diesel</td>\n",
       "      <td>Manual</td>\n",
       "      <td>Second</td>\n",
       "      <td>13</td>\n",
       "      <td>2755</td>\n",
       "      <td>171</td>\n",
       "      <td>7</td>\n",
       "      <td>1400000</td>\n",
       "    </tr>\n",
       "    <tr>\n",
       "      <th>97</th>\n",
       "      <td>98</td>\n",
       "      <td>Ford</td>\n",
       "      <td>EcoSport</td>\n",
       "      <td>2018</td>\n",
       "      <td>26000</td>\n",
       "      <td>Petrol</td>\n",
       "      <td>Manual</td>\n",
       "      <td>Third</td>\n",
       "      <td>18</td>\n",
       "      <td>1497</td>\n",
       "      <td>121</td>\n",
       "      <td>5</td>\n",
       "      <td>750000</td>\n",
       "    </tr>\n",
       "    <tr>\n",
       "      <th>98</th>\n",
       "      <td>99</td>\n",
       "      <td>Hyundai</td>\n",
       "      <td>Verna</td>\n",
       "      <td>2019</td>\n",
       "      <td>24000</td>\n",
       "      <td>Petrol</td>\n",
       "      <td>Automatic</td>\n",
       "      <td>Second</td>\n",
       "      <td>17</td>\n",
       "      <td>1497</td>\n",
       "      <td>113</td>\n",
       "      <td>5</td>\n",
       "      <td>850000</td>\n",
       "    </tr>\n",
       "    <tr>\n",
       "      <th>99</th>\n",
       "      <td>100</td>\n",
       "      <td>Tata</td>\n",
       "      <td>Altroz</td>\n",
       "      <td>2020</td>\n",
       "      <td>18000</td>\n",
       "      <td>Petrol</td>\n",
       "      <td>Manual</td>\n",
       "      <td>First</td>\n",
       "      <td>20</td>\n",
       "      <td>1199</td>\n",
       "      <td>85</td>\n",
       "      <td>5</td>\n",
       "      <td>600000</td>\n",
       "    </tr>\n",
       "  </tbody>\n",
       "</table>\n",
       "<p>100 rows × 13 columns</p>\n",
       "</div>"
      ],
      "text/plain": [
       "    Car_ID     Brand          Model  Year  Kilometers_Driven Fuel_Type  \\\n",
       "0        1    Toyota        Corolla  2018              50000    Petrol   \n",
       "1        2     Honda          Civic  2019              40000    Petrol   \n",
       "2        3      Ford        Mustang  2017              20000    Petrol   \n",
       "3        4    Maruti          Swift  2020              30000    Diesel   \n",
       "4        5   Hyundai         Sonata  2016              60000    Diesel   \n",
       "..     ...       ...            ...   ...                ...       ...   \n",
       "95      96  Mercedes        C-Class  2019              22000    Diesel   \n",
       "96      97    Toyota  Innova Crysta  2017              38000    Diesel   \n",
       "97      98      Ford       EcoSport  2018              26000    Petrol   \n",
       "98      99   Hyundai          Verna  2019              24000    Petrol   \n",
       "99     100      Tata         Altroz  2020              18000    Petrol   \n",
       "\n",
       "   Transmission Owner_Type  Mileage  Engine  Power  Seats    Price  \n",
       "0        Manual      First       15    1498    108      5   800000  \n",
       "1     Automatic     Second       17    1597    140      5  1000000  \n",
       "2     Automatic      First       10    4951    395      4  2500000  \n",
       "3        Manual      Third       23    1248     74      5   600000  \n",
       "4     Automatic     Second       18    1999    194      5   850000  \n",
       "..          ...        ...      ...     ...    ...    ...      ...  \n",
       "95    Automatic      First       16    1950    191      5  2900000  \n",
       "96       Manual     Second       13    2755    171      7  1400000  \n",
       "97       Manual      Third       18    1497    121      5   750000  \n",
       "98    Automatic     Second       17    1497    113      5   850000  \n",
       "99       Manual      First       20    1199     85      5   600000  \n",
       "\n",
       "[100 rows x 13 columns]"
      ]
     },
     "execution_count": 388,
     "metadata": {},
     "output_type": "execute_result"
    }
   ],
   "source": [
    "base_carros"
   ]
  },
  {
   "cell_type": "code",
   "execution_count": 389,
   "metadata": {},
   "outputs": [
    {
     "data": {
      "text/html": [
       "<div>\n",
       "<style scoped>\n",
       "    .dataframe tbody tr th:only-of-type {\n",
       "        vertical-align: middle;\n",
       "    }\n",
       "\n",
       "    .dataframe tbody tr th {\n",
       "        vertical-align: top;\n",
       "    }\n",
       "\n",
       "    .dataframe thead th {\n",
       "        text-align: right;\n",
       "    }\n",
       "</style>\n",
       "<table border=\"1\" class=\"dataframe\">\n",
       "  <thead>\n",
       "    <tr style=\"text-align: right;\">\n",
       "      <th></th>\n",
       "      <th>Brand</th>\n",
       "      <th>Model</th>\n",
       "      <th>Year</th>\n",
       "      <th>Kilometers_Driven</th>\n",
       "      <th>Owner_Type</th>\n",
       "      <th>Seats</th>\n",
       "      <th>Price</th>\n",
       "    </tr>\n",
       "  </thead>\n",
       "  <tbody>\n",
       "    <tr>\n",
       "      <th>0</th>\n",
       "      <td>Toyota</td>\n",
       "      <td>Corolla</td>\n",
       "      <td>2018</td>\n",
       "      <td>50000</td>\n",
       "      <td>First</td>\n",
       "      <td>5</td>\n",
       "      <td>800000</td>\n",
       "    </tr>\n",
       "    <tr>\n",
       "      <th>1</th>\n",
       "      <td>Honda</td>\n",
       "      <td>Civic</td>\n",
       "      <td>2019</td>\n",
       "      <td>40000</td>\n",
       "      <td>Second</td>\n",
       "      <td>5</td>\n",
       "      <td>1000000</td>\n",
       "    </tr>\n",
       "    <tr>\n",
       "      <th>2</th>\n",
       "      <td>Ford</td>\n",
       "      <td>Mustang</td>\n",
       "      <td>2017</td>\n",
       "      <td>20000</td>\n",
       "      <td>First</td>\n",
       "      <td>4</td>\n",
       "      <td>2500000</td>\n",
       "    </tr>\n",
       "    <tr>\n",
       "      <th>3</th>\n",
       "      <td>Maruti</td>\n",
       "      <td>Swift</td>\n",
       "      <td>2020</td>\n",
       "      <td>30000</td>\n",
       "      <td>Third</td>\n",
       "      <td>5</td>\n",
       "      <td>600000</td>\n",
       "    </tr>\n",
       "    <tr>\n",
       "      <th>4</th>\n",
       "      <td>Hyundai</td>\n",
       "      <td>Sonata</td>\n",
       "      <td>2016</td>\n",
       "      <td>60000</td>\n",
       "      <td>Second</td>\n",
       "      <td>5</td>\n",
       "      <td>850000</td>\n",
       "    </tr>\n",
       "    <tr>\n",
       "      <th>...</th>\n",
       "      <td>...</td>\n",
       "      <td>...</td>\n",
       "      <td>...</td>\n",
       "      <td>...</td>\n",
       "      <td>...</td>\n",
       "      <td>...</td>\n",
       "      <td>...</td>\n",
       "    </tr>\n",
       "    <tr>\n",
       "      <th>95</th>\n",
       "      <td>Mercedes</td>\n",
       "      <td>C-Class</td>\n",
       "      <td>2019</td>\n",
       "      <td>22000</td>\n",
       "      <td>First</td>\n",
       "      <td>5</td>\n",
       "      <td>2900000</td>\n",
       "    </tr>\n",
       "    <tr>\n",
       "      <th>96</th>\n",
       "      <td>Toyota</td>\n",
       "      <td>Innova Crysta</td>\n",
       "      <td>2017</td>\n",
       "      <td>38000</td>\n",
       "      <td>Second</td>\n",
       "      <td>7</td>\n",
       "      <td>1400000</td>\n",
       "    </tr>\n",
       "    <tr>\n",
       "      <th>97</th>\n",
       "      <td>Ford</td>\n",
       "      <td>EcoSport</td>\n",
       "      <td>2018</td>\n",
       "      <td>26000</td>\n",
       "      <td>Third</td>\n",
       "      <td>5</td>\n",
       "      <td>750000</td>\n",
       "    </tr>\n",
       "    <tr>\n",
       "      <th>98</th>\n",
       "      <td>Hyundai</td>\n",
       "      <td>Verna</td>\n",
       "      <td>2019</td>\n",
       "      <td>24000</td>\n",
       "      <td>Second</td>\n",
       "      <td>5</td>\n",
       "      <td>850000</td>\n",
       "    </tr>\n",
       "    <tr>\n",
       "      <th>99</th>\n",
       "      <td>Tata</td>\n",
       "      <td>Altroz</td>\n",
       "      <td>2020</td>\n",
       "      <td>18000</td>\n",
       "      <td>First</td>\n",
       "      <td>5</td>\n",
       "      <td>600000</td>\n",
       "    </tr>\n",
       "  </tbody>\n",
       "</table>\n",
       "<p>100 rows × 7 columns</p>\n",
       "</div>"
      ],
      "text/plain": [
       "       Brand          Model  Year  Kilometers_Driven Owner_Type  Seats  \\\n",
       "0     Toyota        Corolla  2018              50000      First      5   \n",
       "1      Honda          Civic  2019              40000     Second      5   \n",
       "2       Ford        Mustang  2017              20000      First      4   \n",
       "3     Maruti          Swift  2020              30000      Third      5   \n",
       "4    Hyundai         Sonata  2016              60000     Second      5   \n",
       "..       ...            ...   ...                ...        ...    ...   \n",
       "95  Mercedes        C-Class  2019              22000      First      5   \n",
       "96    Toyota  Innova Crysta  2017              38000     Second      7   \n",
       "97      Ford       EcoSport  2018              26000      Third      5   \n",
       "98   Hyundai          Verna  2019              24000     Second      5   \n",
       "99      Tata         Altroz  2020              18000      First      5   \n",
       "\n",
       "      Price  \n",
       "0    800000  \n",
       "1   1000000  \n",
       "2   2500000  \n",
       "3    600000  \n",
       "4    850000  \n",
       "..      ...  \n",
       "95  2900000  \n",
       "96  1400000  \n",
       "97   750000  \n",
       "98   850000  \n",
       "99   600000  \n",
       "\n",
       "[100 rows x 7 columns]"
      ]
     },
     "execution_count": 389,
     "metadata": {},
     "output_type": "execute_result"
    }
   ],
   "source": [
    "base_carros = base_carros[['Brand','Model','Year','Kilometers_Driven','Owner_Type','Seats','Price']]\n",
    "base_carros\n",
    "#Reduzindo base de dados para ter somente os dados relevantes."
   ]
  },
  {
   "cell_type": "markdown",
   "metadata": {},
   "source": [
    "Decidi transformar o valor do preço dos carros de Rúpias Indianas para Reais Brasileiros, para trabalhar com medidas que possuo melhor noção quantitativa."
   ]
  },
  {
   "cell_type": "code",
   "execution_count": 390,
   "metadata": {},
   "outputs": [
    {
     "name": "stderr",
     "output_type": "stream",
     "text": [
      "C:\\Users\\ferna\\AppData\\Local\\Temp\\ipykernel_7520\\2122226254.py:1: SettingWithCopyWarning:\n",
      "\n",
      "\n",
      "A value is trying to be set on a copy of a slice from a DataFrame.\n",
      "Try using .loc[row_indexer,col_indexer] = value instead\n",
      "\n",
      "See the caveats in the documentation: https://pandas.pydata.org/pandas-docs/stable/user_guide/indexing.html#returning-a-view-versus-a-copy\n",
      "\n"
     ]
    }
   ],
   "source": [
    "\n",
    "base_carros['Price'] = np.multiply(base_carros['Price'] , 0.062)\n"
   ]
  },
  {
   "cell_type": "code",
   "execution_count": 391,
   "metadata": {},
   "outputs": [
    {
     "data": {
      "text/html": [
       "<div>\n",
       "<style scoped>\n",
       "    .dataframe tbody tr th:only-of-type {\n",
       "        vertical-align: middle;\n",
       "    }\n",
       "\n",
       "    .dataframe tbody tr th {\n",
       "        vertical-align: top;\n",
       "    }\n",
       "\n",
       "    .dataframe thead th {\n",
       "        text-align: right;\n",
       "    }\n",
       "</style>\n",
       "<table border=\"1\" class=\"dataframe\">\n",
       "  <thead>\n",
       "    <tr style=\"text-align: right;\">\n",
       "      <th></th>\n",
       "      <th>Brand</th>\n",
       "      <th>Model</th>\n",
       "      <th>Year</th>\n",
       "      <th>Kilometers_Driven</th>\n",
       "      <th>Owner_Type</th>\n",
       "      <th>Seats</th>\n",
       "      <th>Price</th>\n",
       "    </tr>\n",
       "  </thead>\n",
       "  <tbody>\n",
       "    <tr>\n",
       "      <th>0</th>\n",
       "      <td>Toyota</td>\n",
       "      <td>Corolla</td>\n",
       "      <td>2018</td>\n",
       "      <td>50000</td>\n",
       "      <td>First</td>\n",
       "      <td>5</td>\n",
       "      <td>49600.0</td>\n",
       "    </tr>\n",
       "    <tr>\n",
       "      <th>1</th>\n",
       "      <td>Honda</td>\n",
       "      <td>Civic</td>\n",
       "      <td>2019</td>\n",
       "      <td>40000</td>\n",
       "      <td>Second</td>\n",
       "      <td>5</td>\n",
       "      <td>62000.0</td>\n",
       "    </tr>\n",
       "    <tr>\n",
       "      <th>2</th>\n",
       "      <td>Ford</td>\n",
       "      <td>Mustang</td>\n",
       "      <td>2017</td>\n",
       "      <td>20000</td>\n",
       "      <td>First</td>\n",
       "      <td>4</td>\n",
       "      <td>155000.0</td>\n",
       "    </tr>\n",
       "    <tr>\n",
       "      <th>3</th>\n",
       "      <td>Maruti</td>\n",
       "      <td>Swift</td>\n",
       "      <td>2020</td>\n",
       "      <td>30000</td>\n",
       "      <td>Third</td>\n",
       "      <td>5</td>\n",
       "      <td>37200.0</td>\n",
       "    </tr>\n",
       "    <tr>\n",
       "      <th>4</th>\n",
       "      <td>Hyundai</td>\n",
       "      <td>Sonata</td>\n",
       "      <td>2016</td>\n",
       "      <td>60000</td>\n",
       "      <td>Second</td>\n",
       "      <td>5</td>\n",
       "      <td>52700.0</td>\n",
       "    </tr>\n",
       "    <tr>\n",
       "      <th>...</th>\n",
       "      <td>...</td>\n",
       "      <td>...</td>\n",
       "      <td>...</td>\n",
       "      <td>...</td>\n",
       "      <td>...</td>\n",
       "      <td>...</td>\n",
       "      <td>...</td>\n",
       "    </tr>\n",
       "    <tr>\n",
       "      <th>95</th>\n",
       "      <td>Mercedes</td>\n",
       "      <td>C-Class</td>\n",
       "      <td>2019</td>\n",
       "      <td>22000</td>\n",
       "      <td>First</td>\n",
       "      <td>5</td>\n",
       "      <td>179800.0</td>\n",
       "    </tr>\n",
       "    <tr>\n",
       "      <th>96</th>\n",
       "      <td>Toyota</td>\n",
       "      <td>Innova Crysta</td>\n",
       "      <td>2017</td>\n",
       "      <td>38000</td>\n",
       "      <td>Second</td>\n",
       "      <td>7</td>\n",
       "      <td>86800.0</td>\n",
       "    </tr>\n",
       "    <tr>\n",
       "      <th>97</th>\n",
       "      <td>Ford</td>\n",
       "      <td>EcoSport</td>\n",
       "      <td>2018</td>\n",
       "      <td>26000</td>\n",
       "      <td>Third</td>\n",
       "      <td>5</td>\n",
       "      <td>46500.0</td>\n",
       "    </tr>\n",
       "    <tr>\n",
       "      <th>98</th>\n",
       "      <td>Hyundai</td>\n",
       "      <td>Verna</td>\n",
       "      <td>2019</td>\n",
       "      <td>24000</td>\n",
       "      <td>Second</td>\n",
       "      <td>5</td>\n",
       "      <td>52700.0</td>\n",
       "    </tr>\n",
       "    <tr>\n",
       "      <th>99</th>\n",
       "      <td>Tata</td>\n",
       "      <td>Altroz</td>\n",
       "      <td>2020</td>\n",
       "      <td>18000</td>\n",
       "      <td>First</td>\n",
       "      <td>5</td>\n",
       "      <td>37200.0</td>\n",
       "    </tr>\n",
       "  </tbody>\n",
       "</table>\n",
       "<p>100 rows × 7 columns</p>\n",
       "</div>"
      ],
      "text/plain": [
       "       Brand          Model  Year  Kilometers_Driven Owner_Type  Seats  \\\n",
       "0     Toyota        Corolla  2018              50000      First      5   \n",
       "1      Honda          Civic  2019              40000     Second      5   \n",
       "2       Ford        Mustang  2017              20000      First      4   \n",
       "3     Maruti          Swift  2020              30000      Third      5   \n",
       "4    Hyundai         Sonata  2016              60000     Second      5   \n",
       "..       ...            ...   ...                ...        ...    ...   \n",
       "95  Mercedes        C-Class  2019              22000      First      5   \n",
       "96    Toyota  Innova Crysta  2017              38000     Second      7   \n",
       "97      Ford       EcoSport  2018              26000      Third      5   \n",
       "98   Hyundai          Verna  2019              24000     Second      5   \n",
       "99      Tata         Altroz  2020              18000      First      5   \n",
       "\n",
       "       Price  \n",
       "0    49600.0  \n",
       "1    62000.0  \n",
       "2   155000.0  \n",
       "3    37200.0  \n",
       "4    52700.0  \n",
       "..       ...  \n",
       "95  179800.0  \n",
       "96   86800.0  \n",
       "97   46500.0  \n",
       "98   52700.0  \n",
       "99   37200.0  \n",
       "\n",
       "[100 rows x 7 columns]"
      ]
     },
     "execution_count": 391,
     "metadata": {},
     "output_type": "execute_result"
    }
   ],
   "source": [
    "base_carros"
   ]
  },
  {
   "cell_type": "code",
   "execution_count": 392,
   "metadata": {},
   "outputs": [
    {
     "data": {
      "text/html": [
       "<div>\n",
       "<style scoped>\n",
       "    .dataframe tbody tr th:only-of-type {\n",
       "        vertical-align: middle;\n",
       "    }\n",
       "\n",
       "    .dataframe tbody tr th {\n",
       "        vertical-align: top;\n",
       "    }\n",
       "\n",
       "    .dataframe thead th {\n",
       "        text-align: right;\n",
       "    }\n",
       "</style>\n",
       "<table border=\"1\" class=\"dataframe\">\n",
       "  <thead>\n",
       "    <tr style=\"text-align: right;\">\n",
       "      <th></th>\n",
       "      <th>Year</th>\n",
       "      <th>Kilometers_Driven</th>\n",
       "      <th>Seats</th>\n",
       "      <th>Price</th>\n",
       "    </tr>\n",
       "  </thead>\n",
       "  <tbody>\n",
       "    <tr>\n",
       "      <th>count</th>\n",
       "      <td>100.00000</td>\n",
       "      <td>100.000000</td>\n",
       "      <td>100.000000</td>\n",
       "      <td>100.00000</td>\n",
       "    </tr>\n",
       "    <tr>\n",
       "      <th>mean</th>\n",
       "      <td>2018.39000</td>\n",
       "      <td>28150.000000</td>\n",
       "      <td>5.230000</td>\n",
       "      <td>97588.00000</td>\n",
       "    </tr>\n",
       "    <tr>\n",
       "      <th>std</th>\n",
       "      <td>1.17116</td>\n",
       "      <td>9121.375716</td>\n",
       "      <td>0.750151</td>\n",
       "      <td>62016.40591</td>\n",
       "    </tr>\n",
       "    <tr>\n",
       "      <th>min</th>\n",
       "      <td>2016.00000</td>\n",
       "      <td>10000.000000</td>\n",
       "      <td>4.000000</td>\n",
       "      <td>27900.00000</td>\n",
       "    </tr>\n",
       "    <tr>\n",
       "      <th>25%</th>\n",
       "      <td>2017.75000</td>\n",
       "      <td>22000.000000</td>\n",
       "      <td>5.000000</td>\n",
       "      <td>43400.00000</td>\n",
       "    </tr>\n",
       "    <tr>\n",
       "      <th>50%</th>\n",
       "      <td>2018.00000</td>\n",
       "      <td>27000.000000</td>\n",
       "      <td>5.000000</td>\n",
       "      <td>80600.00000</td>\n",
       "    </tr>\n",
       "    <tr>\n",
       "      <th>75%</th>\n",
       "      <td>2019.00000</td>\n",
       "      <td>32000.000000</td>\n",
       "      <td>5.000000</td>\n",
       "      <td>155000.00000</td>\n",
       "    </tr>\n",
       "    <tr>\n",
       "      <th>max</th>\n",
       "      <td>2021.00000</td>\n",
       "      <td>60000.000000</td>\n",
       "      <td>7.000000</td>\n",
       "      <td>248000.00000</td>\n",
       "    </tr>\n",
       "  </tbody>\n",
       "</table>\n",
       "</div>"
      ],
      "text/plain": [
       "             Year  Kilometers_Driven       Seats         Price\n",
       "count   100.00000         100.000000  100.000000     100.00000\n",
       "mean   2018.39000       28150.000000    5.230000   97588.00000\n",
       "std       1.17116        9121.375716    0.750151   62016.40591\n",
       "min    2016.00000       10000.000000    4.000000   27900.00000\n",
       "25%    2017.75000       22000.000000    5.000000   43400.00000\n",
       "50%    2018.00000       27000.000000    5.000000   80600.00000\n",
       "75%    2019.00000       32000.000000    5.000000  155000.00000\n",
       "max    2021.00000       60000.000000    7.000000  248000.00000"
      ]
     },
     "execution_count": 392,
     "metadata": {},
     "output_type": "execute_result"
    }
   ],
   "source": [
    "base_carros.describe()"
   ]
  },
  {
   "cell_type": "markdown",
   "metadata": {},
   "source": [
    "Importante perceber que a nossa base de dados não é grande, vamos perceber como isso afeta nossos algoritmos de classificação mais a frente."
   ]
  },
  {
   "cell_type": "code",
   "execution_count": 393,
   "metadata": {},
   "outputs": [
    {
     "data": {
      "image/png": "[encoded data removed]",
      "text/plain": [
       "<Figure size 800x550 with 1 Axes>"
      ]
     },
     "metadata": {},
     "output_type": "display_data"
    }
   ],
   "source": [
    "plt.hist(x = base_carros['Kilometers_Driven']);\n",
    "#Descobrindo o formato geral dos dados de kilometragem dos nossos carros usados."
   ]
  },
  {
   "cell_type": "code",
   "execution_count": 394,
   "metadata": {},
   "outputs": [
    {
     "data": {
      "application/vnd.plotly.v1+json": {
       "config": {
        "plotlyServerURL": "https://plot.ly"
       },
       "data": [
        {
         "dimensions": [
          {
           "axis": {
            "matches": true
           },
           "label": "Brand",
           "values": [
            "Toyota",
            "Honda",
            "Ford",
            "Maruti",
            "Hyundai",
            "Tata",
            "Mahindra",
            "Volkswagen",
            "Audi",
            "BMW",
            "Mercedes",
            "Ford",
            "Hyundai",
            "Tata",
            "Maruti",
            "Honda",
            "Volkswagen",
            "Audi",
            "BMW",
            "Mercedes",
            "Toyota",
            "Ford",
            "Hyundai",
            "Tata",
            "Mahindra",
            "Volkswagen",
            "Audi",
            "BMW",
            "Mercedes",
            "Toyota",
            "Ford",
            "Hyundai",
            "Tata",
            "Maruti",
            "Honda",
            "Volkswagen",
            "Audi",
            "BMW",
            "Mercedes",
            "Toyota",
            "Ford",
            "Hyundai",
            "Tata",
            "Maruti",
            "Honda",
            "Volkswagen",
            "Audi",
            "BMW",
            "Mercedes",
            "Toyota",
            "Ford",
            "Hyundai",
            "Tata",
            "Mahindra",
            "Volkswagen",
            "Audi",
            "BMW",
            "Mercedes",
            "Toyota",
            "Ford",
            "Hyundai",
            "Tata",
            "Mahindra",
            "Volkswagen",
            "Audi",
            "BMW",
            "Mercedes",
            "Toyota",
            "Ford",
            "Hyundai",
            "Tata",
            "Maruti",
            "Honda",
            "Volkswagen",
            "Audi",
            "BMW",
            "Mercedes",
            "Toyota",
            "Ford",
            "Hyundai",
            "Tata",
            "Maruti",
            "Honda",
            "Volkswagen",
            "Audi",
            "BMW",
            "Mercedes",
            "Toyota",
            "Ford",
            "Hyundai",
            "Tata",
            "Mahindra",
            "Volkswagen",
            "Audi",
            "BMW",
            "Mercedes",
            "Toyota",
            "Ford",
            "Hyundai",
            "Tata"
           ]
          },
          {
           "axis": {
            "matches": true
           },
           "label": "Price",
           "values": [
            49600,
            62000,
            155000,
            37200,
            52700,
            46500,
            55800,
            40300,
            136400,
            167400,
            142600,
            124000,
            52700,
            99200,
            52700,
            40300,
            111600,
            117800,
            186000,
            155000,
            86800,
            34100,
            52700,
            37200,
            74400,
            99200,
            198400,
            173600,
            167400,
            155000,
            37200,
            49600,
            80600,
            43400,
            46500,
            31000,
            124000,
            217000,
            248000,
            40300,
            93000,
            27900,
            31000,
            43400,
            52700,
            99200,
            186000,
            198400,
            148800,
            111600,
            167400,
            34100,
            31000,
            43400,
            40300,
            161200,
            173600,
            179800,
            86800,
            46500,
            52700,
            37200,
            74400,
            99200,
            198400,
            173600,
            167400,
            155000,
            37200,
            49600,
            80600,
            43400,
            46500,
            31000,
            124000,
            217000,
            248000,
            40300,
            93000,
            27900,
            31000,
            43400,
            52700,
            99200,
            186000,
            198400,
            148800,
            111600,
            167400,
            34100,
            31000,
            43400,
            40300,
            161200,
            173600,
            179800,
            86800,
            46500,
            52700,
            37200
           ]
          },
          {
           "axis": {
            "matches": true
           },
           "label": "Kilometers_Driven",
           "values": [
            50000,
            40000,
            20000,
            30000,
            60000,
            35000,
            45000,
            25000,
            30000,
            20000,
            28000,
            35000,
            22000,
            40000,
            18000,
            42000,
            32000,
            38000,
            24000,
            26000,
            50000,
            15000,
            26000,
            18000,
            10000,
            32000,
            28000,
            22000,
            30000,
            38000,
            26000,
            32000,
            42000,
            24000,
            28000,
            15000,
            38000,
            22000,
            26000,
            18000,
            38000,
            26000,
            42000,
            15000,
            28000,
            22000,
            30000,
            28000,
            24000,
            38000,
            22000,
            32000,
            18000,
            26000,
            32000,
            28000,
            15000,
            22000,
            38000,
            26000,
            24000,
            18000,
            10000,
            32000,
            28000,
            22000,
            30000,
            38000,
            26000,
            32000,
            42000,
            24000,
            28000,
            15000,
            38000,
            22000,
            26000,
            18000,
            38000,
            26000,
            42000,
            15000,
            28000,
            22000,
            30000,
            28000,
            24000,
            38000,
            22000,
            32000,
            18000,
            26000,
            32000,
            28000,
            15000,
            22000,
            38000,
            26000,
            24000,
            18000
           ]
          }
         ],
         "hovertemplate": "%{xaxis.title.text}=%{x}<br>%{yaxis.title.text}=%{y}<br>Price=%{marker.color}<extra></extra>",
         "legendgroup": "",
         "marker": {
          "color": [
           49600,
           62000,
           155000,
           37200,
           52700,
           46500,
           55800,
           40300,
           136400,
           167400,
           142600,
           124000,
           52700,
           99200,
           52700,
           40300,
           111600,
           117800,
           186000,
           155000,
           86800,
           34100,
           52700,
           37200,
           74400,
           99200,
           198400,
           173600,
           167400,
           155000,
           37200,
           49600,
           80600,
           43400,
           46500,
           31000,
           124000,
           217000,
           248000,
           40300,
           93000,
           27900,
           31000,
           43400,
           52700,
           99200,
           186000,
           198400,
           148800,
           111600,
           167400,
           34100,
           31000,
           43400,
           40300,
           161200,
           173600,
           179800,
           86800,
           46500,
           52700,
           37200,
           74400,
           99200,
           198400,
           173600,
           167400,
           155000,
           37200,
           49600,
           80600,
           43400,
           46500,
           31000,
           124000,
           217000,
           248000,
           40300,
           93000,
           27900,
           31000,
           43400,
           52700,
           99200,
           186000,
           198400,
           148800,
           111600,
           167400,
           34100,
           31000,
           43400,
           40300,
           161200,
           173600,
           179800,
           86800,
           46500,
           52700,
           37200
          ],
          "coloraxis": "coloraxis",
          "symbol": "circle"
         },
         "name": "",
         "showlegend": false,
         "type": "splom"
        }
       ],
       "layout": {
        "coloraxis": {
         "colorbar": {
          "title": {
           "text": "Price"
          }
         },
         "colorscale": [
          [
           0,
           "#0d0887"
          ],
          [
           0.1111111111111111,
           "#46039f"
          ],
          [
           0.2222222222222222,
           "#7201a8"
          ],
          [
           0.3333333333333333,
           "#9c179e"
          ],
          [
           0.4444444444444444,
           "#bd3786"
          ],
          [
           0.5555555555555556,
           "#d8576b"
          ],
          [
           0.6666666666666666,
           "#ed7953"
          ],
          [
           0.7777777777777778,
           "#fb9f3a"
          ],
          [
           0.8888888888888888,
           "#fdca26"
          ],
          [
           1,
           "#f0f921"
          ]
         ]
        },
        "dragmode": "select",
        "legend": {
         "tracegroupgap": 0
        },
        "margin": {
         "t": 60
        },
        "template": {
         "data": {
          "bar": [
           {
            "error_x": {
             "color": "#2a3f5f"
            },
            "error_y": {
             "color": "#2a3f5f"
            },
            "marker": {
             "line": {
              "color": "#E5ECF6",
              "width": 0.5
             },
             "pattern": {
              "fillmode": "overlay",
              "size": 10,
              "solidity": 0.2
             }
            },
            "type": "bar"
           }
          ],
          "barpolar": [
           {
            "marker": {
             "line": {
              "color": "#E5ECF6",
              "width": 0.5
             },
             "pattern": {
              "fillmode": "overlay",
              "size": 10,
              "solidity": 0.2
             }
            },
            "type": "barpolar"
           }
          ],
          "carpet": [
           {
            "aaxis": {
             "endlinecolor": "#2a3f5f",
             "gridcolor": "white",
             "linecolor": "white",
             "minorgridcolor": "white",
             "startlinecolor": "#2a3f5f"
            },
            "baxis": {
             "endlinecolor": "#2a3f5f",
             "gridcolor": "white",
             "linecolor": "white",
             "minorgridcolor": "white",
             "startlinecolor": "#2a3f5f"
            },
            "type": "carpet"
           }
          ],
          "choropleth": [
           {
            "colorbar": {
             "outlinewidth": 0,
             "ticks": ""
            },
            "type": "choropleth"
           }
          ],
          "contour": [
           {
            "colorbar": {
             "outlinewidth": 0,
             "ticks": ""
            },
            "colorscale": [
             [
              0,
              "#0d0887"
             ],
             [
              0.1111111111111111,
              "#46039f"
             ],
             [
              0.2222222222222222,
              "#7201a8"
             ],
             [
              0.3333333333333333,
              "#9c179e"
             ],
             [
              0.4444444444444444,
              "#bd3786"
             ],
             [
              0.5555555555555556,
              "#d8576b"
             ],
             [
              0.6666666666666666,
              "#ed7953"
             ],
             [
              0.7777777777777778,
              "#fb9f3a"
             ],
             [
              0.8888888888888888,
              "#fdca26"
             ],
             [
              1,
              "#f0f921"
             ]
            ],
            "type": "contour"
           }
          ],
          "contourcarpet": [
           {
            "colorbar": {
             "outlinewidth": 0,
             "ticks": ""
            },
            "type": "contourcarpet"
           }
          ],
          "heatmap": [
           {
            "colorbar": {
             "outlinewidth": 0,
             "ticks": ""
            },
            "colorscale": [
             [
              0,
              "#0d0887"
             ],
             [
              0.1111111111111111,
              "#46039f"
             ],
             [
              0.2222222222222222,
              "#7201a8"
             ],
             [
              0.3333333333333333,
              "#9c179e"
             ],
             [
              0.4444444444444444,
              "#bd3786"
             ],
             [
              0.5555555555555556,
              "#d8576b"
             ],
             [
              0.6666666666666666,
              "#ed7953"
             ],
             [
              0.7777777777777778,
              "#fb9f3a"
             ],
             [
              0.8888888888888888,
              "#fdca26"
             ],
             [
              1,
              "#f0f921"
             ]
            ],
            "type": "heatmap"
           }
          ],
          "heatmapgl": [
           {
            "colorbar": {
             "outlinewidth": 0,
             "ticks": ""
            },
            "colorscale": [
             [
              0,
              "#0d0887"
             ],
             [
              0.1111111111111111,
              "#46039f"
             ],
             [
              0.2222222222222222,
              "#7201a8"
             ],
             [
              0.3333333333333333,
              "#9c179e"
             ],
             [
              0.4444444444444444,
              "#bd3786"
             ],
             [
              0.5555555555555556,
              "#d8576b"
             ],
             [
              0.6666666666666666,
              "#ed7953"
             ],
             [
              0.7777777777777778,
              "#fb9f3a"
             ],
             [
              0.8888888888888888,
              "#fdca26"
             ],
             [
              1,
              "#f0f921"
             ]
            ],
            "type": "heatmapgl"
           }
          ],
          "histogram": [
           {
            "marker": {
             "pattern": {
              "fillmode": "overlay",
              "size": 10,
              "solidity": 0.2
             }
            },
            "type": "histogram"
           }
          ],
          "histogram2d": [
           {
            "colorbar": {
             "outlinewidth": 0,
             "ticks": ""
            },
            "colorscale": [
             [
              0,
              "#0d0887"
             ],
             [
              0.1111111111111111,
              "#46039f"
             ],
             [
              0.2222222222222222,
              "#7201a8"
             ],
             [
              0.3333333333333333,
              "#9c179e"
             ],
             [
              0.4444444444444444,
              "#bd3786"
             ],
             [
              0.5555555555555556,
              "#d8576b"
             ],
             [
              0.6666666666666666,
              "#ed7953"
             ],
             [
              0.7777777777777778,
              "#fb9f3a"
             ],
             [
              0.8888888888888888,
              "#fdca26"
             ],
             [
              1,
              "#f0f921"
             ]
            ],
            "type": "histogram2d"
           }
          ],
          "histogram2dcontour": [
           {
            "colorbar": {
             "outlinewidth": 0,
             "ticks": ""
            },
            "colorscale": [
             [
              0,
              "#0d0887"
             ],
             [
              0.1111111111111111,
              "#46039f"
             ],
             [
              0.2222222222222222,
              "#7201a8"
             ],
             [
              0.3333333333333333,
              "#9c179e"
             ],
             [
              0.4444444444444444,
              "#bd3786"
             ],
             [
              0.5555555555555556,
              "#d8576b"
             ],
             [
              0.6666666666666666,
              "#ed7953"
             ],
             [
              0.7777777777777778,
              "#fb9f3a"
             ],
             [
              0.8888888888888888,
              "#fdca26"
             ],
             [
              1,
              "#f0f921"
             ]
            ],
            "type": "histogram2dcontour"
           }
          ],
          "mesh3d": [
           {
            "colorbar": {
             "outlinewidth": 0,
             "ticks": ""
            },
            "type": "mesh3d"
           }
          ],
          "parcoords": [
           {
            "line": {
             "colorbar": {
              "outlinewidth": 0,
              "ticks": ""
             }
            },
            "type": "parcoords"
           }
          ],
          "pie": [
           {
            "automargin": true,
            "type": "pie"
           }
          ],
          "scatter": [
           {
            "fillpattern": {
             "fillmode": "overlay",
             "size": 10,
             "solidity": 0.2
            },
            "type": "scatter"
           }
          ],
          "scatter3d": [
           {
            "line": {
             "colorbar": {
              "outlinewidth": 0,
              "ticks": ""
             }
            },
            "marker": {
             "colorbar": {
              "outlinewidth": 0,
              "ticks": ""
             }
            },
            "type": "scatter3d"
           }
          ],
          "scattercarpet": [
           {
            "marker": {
             "colorbar": {
              "outlinewidth": 0,
              "ticks": ""
             }
            },
            "type": "scattercarpet"
           }
          ],
          "scattergeo": [
           {
            "marker": {
             "colorbar": {
              "outlinewidth": 0,
              "ticks": ""
             }
            },
            "type": "scattergeo"
           }
          ],
          "scattergl": [
           {
            "marker": {
             "colorbar": {
              "outlinewidth": 0,
              "ticks": ""
             }
            },
            "type": "scattergl"
           }
          ],
          "scattermapbox": [
           {
            "marker": {
             "colorbar": {
              "outlinewidth": 0,
              "ticks": ""
             }
            },
            "type": "scattermapbox"
           }
          ],
          "scatterpolar": [
           {
            "marker": {
             "colorbar": {
              "outlinewidth": 0,
              "ticks": ""
             }
            },
            "type": "scatterpolar"
           }
          ],
          "scatterpolargl": [
           {
            "marker": {
             "colorbar": {
              "outlinewidth": 0,
              "ticks": ""
             }
            },
            "type": "scatterpolargl"
           }
          ],
          "scatterternary": [
           {
            "marker": {
             "colorbar": {
              "outlinewidth": 0,
              "ticks": ""
             }
            },
            "type": "scatterternary"
           }
          ],
          "surface": [
           {
            "colorbar": {
             "outlinewidth": 0,
             "ticks": ""
            },
            "colorscale": [
             [
              0,
              "#0d0887"
             ],
             [
              0.1111111111111111,
              "#46039f"
             ],
             [
              0.2222222222222222,
              "#7201a8"
             ],
             [
              0.3333333333333333,
              "#9c179e"
             ],
             [
              0.4444444444444444,
              "#bd3786"
             ],
             [
              0.5555555555555556,
              "#d8576b"
             ],
             [
              0.6666666666666666,
              "#ed7953"
             ],
             [
              0.7777777777777778,
              "#fb9f3a"
             ],
             [
              0.8888888888888888,
              "#fdca26"
             ],
             [
              1,
              "#f0f921"
             ]
            ],
            "type": "surface"
           }
          ],
          "table": [
           {
            "cells": {
             "fill": {
              "color": "#EBF0F8"
             },
             "line": {
              "color": "white"
             }
            },
            "header": {
             "fill": {
              "color": "#C8D4E3"
             },
             "line": {
              "color": "white"
             }
            },
            "type": "table"
           }
          ]
         },
         "layout": {
          "annotationdefaults": {
           "arrowcolor": "#2a3f5f",
           "arrowhead": 0,
           "arrowwidth": 1
          },
          "autotypenumbers": "strict",
          "coloraxis": {
           "colorbar": {
            "outlinewidth": 0,
            "ticks": ""
           }
          },
          "colorscale": {
           "diverging": [
            [
             0,
             "#8e0152"
            ],
            [
             0.1,
             "#c51b7d"
            ],
            [
             0.2,
             "#de77ae"
            ],
            [
             0.3,
             "#f1b6da"
            ],
            [
             0.4,
             "#fde0ef"
            ],
            [
             0.5,
             "#f7f7f7"
            ],
            [
             0.6,
             "#e6f5d0"
            ],
            [
             0.7,
             "#b8e186"
            ],
            [
             0.8,
             "#7fbc41"
            ],
            [
             0.9,
             "#4d9221"
            ],
            [
             1,
             "#276419"
            ]
           ],
           "sequential": [
            [
             0,
             "#0d0887"
            ],
            [
             0.1111111111111111,
             "#46039f"
            ],
            [
             0.2222222222222222,
             "#7201a8"
            ],
            [
             0.3333333333333333,
             "#9c179e"
            ],
            [
             0.4444444444444444,
             "#bd3786"
            ],
            [
             0.5555555555555556,
             "#d8576b"
            ],
            [
             0.6666666666666666,
             "#ed7953"
            ],
            [
             0.7777777777777778,
             "#fb9f3a"
            ],
            [
             0.8888888888888888,
             "#fdca26"
            ],
            [
             1,
             "#f0f921"
            ]
           ],
           "sequentialminus": [
            [
             0,
             "#0d0887"
            ],
            [
             0.1111111111111111,
             "#46039f"
            ],
            [
             0.2222222222222222,
             "#7201a8"
            ],
            [
             0.3333333333333333,
             "#9c179e"
            ],
            [
             0.4444444444444444,
             "#bd3786"
            ],
            [
             0.5555555555555556,
             "#d8576b"
            ],
            [
             0.6666666666666666,
             "#ed7953"
            ],
            [
             0.7777777777777778,
             "#fb9f3a"
            ],
            [
             0.8888888888888888,
             "#fdca26"
            ],
            [
             1,
             "#f0f921"
            ]
           ]
          },
          "colorway": [
           "#636efa",
           "#EF553B",
           "#00cc96",
           "#ab63fa",
           "#FFA15A",
           "#19d3f3",
           "#FF6692",
           "#B6E880",
           "#FF97FF",
           "#FECB52"
          ],
          "font": {
           "color": "#2a3f5f"
          },
          "geo": {
           "bgcolor": "white",
           "lakecolor": "white",
           "landcolor": "#E5ECF6",
           "showlakes": true,
           "showland": true,
           "subunitcolor": "white"
          },
          "hoverlabel": {
           "align": "left"
          },
          "hovermode": "closest",
          "mapbox": {
           "style": "light"
          },
          "paper_bgcolor": "white",
          "plot_bgcolor": "#E5ECF6",
          "polar": {
           "angularaxis": {
            "gridcolor": "white",
            "linecolor": "white",
            "ticks": ""
           },
           "bgcolor": "#E5ECF6",
           "radialaxis": {
            "gridcolor": "white",
            "linecolor": "white",
            "ticks": ""
           }
          },
          "scene": {
           "xaxis": {
            "backgroundcolor": "#E5ECF6",
            "gridcolor": "white",
            "gridwidth": 2,
            "linecolor": "white",
            "showbackground": true,
            "ticks": "",
            "zerolinecolor": "white"
           },
           "yaxis": {
            "backgroundcolor": "#E5ECF6",
            "gridcolor": "white",
            "gridwidth": 2,
            "linecolor": "white",
            "showbackground": true,
            "ticks": "",
            "zerolinecolor": "white"
           },
           "zaxis": {
            "backgroundcolor": "#E5ECF6",
            "gridcolor": "white",
            "gridwidth": 2,
            "linecolor": "white",
            "showbackground": true,
            "ticks": "",
            "zerolinecolor": "white"
           }
          },
          "shapedefaults": {
           "line": {
            "color": "#2a3f5f"
           }
          },
          "ternary": {
           "aaxis": {
            "gridcolor": "white",
            "linecolor": "white",
            "ticks": ""
           },
           "baxis": {
            "gridcolor": "white",
            "linecolor": "white",
            "ticks": ""
           },
           "bgcolor": "#E5ECF6",
           "caxis": {
            "gridcolor": "white",
            "linecolor": "white",
            "ticks": ""
           }
          },
          "title": {
           "x": 0.05
          },
          "xaxis": {
           "automargin": true,
           "gridcolor": "white",
           "linecolor": "white",
           "ticks": "",
           "title": {
            "standoff": 15
           },
           "zerolinecolor": "white",
           "zerolinewidth": 2
          },
          "yaxis": {
           "automargin": true,
           "gridcolor": "white",
           "linecolor": "white",
           "ticks": "",
           "title": {
            "standoff": 15
           },
           "zerolinecolor": "white",
           "zerolinewidth": 2
          }
         }
        }
       }
      }
     },
     "metadata": {},
     "output_type": "display_data"
    }
   ],
   "source": [
    "grafico = px.scatter_matrix(base_carros, dimensions=['Brand', 'Price', 'Kilometers_Driven'], color = 'Price')\n",
    "grafico.show()"
   ]
  },
  {
   "cell_type": "markdown",
   "metadata": {},
   "source": [
    "Neste último gráfico conseguimos informações relevantes do nossos dados, entre elas:\n",
    "    - O gráfico de marca por preço, mostrando a influencia direta entre esses dois > marcas de luxo são mais claras no mapeamento de calor do preço;\n",
    "    - O gráfico de marca por kilometragem > marcas de luxo normalmente tem kilometragem mais baixa, o que ajuda a preservar seu valor de revenda e exibe o estilo de vida dos donos em relação a aquele carro.\n",
    "                Além disso, carros mais baratos tendem a ter uma maior kilometragem, pois servem mais como uma ferramenta e não tem o aspecto de mostrar status social como os de luxo, além de ser menos alvejados por criminosos. \n",
    "\n",
    "Assim chegamos a conclusões socio-econômicas interessantes desses dados que vem da índia, que é um país em desenvolvimento parecido com o Brasil nestes aspectos citados acima."
   ]
  },
  {
   "cell_type": "code",
   "execution_count": 395,
   "metadata": {},
   "outputs": [
    {
     "data": {
      "application/vnd.plotly.v1+json": {
       "config": {
        "plotlyServerURL": "https://plot.ly"
       },
       "data": [
        {
         "branchvalues": "total",
         "domain": {
          "x": [
           0,
           1
          ],
          "y": [
           0,
           1
          ]
         },
         "hovertemplate": "labels=%{label}<br>count=%{value}<br>parent=%{parent}<br>id=%{id}<extra></extra>",
         "ids": [
          "Hyundai/Third/Santro/27900.0",
          "Volkswagen/Third/Ameo/31000.0",
          "Tata/First/Tiago/31000.0",
          "Tata/First/Tigor/31000.0",
          "Ford/Third/Figo/34100.0",
          "Hyundai/Third/Venue/34100.0",
          "Tata/First/Altroz/37200.0",
          "Ford/Third/Aspire/37200.0",
          "Maruti/Third/Swift/37200.0",
          "Honda/Second/City/40300.0",
          "Volkswagen/First/Polo/40300.0",
          "Volkswagen/Second/Vento/40300.0",
          "Toyota/First/Yaris/40300.0",
          "Maruti/Second/S-Cross/43400.0",
          "Maruti/Second/Vitara/43400.0",
          "Mahindra/Second/XUV300/43400.0",
          "Ford/Third/EcoSport/46500.0",
          "Tata/First/Nexon/46500.0",
          "Honda/First/WR-V/46500.0",
          "Toyota/First/Corolla/49600.0",
          "Hyundai/Second/Elantra/49600.0",
          "Honda/First/BR-V/52700.0",
          "Hyundai/Third/Creta/52700.0",
          "Maruti/First/Ertiga/52700.0",
          "Hyundai/Second/Sonata/52700.0",
          "Hyundai/Second/Verna/52700.0",
          "Mahindra/Second/Scorpio/55800.0",
          "Honda/Second/Civic/62000.0",
          "Mahindra/First/Thar/74400.0",
          "Tata/First/Safari/80600.0",
          "Toyota/First/Innova/86800.0",
          "Toyota/Second/Innova Crysta/86800.0",
          "Ford/Second/Ranger/93000.0",
          "Tata/First/Harrier/99200.0",
          "Volkswagen/Second/Passat/99200.0",
          "Volkswagen/Second/T-Roc/99200.0",
          "Toyota/Second/Camry/111600.0",
          "Volkswagen/First/Tiguan/111600.0",
          "Audi/Second/Q3/117800.0",
          "Audi/Second/A3/124000.0",
          "Ford/Second/Endeavour/124000.0",
          "Audi/First/A4/136400.0",
          "Mercedes/First/C-Class/142600.0",
          "Mercedes/First/GLA/148800.0",
          "Toyota/Second/Fortuner/155000.0",
          "Mercedes/Second/GLC/155000.0",
          "Ford/First/Mustang/155000.0",
          "Audi/First/A5/161200.0",
          "Mercedes/First/E-Class/167400.0",
          "Ford/First/Mustang/167400.0",
          "BMW/Second/X1/167400.0",
          "BMW/Second/3 Series/173600.0",
          "BMW/Second/X3/173600.0",
          "Mercedes/First/C-Class/179800.0",
          "BMW/First/5 Series/186000.0",
          "Audi/First/Q7/186000.0",
          "Audi/First/A6/198400.0",
          "BMW/Second/X5/198400.0",
          "BMW/First/7 Series/217000.0",
          "Mercedes/Second/GLE/248000.0",
          "BMW/Second/3 Series",
          "BMW/First/5 Series",
          "BMW/First/7 Series",
          "Audi/Second/A3",
          "Audi/First/A4",
          "Audi/First/A5",
          "Audi/First/A6",
          "Tata/First/Altroz",
          "Volkswagen/Third/Ameo",
          "Ford/Third/Aspire",
          "Honda/First/BR-V",
          "Mercedes/First/C-Class",
          "Toyota/Second/Camry",
          "Honda/Second/City",
          "Honda/Second/Civic",
          "Toyota/First/Corolla",
          "Hyundai/Third/Creta",
          "Mercedes/First/E-Class",
          "Ford/Third/EcoSport",
          "Hyundai/Second/Elantra",
          "Ford/Second/Endeavour",
          "Maruti/First/Ertiga",
          "Ford/Third/Figo",
          "Toyota/Second/Fortuner",
          "Mercedes/First/GLA",
          "Mercedes/Second/GLC",
          "Mercedes/Second/GLE",
          "Tata/First/Harrier",
          "Toyota/First/Innova",
          "Toyota/Second/Innova Crysta",
          "Ford/First/Mustang",
          "Tata/First/Nexon",
          "Volkswagen/Second/Passat",
          "Volkswagen/First/Polo",
          "Audi/Second/Q3",
          "Audi/First/Q7",
          "Ford/Second/Ranger",
          "Maruti/Second/S-Cross",
          "Tata/First/Safari",
          "Hyundai/Third/Santro",
          "Mahindra/Second/Scorpio",
          "Hyundai/Second/Sonata",
          "Maruti/Third/Swift",
          "Volkswagen/Second/T-Roc",
          "Mahindra/First/Thar",
          "Tata/First/Tiago",
          "Tata/First/Tigor",
          "Volkswagen/First/Tiguan",
          "Volkswagen/Second/Vento",
          "Hyundai/Third/Venue",
          "Hyundai/Second/Verna",
          "Maruti/Second/Vitara",
          "Honda/First/WR-V",
          "BMW/Second/X1",
          "BMW/Second/X3",
          "BMW/Second/X5",
          "Mahindra/Second/XUV300",
          "Toyota/First/Yaris",
          "Audi/First",
          "BMW/First",
          "Ford/First",
          "Honda/First",
          "Mahindra/First",
          "Maruti/First",
          "Mercedes/First",
          "Tata/First",
          "Toyota/First",
          "Volkswagen/First",
          "Audi/Second",
          "BMW/Second",
          "Ford/Second",
          "Honda/Second",
          "Hyundai/Second",
          "Mahindra/Second",
          "Maruti/Second",
          "Mercedes/Second",
          "Toyota/Second",
          "Volkswagen/Second",
          "Ford/Third",
          "Hyundai/Third",
          "Maruti/Third",
          "Volkswagen/Third",
          "Audi",
          "BMW",
          "Ford",
          "Honda",
          "Hyundai",
          "Mahindra",
          "Maruti",
          "Mercedes",
          "Tata",
          "Toyota",
          "Volkswagen"
         ],
         "labels": [
          "27900.0",
          "31000.0",
          "31000.0",
          "31000.0",
          "34100.0",
          "34100.0",
          "37200.0",
          "37200.0",
          "37200.0",
          "40300.0",
          "40300.0",
          "40300.0",
          "40300.0",
          "43400.0",
          "43400.0",
          "43400.0",
          "46500.0",
          "46500.0",
          "46500.0",
          "49600.0",
          "49600.0",
          "52700.0",
          "52700.0",
          "52700.0",
          "52700.0",
          "52700.0",
          "55800.0",
          "62000.0",
          "74400.0",
          "80600.0",
          "86800.0",
          "86800.0",
          "93000.0",
          "99200.0",
          "99200.0",
          "99200.0",
          "111600.0",
          "111600.0",
          "117800.0",
          "124000.0",
          "124000.0",
          "136400.0",
          "142600.0",
          "148800.0",
          "155000.0",
          "155000.0",
          "155000.0",
          "161200.0",
          "167400.0",
          "167400.0",
          "167400.0",
          "173600.0",
          "173600.0",
          "179800.0",
          "186000.0",
          "186000.0",
          "198400.0",
          "198400.0",
          "217000.0",
          "248000.0",
          "3 Series",
          "5 Series",
          "7 Series",
          "A3",
          "A4",
          "A5",
          "A6",
          "Altroz",
          "Ameo",
          "Aspire",
          "BR-V",
          "C-Class",
          "Camry",
          "City",
          "Civic",
          "Corolla",
          "Creta",
          "E-Class",
          "EcoSport",
          "Elantra",
          "Endeavour",
          "Ertiga",
          "Figo",
          "Fortuner",
          "GLA",
          "GLC",
          "GLE",
          "Harrier",
          "Innova",
          "Innova Crysta",
          "Mustang",
          "Nexon",
          "Passat",
          "Polo",
          "Q3",
          "Q7",
          "Ranger",
          "S-Cross",
          "Safari",
          "Santro",
          "Scorpio",
          "Sonata",
          "Swift",
          "T-Roc",
          "Thar",
          "Tiago",
          "Tigor",
          "Tiguan",
          "Vento",
          "Venue",
          "Verna",
          "Vitara",
          "WR-V",
          "X1",
          "X3",
          "X5",
          "XUV300",
          "Yaris",
          "First",
          "First",
          "First",
          "First",
          "First",
          "First",
          "First",
          "First",
          "First",
          "First",
          "Second",
          "Second",
          "Second",
          "Second",
          "Second",
          "Second",
          "Second",
          "Second",
          "Second",
          "Second",
          "Third",
          "Third",
          "Third",
          "Third",
          "Audi",
          "BMW",
          "Ford",
          "Honda",
          "Hyundai",
          "Mahindra",
          "Maruti",
          "Mercedes",
          "Tata",
          "Toyota",
          "Volkswagen"
         ],
         "name": "",
         "parents": [
          "Hyundai/Third/Santro",
          "Volkswagen/Third/Ameo",
          "Tata/First/Tiago",
          "Tata/First/Tigor",
          "Ford/Third/Figo",
          "Hyundai/Third/Venue",
          "Tata/First/Altroz",
          "Ford/Third/Aspire",
          "Maruti/Third/Swift",
          "Honda/Second/City",
          "Volkswagen/First/Polo",
          "Volkswagen/Second/Vento",
          "Toyota/First/Yaris",
          "Maruti/Second/S-Cross",
          "Maruti/Second/Vitara",
          "Mahindra/Second/XUV300",
          "Ford/Third/EcoSport",
          "Tata/First/Nexon",
          "Honda/First/WR-V",
          "Toyota/First/Corolla",
          "Hyundai/Second/Elantra",
          "Honda/First/BR-V",
          "Hyundai/Third/Creta",
          "Maruti/First/Ertiga",
          "Hyundai/Second/Sonata",
          "Hyundai/Second/Verna",
          "Mahindra/Second/Scorpio",
          "Honda/Second/Civic",
          "Mahindra/First/Thar",
          "Tata/First/Safari",
          "Toyota/First/Innova",
          "Toyota/Second/Innova Crysta",
          "Ford/Second/Ranger",
          "Tata/First/Harrier",
          "Volkswagen/Second/Passat",
          "Volkswagen/Second/T-Roc",
          "Toyota/Second/Camry",
          "Volkswagen/First/Tiguan",
          "Audi/Second/Q3",
          "Audi/Second/A3",
          "Ford/Second/Endeavour",
          "Audi/First/A4",
          "Mercedes/First/C-Class",
          "Mercedes/First/GLA",
          "Toyota/Second/Fortuner",
          "Mercedes/Second/GLC",
          "Ford/First/Mustang",
          "Audi/First/A5",
          "Mercedes/First/E-Class",
          "Ford/First/Mustang",
          "BMW/Second/X1",
          "BMW/Second/3 Series",
          "BMW/Second/X3",
          "Mercedes/First/C-Class",
          "BMW/First/5 Series",
          "Audi/First/Q7",
          "Audi/First/A6",
          "BMW/Second/X5",
          "BMW/First/7 Series",
          "Mercedes/Second/GLE",
          "BMW/Second",
          "BMW/First",
          "BMW/First",
          "Audi/Second",
          "Audi/First",
          "Audi/First",
          "Audi/First",
          "Tata/First",
          "Volkswagen/Third",
          "Ford/Third",
          "Honda/First",
          "Mercedes/First",
          "Toyota/Second",
          "Honda/Second",
          "Honda/Second",
          "Toyota/First",
          "Hyundai/Third",
          "Mercedes/First",
          "Ford/Third",
          "Hyundai/Second",
          "Ford/Second",
          "Maruti/First",
          "Ford/Third",
          "Toyota/Second",
          "Mercedes/First",
          "Mercedes/Second",
          "Mercedes/Second",
          "Tata/First",
          "Toyota/First",
          "Toyota/Second",
          "Ford/First",
          "Tata/First",
          "Volkswagen/Second",
          "Volkswagen/First",
          "Audi/Second",
          "Audi/First",
          "Ford/Second",
          "Maruti/Second",
          "Tata/First",
          "Hyundai/Third",
          "Mahindra/Second",
          "Hyundai/Second",
          "Maruti/Third",
          "Volkswagen/Second",
          "Mahindra/First",
          "Tata/First",
          "Tata/First",
          "Volkswagen/First",
          "Volkswagen/Second",
          "Hyundai/Third",
          "Hyundai/Second",
          "Maruti/Second",
          "Honda/First",
          "BMW/Second",
          "BMW/Second",
          "BMW/Second",
          "Mahindra/Second",
          "Toyota/First",
          "Audi",
          "BMW",
          "Ford",
          "Honda",
          "Mahindra",
          "Maruti",
          "Mercedes",
          "Tata",
          "Toyota",
          "Volkswagen",
          "Audi",
          "BMW",
          "Ford",
          "Honda",
          "Hyundai",
          "Mahindra",
          "Maruti",
          "Mercedes",
          "Toyota",
          "Volkswagen",
          "Ford",
          "Hyundai",
          "Maruti",
          "Volkswagen",
          "",
          "",
          "",
          "",
          "",
          "",
          "",
          "",
          "",
          "",
          ""
         ],
         "type": "treemap",
         "values": [
          2,
          2,
          2,
          2,
          1,
          2,
          3,
          2,
          1,
          1,
          1,
          2,
          2,
          2,
          2,
          2,
          2,
          1,
          2,
          1,
          2,
          2,
          1,
          1,
          1,
          3,
          1,
          1,
          2,
          2,
          1,
          2,
          2,
          1,
          2,
          2,
          2,
          1,
          1,
          2,
          1,
          1,
          1,
          2,
          2,
          1,
          1,
          2,
          2,
          2,
          1,
          2,
          2,
          2,
          1,
          2,
          2,
          2,
          2,
          2,
          2,
          1,
          2,
          2,
          1,
          2,
          2,
          3,
          2,
          2,
          2,
          3,
          2,
          1,
          1,
          1,
          1,
          2,
          2,
          2,
          1,
          1,
          1,
          2,
          2,
          1,
          2,
          1,
          1,
          2,
          3,
          1,
          2,
          1,
          1,
          2,
          2,
          2,
          2,
          2,
          1,
          1,
          1,
          2,
          2,
          2,
          2,
          1,
          2,
          2,
          3,
          2,
          2,
          1,
          2,
          2,
          2,
          2,
          7,
          3,
          3,
          4,
          2,
          1,
          7,
          11,
          4,
          2,
          3,
          7,
          3,
          2,
          6,
          3,
          4,
          3,
          6,
          6,
          5,
          5,
          1,
          2,
          10,
          10,
          11,
          6,
          11,
          5,
          6,
          10,
          11,
          10,
          10
         ]
        }
       ],
       "layout": {
        "legend": {
         "tracegroupgap": 0
        },
        "margin": {
         "t": 60
        },
        "template": {
         "data": {
          "bar": [
           {
            "error_x": {
             "color": "#2a3f5f"
            },
            "error_y": {
             "color": "#2a3f5f"
            },
            "marker": {
             "line": {
              "color": "#E5ECF6",
              "width": 0.5
             },
             "pattern": {
              "fillmode": "overlay",
              "size": 10,
              "solidity": 0.2
             }
            },
            "type": "bar"
           }
          ],
          "barpolar": [
           {
            "marker": {
             "line": {
              "color": "#E5ECF6",
              "width": 0.5
             },
             "pattern": {
              "fillmode": "overlay",
              "size": 10,
              "solidity": 0.2
             }
            },
            "type": "barpolar"
           }
          ],
          "carpet": [
           {
            "aaxis": {
             "endlinecolor": "#2a3f5f",
             "gridcolor": "white",
             "linecolor": "white",
             "minorgridcolor": "white",
             "startlinecolor": "#2a3f5f"
            },
            "baxis": {
             "endlinecolor": "#2a3f5f",
             "gridcolor": "white",
             "linecolor": "white",
             "minorgridcolor": "white",
             "startlinecolor": "#2a3f5f"
            },
            "type": "carpet"
           }
          ],
          "choropleth": [
           {
            "colorbar": {
             "outlinewidth": 0,
             "ticks": ""
            },
            "type": "choropleth"
           }
          ],
          "contour": [
           {
            "colorbar": {
             "outlinewidth": 0,
             "ticks": ""
            },
            "colorscale": [
             [
              0,
              "#0d0887"
             ],
             [
              0.1111111111111111,
              "#46039f"
             ],
             [
              0.2222222222222222,
              "#7201a8"
             ],
             [
              0.3333333333333333,
              "#9c179e"
             ],
             [
              0.4444444444444444,
              "#bd3786"
             ],
             [
              0.5555555555555556,
              "#d8576b"
             ],
             [
              0.6666666666666666,
              "#ed7953"
             ],
             [
              0.7777777777777778,
              "#fb9f3a"
             ],
             [
              0.8888888888888888,
              "#fdca26"
             ],
             [
              1,
              "#f0f921"
             ]
            ],
            "type": "contour"
           }
          ],
          "contourcarpet": [
           {
            "colorbar": {
             "outlinewidth": 0,
             "ticks": ""
            },
            "type": "contourcarpet"
           }
          ],
          "heatmap": [
           {
            "colorbar": {
             "outlinewidth": 0,
             "ticks": ""
            },
            "colorscale": [
             [
              0,
              "#0d0887"
             ],
             [
              0.1111111111111111,
              "#46039f"
             ],
             [
              0.2222222222222222,
              "#7201a8"
             ],
             [
              0.3333333333333333,
              "#9c179e"
             ],
             [
              0.4444444444444444,
              "#bd3786"
             ],
             [
              0.5555555555555556,
              "#d8576b"
             ],
             [
              0.6666666666666666,
              "#ed7953"
             ],
             [
              0.7777777777777778,
              "#fb9f3a"
             ],
             [
              0.8888888888888888,
              "#fdca26"
             ],
             [
              1,
              "#f0f921"
             ]
            ],
            "type": "heatmap"
           }
          ],
          "heatmapgl": [
           {
            "colorbar": {
             "outlinewidth": 0,
             "ticks": ""
            },
            "colorscale": [
             [
              0,
              "#0d0887"
             ],
             [
              0.1111111111111111,
              "#46039f"
             ],
             [
              0.2222222222222222,
              "#7201a8"
             ],
             [
              0.3333333333333333,
              "#9c179e"
             ],
             [
              0.4444444444444444,
              "#bd3786"
             ],
             [
              0.5555555555555556,
              "#d8576b"
             ],
             [
              0.6666666666666666,
              "#ed7953"
             ],
             [
              0.7777777777777778,
              "#fb9f3a"
             ],
             [
              0.8888888888888888,
              "#fdca26"
             ],
             [
              1,
              "#f0f921"
             ]
            ],
            "type": "heatmapgl"
           }
          ],
          "histogram": [
           {
            "marker": {
             "pattern": {
              "fillmode": "overlay",
              "size": 10,
              "solidity": 0.2
             }
            },
            "type": "histogram"
           }
          ],
          "histogram2d": [
           {
            "colorbar": {
             "outlinewidth": 0,
             "ticks": ""
            },
            "colorscale": [
             [
              0,
              "#0d0887"
             ],
             [
              0.1111111111111111,
              "#46039f"
             ],
             [
              0.2222222222222222,
              "#7201a8"
             ],
             [
              0.3333333333333333,
              "#9c179e"
             ],
             [
              0.4444444444444444,
              "#bd3786"
             ],
             [
              0.5555555555555556,
              "#d8576b"
             ],
             [
              0.6666666666666666,
              "#ed7953"
             ],
             [
              0.7777777777777778,
              "#fb9f3a"
             ],
             [
              0.8888888888888888,
              "#fdca26"
             ],
             [
              1,
              "#f0f921"
             ]
            ],
            "type": "histogram2d"
           }
          ],
          "histogram2dcontour": [
           {
            "colorbar": {
             "outlinewidth": 0,
             "ticks": ""
            },
            "colorscale": [
             [
              0,
              "#0d0887"
             ],
             [
              0.1111111111111111,
              "#46039f"
             ],
             [
              0.2222222222222222,
              "#7201a8"
             ],
             [
              0.3333333333333333,
              "#9c179e"
             ],
             [
              0.4444444444444444,
              "#bd3786"
             ],
             [
              0.5555555555555556,
              "#d8576b"
             ],
             [
              0.6666666666666666,
              "#ed7953"
             ],
             [
              0.7777777777777778,
              "#fb9f3a"
             ],
             [
              0.8888888888888888,
              "#fdca26"
             ],
             [
              1,
              "#f0f921"
             ]
            ],
            "type": "histogram2dcontour"
           }
          ],
          "mesh3d": [
           {
            "colorbar": {
             "outlinewidth": 0,
             "ticks": ""
            },
            "type": "mesh3d"
           }
          ],
          "parcoords": [
           {
            "line": {
             "colorbar": {
              "outlinewidth": 0,
              "ticks": ""
             }
            },
            "type": "parcoords"
           }
          ],
          "pie": [
           {
            "automargin": true,
            "type": "pie"
           }
          ],
          "scatter": [
           {
            "fillpattern": {
             "fillmode": "overlay",
             "size": 10,
             "solidity": 0.2
            },
            "type": "scatter"
           }
          ],
          "scatter3d": [
           {
            "line": {
             "colorbar": {
              "outlinewidth": 0,
              "ticks": ""
             }
            },
            "marker": {
             "colorbar": {
              "outlinewidth": 0,
              "ticks": ""
             }
            },
            "type": "scatter3d"
           }
          ],
          "scattercarpet": [
           {
            "marker": {
             "colorbar": {
              "outlinewidth": 0,
              "ticks": ""
             }
            },
            "type": "scattercarpet"
           }
          ],
          "scattergeo": [
           {
            "marker": {
             "colorbar": {
              "outlinewidth": 0,
              "ticks": ""
             }
            },
            "type": "scattergeo"
           }
          ],
          "scattergl": [
           {
            "marker": {
             "colorbar": {
              "outlinewidth": 0,
              "ticks": ""
             }
            },
            "type": "scattergl"
           }
          ],
          "scattermapbox": [
           {
            "marker": {
             "colorbar": {
              "outlinewidth": 0,
              "ticks": ""
             }
            },
            "type": "scattermapbox"
           }
          ],
          "scatterpolar": [
           {
            "marker": {
             "colorbar": {
              "outlinewidth": 0,
              "ticks": ""
             }
            },
            "type": "scatterpolar"
           }
          ],
          "scatterpolargl": [
           {
            "marker": {
             "colorbar": {
              "outlinewidth": 0,
              "ticks": ""
             }
            },
            "type": "scatterpolargl"
           }
          ],
          "scatterternary": [
           {
            "marker": {
             "colorbar": {
              "outlinewidth": 0,
              "ticks": ""
             }
            },
            "type": "scatterternary"
           }
          ],
          "surface": [
           {
            "colorbar": {
             "outlinewidth": 0,
             "ticks": ""
            },
            "colorscale": [
             [
              0,
              "#0d0887"
             ],
             [
              0.1111111111111111,
              "#46039f"
             ],
             [
              0.2222222222222222,
              "#7201a8"
             ],
             [
              0.3333333333333333,
              "#9c179e"
             ],
             [
              0.4444444444444444,
              "#bd3786"
             ],
             [
              0.5555555555555556,
              "#d8576b"
             ],
             [
              0.6666666666666666,
              "#ed7953"
             ],
             [
              0.7777777777777778,
              "#fb9f3a"
             ],
             [
              0.8888888888888888,
              "#fdca26"
             ],
             [
              1,
              "#f0f921"
             ]
            ],
            "type": "surface"
           }
          ],
          "table": [
           {
            "cells": {
             "fill": {
              "color": "#EBF0F8"
             },
             "line": {
              "color": "white"
             }
            },
            "header": {
             "fill": {
              "color": "#C8D4E3"
             },
             "line": {
              "color": "white"
             }
            },
            "type": "table"
           }
          ]
         },
         "layout": {
          "annotationdefaults": {
           "arrowcolor": "#2a3f5f",
           "arrowhead": 0,
           "arrowwidth": 1
          },
          "autotypenumbers": "strict",
          "coloraxis": {
           "colorbar": {
            "outlinewidth": 0,
            "ticks": ""
           }
          },
          "colorscale": {
           "diverging": [
            [
             0,
             "#8e0152"
            ],
            [
             0.1,
             "#c51b7d"
            ],
            [
             0.2,
             "#de77ae"
            ],
            [
             0.3,
             "#f1b6da"
            ],
            [
             0.4,
             "#fde0ef"
            ],
            [
             0.5,
             "#f7f7f7"
            ],
            [
             0.6,
             "#e6f5d0"
            ],
            [
             0.7,
             "#b8e186"
            ],
            [
             0.8,
             "#7fbc41"
            ],
            [
             0.9,
             "#4d9221"
            ],
            [
             1,
             "#276419"
            ]
           ],
           "sequential": [
            [
             0,
             "#0d0887"
            ],
            [
             0.1111111111111111,
             "#46039f"
            ],
            [
             0.2222222222222222,
             "#7201a8"
            ],
            [
             0.3333333333333333,
             "#9c179e"
            ],
            [
             0.4444444444444444,
             "#bd3786"
            ],
            [
             0.5555555555555556,
             "#d8576b"
            ],
            [
             0.6666666666666666,
             "#ed7953"
            ],
            [
             0.7777777777777778,
             "#fb9f3a"
            ],
            [
             0.8888888888888888,
             "#fdca26"
            ],
            [
             1,
             "#f0f921"
            ]
           ],
           "sequentialminus": [
            [
             0,
             "#0d0887"
            ],
            [
             0.1111111111111111,
             "#46039f"
            ],
            [
             0.2222222222222222,
             "#7201a8"
            ],
            [
             0.3333333333333333,
             "#9c179e"
            ],
            [
             0.4444444444444444,
             "#bd3786"
            ],
            [
             0.5555555555555556,
             "#d8576b"
            ],
            [
             0.6666666666666666,
             "#ed7953"
            ],
            [
             0.7777777777777778,
             "#fb9f3a"
            ],
            [
             0.8888888888888888,
             "#fdca26"
            ],
            [
             1,
             "#f0f921"
            ]
           ]
          },
          "colorway": [
           "#636efa",
           "#EF553B",
           "#00cc96",
           "#ab63fa",
           "#FFA15A",
           "#19d3f3",
           "#FF6692",
           "#B6E880",
           "#FF97FF",
           "#FECB52"
          ],
          "font": {
           "color": "#2a3f5f"
          },
          "geo": {
           "bgcolor": "white",
           "lakecolor": "white",
           "landcolor": "#E5ECF6",
           "showlakes": true,
           "showland": true,
           "subunitcolor": "white"
          },
          "hoverlabel": {
           "align": "left"
          },
          "hovermode": "closest",
          "mapbox": {
           "style": "light"
          },
          "paper_bgcolor": "white",
          "plot_bgcolor": "#E5ECF6",
          "polar": {
           "angularaxis": {
            "gridcolor": "white",
            "linecolor": "white",
            "ticks": ""
           },
           "bgcolor": "#E5ECF6",
           "radialaxis": {
            "gridcolor": "white",
            "linecolor": "white",
            "ticks": ""
           }
          },
          "scene": {
           "xaxis": {
            "backgroundcolor": "#E5ECF6",
            "gridcolor": "white",
            "gridwidth": 2,
            "linecolor": "white",
            "showbackground": true,
            "ticks": "",
            "zerolinecolor": "white"
           },
           "yaxis": {
            "backgroundcolor": "#E5ECF6",
            "gridcolor": "white",
            "gridwidth": 2,
            "linecolor": "white",
            "showbackground": true,
            "ticks": "",
            "zerolinecolor": "white"
           },
           "zaxis": {
            "backgroundcolor": "#E5ECF6",
            "gridcolor": "white",
            "gridwidth": 2,
            "linecolor": "white",
            "showbackground": true,
            "ticks": "",
            "zerolinecolor": "white"
           }
          },
          "shapedefaults": {
           "line": {
            "color": "#2a3f5f"
           }
          },
          "ternary": {
           "aaxis": {
            "gridcolor": "white",
            "linecolor": "white",
            "ticks": ""
           },
           "baxis": {
            "gridcolor": "white",
            "linecolor": "white",
            "ticks": ""
           },
           "bgcolor": "#E5ECF6",
           "caxis": {
            "gridcolor": "white",
            "linecolor": "white",
            "ticks": ""
           }
          },
          "title": {
           "x": 0.05
          },
          "xaxis": {
           "automargin": true,
           "gridcolor": "white",
           "linecolor": "white",
           "ticks": "",
           "title": {
            "standoff": 15
           },
           "zerolinecolor": "white",
           "zerolinewidth": 2
          },
          "yaxis": {
           "automargin": true,
           "gridcolor": "white",
           "linecolor": "white",
           "ticks": "",
           "title": {
            "standoff": 15
           },
           "zerolinecolor": "white",
           "zerolinewidth": 2
          }
         }
        }
       }
      }
     },
     "metadata": {},
     "output_type": "display_data"
    }
   ],
   "source": [
    "grafico = px.treemap(base_carros, path=['Brand','Owner_Type','Model','Price'])\n",
    "grafico.show()"
   ]
  },
  {
   "cell_type": "markdown",
   "metadata": {},
   "source": [
    "Aqui vemos uma relação proporcional entre a desvalorização e a quantidade de revendas, com pequenas situações que podem fugir deste cenário por conta do modelo do veículo, que já é mais caro a priori."
   ]
  },
  {
   "cell_type": "code",
   "execution_count": 396,
   "metadata": {},
   "outputs": [
    {
     "data": {
      "text/html": [
       "<div>\n",
       "<style scoped>\n",
       "    .dataframe tbody tr th:only-of-type {\n",
       "        vertical-align: middle;\n",
       "    }\n",
       "\n",
       "    .dataframe tbody tr th {\n",
       "        vertical-align: top;\n",
       "    }\n",
       "\n",
       "    .dataframe thead th {\n",
       "        text-align: right;\n",
       "    }\n",
       "</style>\n",
       "<table border=\"1\" class=\"dataframe\">\n",
       "  <thead>\n",
       "    <tr style=\"text-align: right;\">\n",
       "      <th></th>\n",
       "      <th>Brand</th>\n",
       "      <th>Model</th>\n",
       "      <th>Year</th>\n",
       "      <th>Kilometers_Driven</th>\n",
       "      <th>Owner_Type</th>\n",
       "      <th>Seats</th>\n",
       "      <th>Price</th>\n",
       "    </tr>\n",
       "  </thead>\n",
       "  <tbody>\n",
       "    <tr>\n",
       "      <th>0</th>\n",
       "      <td>Toyota</td>\n",
       "      <td>Corolla</td>\n",
       "      <td>2018</td>\n",
       "      <td>50000</td>\n",
       "      <td>First</td>\n",
       "      <td>5</td>\n",
       "      <td>49600.0</td>\n",
       "    </tr>\n",
       "    <tr>\n",
       "      <th>1</th>\n",
       "      <td>Honda</td>\n",
       "      <td>Civic</td>\n",
       "      <td>2019</td>\n",
       "      <td>40000</td>\n",
       "      <td>Second</td>\n",
       "      <td>5</td>\n",
       "      <td>62000.0</td>\n",
       "    </tr>\n",
       "    <tr>\n",
       "      <th>2</th>\n",
       "      <td>Ford</td>\n",
       "      <td>Mustang</td>\n",
       "      <td>2017</td>\n",
       "      <td>20000</td>\n",
       "      <td>First</td>\n",
       "      <td>4</td>\n",
       "      <td>155000.0</td>\n",
       "    </tr>\n",
       "    <tr>\n",
       "      <th>3</th>\n",
       "      <td>Maruti</td>\n",
       "      <td>Swift</td>\n",
       "      <td>2020</td>\n",
       "      <td>30000</td>\n",
       "      <td>Third</td>\n",
       "      <td>5</td>\n",
       "      <td>37200.0</td>\n",
       "    </tr>\n",
       "    <tr>\n",
       "      <th>4</th>\n",
       "      <td>Hyundai</td>\n",
       "      <td>Sonata</td>\n",
       "      <td>2016</td>\n",
       "      <td>60000</td>\n",
       "      <td>Second</td>\n",
       "      <td>5</td>\n",
       "      <td>52700.0</td>\n",
       "    </tr>\n",
       "    <tr>\n",
       "      <th>...</th>\n",
       "      <td>...</td>\n",
       "      <td>...</td>\n",
       "      <td>...</td>\n",
       "      <td>...</td>\n",
       "      <td>...</td>\n",
       "      <td>...</td>\n",
       "      <td>...</td>\n",
       "    </tr>\n",
       "    <tr>\n",
       "      <th>95</th>\n",
       "      <td>Mercedes</td>\n",
       "      <td>C-Class</td>\n",
       "      <td>2019</td>\n",
       "      <td>22000</td>\n",
       "      <td>First</td>\n",
       "      <td>5</td>\n",
       "      <td>179800.0</td>\n",
       "    </tr>\n",
       "    <tr>\n",
       "      <th>96</th>\n",
       "      <td>Toyota</td>\n",
       "      <td>Innova Crysta</td>\n",
       "      <td>2017</td>\n",
       "      <td>38000</td>\n",
       "      <td>Second</td>\n",
       "      <td>7</td>\n",
       "      <td>86800.0</td>\n",
       "    </tr>\n",
       "    <tr>\n",
       "      <th>97</th>\n",
       "      <td>Ford</td>\n",
       "      <td>EcoSport</td>\n",
       "      <td>2018</td>\n",
       "      <td>26000</td>\n",
       "      <td>Third</td>\n",
       "      <td>5</td>\n",
       "      <td>46500.0</td>\n",
       "    </tr>\n",
       "    <tr>\n",
       "      <th>98</th>\n",
       "      <td>Hyundai</td>\n",
       "      <td>Verna</td>\n",
       "      <td>2019</td>\n",
       "      <td>24000</td>\n",
       "      <td>Second</td>\n",
       "      <td>5</td>\n",
       "      <td>52700.0</td>\n",
       "    </tr>\n",
       "    <tr>\n",
       "      <th>99</th>\n",
       "      <td>Tata</td>\n",
       "      <td>Altroz</td>\n",
       "      <td>2020</td>\n",
       "      <td>18000</td>\n",
       "      <td>First</td>\n",
       "      <td>5</td>\n",
       "      <td>37200.0</td>\n",
       "    </tr>\n",
       "  </tbody>\n",
       "</table>\n",
       "<p>100 rows × 7 columns</p>\n",
       "</div>"
      ],
      "text/plain": [
       "       Brand          Model  Year  Kilometers_Driven Owner_Type  Seats  \\\n",
       "0     Toyota        Corolla  2018              50000      First      5   \n",
       "1      Honda          Civic  2019              40000     Second      5   \n",
       "2       Ford        Mustang  2017              20000      First      4   \n",
       "3     Maruti          Swift  2020              30000      Third      5   \n",
       "4    Hyundai         Sonata  2016              60000     Second      5   \n",
       "..       ...            ...   ...                ...        ...    ...   \n",
       "95  Mercedes        C-Class  2019              22000      First      5   \n",
       "96    Toyota  Innova Crysta  2017              38000     Second      7   \n",
       "97      Ford       EcoSport  2018              26000      Third      5   \n",
       "98   Hyundai          Verna  2019              24000     Second      5   \n",
       "99      Tata         Altroz  2020              18000      First      5   \n",
       "\n",
       "       Price  \n",
       "0    49600.0  \n",
       "1    62000.0  \n",
       "2   155000.0  \n",
       "3    37200.0  \n",
       "4    52700.0  \n",
       "..       ...  \n",
       "95  179800.0  \n",
       "96   86800.0  \n",
       "97   46500.0  \n",
       "98   52700.0  \n",
       "99   37200.0  \n",
       "\n",
       "[100 rows x 7 columns]"
      ]
     },
     "execution_count": 396,
     "metadata": {},
     "output_type": "execute_result"
    }
   ],
   "source": [
    "base_carros"
   ]
  },
  {
   "cell_type": "code",
   "execution_count": 397,
   "metadata": {},
   "outputs": [
    {
     "data": {
      "text/plain": [
       "array([['Corolla', 2018, 50000, 'First', 5, 49600.0],\n",
       "       ['Civic', 2019, 40000, 'Second', 5, 62000.0],\n",
       "       ['Mustang', 2017, 20000, 'First', 4, 155000.0],\n",
       "       ['Swift', 2020, 30000, 'Third', 5, 37200.0],\n",
       "       ['Sonata', 2016, 60000, 'Second', 5, 52700.0],\n",
       "       ['Nexon', 2019, 35000, 'First', 5, 46500.0],\n",
       "       ['Scorpio', 2018, 45000, 'Second', 7, 55800.0],\n",
       "       ['Polo', 2020, 25000, 'First', 5, 40300.0],\n",
       "       ['A4', 2017, 30000, 'First', 5, 136400.0],\n",
       "       ['X1', 2019, 20000, 'Second', 5, 167400.0],\n",
       "       ['C-Class', 2018, 28000, 'First', 5, 142600.0],\n",
       "       ['Endeavour', 2017, 35000, 'Second', 7, 124000.0],\n",
       "       ['Creta', 2019, 22000, 'Third', 5, 52700.0],\n",
       "       ['Harrier', 2018, 40000, 'First', 5, 99200.0],\n",
       "       ['Ertiga', 2020, 18000, 'First', 7, 52700.0],\n",
       "       ['City', 2017, 42000, 'Second', 5, 40300.0],\n",
       "       ['Tiguan', 2018, 32000, 'First', 5, 111600.0],\n",
       "       ['Q3', 2016, 38000, 'Second', 5, 117800.0],\n",
       "       ['5 Series', 2019, 24000, 'First', 5, 186000.0],\n",
       "       ['GLC', 2017, 26000, 'Second', 5, 155000.0],\n",
       "       ['Innova', 2018, 50000, 'First', 7, 86800.0],\n",
       "       ['Figo', 2020, 15000, 'Third', 5, 34100.0],\n",
       "       ['Verna', 2019, 26000, 'Second', 5, 52700.0],\n",
       "       ['Altroz', 2020, 18000, 'First', 5, 37200.0],\n",
       "       ['Thar', 2021, 10000, 'First', 4, 74400.0],\n",
       "       ['Passat', 2017, 32000, 'Second', 5, 99200.0],\n",
       "       ['A6', 2018, 28000, 'First', 5, 198400.0],\n",
       "       ['X3', 2019, 22000, 'Second', 5, 173600.0],\n",
       "       ['E-Class', 2017, 30000, 'First', 5, 167400.0],\n",
       "       ['Fortuner', 2018, 38000, 'Second', 7, 155000.0],\n",
       "       ['Aspire', 2019, 26000, 'Third', 5, 37200.0],\n",
       "       ['Elantra', 2017, 32000, 'Second', 5, 49600.0],\n",
       "       ['Safari', 2018, 42000, 'First', 7, 80600.0],\n",
       "       ['Vitara', 2019, 24000, 'Second', 5, 43400.0],\n",
       "       ['WR-V', 2018, 28000, 'First', 5, 46500.0],\n",
       "       ['Ameo', 2020, 15000, 'Third', 5, 31000.0],\n",
       "       ['A3', 2017, 38000, 'Second', 5, 124000.0],\n",
       "       ['7 Series', 2019, 22000, 'First', 5, 217000.0],\n",
       "       ['GLE', 2018, 26000, 'Second', 5, 248000.0],\n",
       "       ['Yaris', 2020, 18000, 'First', 5, 40300.0],\n",
       "       ['Ranger', 2017, 38000, 'Second', 5, 93000.0],\n",
       "       ['Santro', 2019, 26000, 'Third', 5, 27900.0],\n",
       "       ['Tigor', 2018, 42000, 'First', 5, 31000.0],\n",
       "       ['S-Cross', 2020, 15000, 'Second', 5, 43400.0],\n",
       "       ['BR-V', 2018, 28000, 'First', 7, 52700.0],\n",
       "       ['T-Roc', 2019, 22000, 'Second', 5, 99200.0],\n",
       "       ['Q7', 2017, 30000, 'First', 7, 186000.0],\n",
       "       ['X5', 2018, 28000, 'Second', 5, 198400.0],\n",
       "       ['GLA', 2019, 24000, 'First', 5, 148800.0],\n",
       "       ['Camry', 2016, 38000, 'Second', 5, 111600.0],\n",
       "       ['Mustang', 2019, 22000, 'First', 4, 167400.0],\n",
       "       ['Venue', 2018, 32000, 'Third', 5, 34100.0],\n",
       "       ['Tiago', 2020, 18000, 'First', 5, 31000.0],\n",
       "       ['XUV300', 2019, 26000, 'Second', 5, 43400.0],\n",
       "       ['Vento', 2017, 32000, 'Second', 5, 40300.0],\n",
       "       ['A5', 2018, 28000, 'First', 5, 161200.0],\n",
       "       ['3 Series', 2020, 15000, 'Second', 5, 173600.0],\n",
       "       ['C-Class', 2019, 22000, 'First', 5, 179800.0],\n",
       "       ['Innova Crysta', 2017, 38000, 'Second', 7, 86800.0],\n",
       "       ['EcoSport', 2018, 26000, 'Third', 5, 46500.0],\n",
       "       ['Verna', 2019, 24000, 'Second', 5, 52700.0],\n",
       "       ['Altroz', 2020, 18000, 'First', 5, 37200.0],\n",
       "       ['Thar', 2021, 10000, 'First', 4, 74400.0],\n",
       "       ['Passat', 2017, 32000, 'Second', 5, 99200.0],\n",
       "       ['A6', 2018, 28000, 'First', 5, 198400.0],\n",
       "       ['X3', 2019, 22000, 'Second', 5, 173600.0],\n",
       "       ['E-Class', 2017, 30000, 'First', 5, 167400.0],\n",
       "       ['Fortuner', 2018, 38000, 'Second', 7, 155000.0],\n",
       "       ['Aspire', 2019, 26000, 'Third', 5, 37200.0],\n",
       "       ['Elantra', 2017, 32000, 'Second', 5, 49600.0],\n",
       "       ['Safari', 2018, 42000, 'First', 7, 80600.0],\n",
       "       ['Vitara', 2019, 24000, 'Second', 5, 43400.0],\n",
       "       ['WR-V', 2018, 28000, 'First', 5, 46500.0],\n",
       "       ['Ameo', 2020, 15000, 'Third', 5, 31000.0],\n",
       "       ['A3', 2017, 38000, 'Second', 5, 124000.0],\n",
       "       ['7 Series', 2019, 22000, 'First', 5, 217000.0],\n",
       "       ['GLE', 2018, 26000, 'Second', 5, 248000.0],\n",
       "       ['Yaris', 2020, 18000, 'First', 5, 40300.0],\n",
       "       ['Ranger', 2017, 38000, 'Second', 5, 93000.0],\n",
       "       ['Santro', 2019, 26000, 'Third', 5, 27900.0],\n",
       "       ['Tigor', 2018, 42000, 'First', 5, 31000.0],\n",
       "       ['S-Cross', 2020, 15000, 'Second', 5, 43400.0],\n",
       "       ['BR-V', 2018, 28000, 'First', 7, 52700.0],\n",
       "       ['T-Roc', 2019, 22000, 'Second', 5, 99200.0],\n",
       "       ['Q7', 2017, 30000, 'First', 7, 186000.0],\n",
       "       ['X5', 2018, 28000, 'Second', 5, 198400.0],\n",
       "       ['GLA', 2019, 24000, 'First', 5, 148800.0],\n",
       "       ['Camry', 2016, 38000, 'Second', 5, 111600.0],\n",
       "       ['Mustang', 2019, 22000, 'First', 4, 167400.0],\n",
       "       ['Venue', 2018, 32000, 'Third', 5, 34100.0],\n",
       "       ['Tiago', 2020, 18000, 'First', 5, 31000.0],\n",
       "       ['XUV300', 2019, 26000, 'Second', 5, 43400.0],\n",
       "       ['Vento', 2017, 32000, 'Second', 5, 40300.0],\n",
       "       ['A5', 2018, 28000, 'First', 5, 161200.0],\n",
       "       ['3 Series', 2020, 15000, 'Second', 5, 173600.0],\n",
       "       ['C-Class', 2019, 22000, 'First', 5, 179800.0],\n",
       "       ['Innova Crysta', 2017, 38000, 'Second', 7, 86800.0],\n",
       "       ['EcoSport', 2018, 26000, 'Third', 5, 46500.0],\n",
       "       ['Verna', 2019, 24000, 'Second', 5, 52700.0],\n",
       "       ['Altroz', 2020, 18000, 'First', 5, 37200.0]], dtype=object)"
      ]
     },
     "execution_count": 397,
     "metadata": {},
     "output_type": "execute_result"
    }
   ],
   "source": [
    "#Previsores\n",
    "X_carros = base_carros.iloc[:,1:7].values\n",
    "X_carros"
   ]
  },
  {
   "cell_type": "code",
   "execution_count": 398,
   "metadata": {},
   "outputs": [
    {
     "data": {
      "text/plain": [
       "array(['Toyota', 'Honda', 'Ford', 'Maruti', 'Hyundai', 'Tata', 'Mahindra',\n",
       "       'Volkswagen', 'Audi', 'BMW', 'Mercedes', 'Ford', 'Hyundai', 'Tata',\n",
       "       'Maruti', 'Honda', 'Volkswagen', 'Audi', 'BMW', 'Mercedes',\n",
       "       'Toyota', 'Ford', 'Hyundai', 'Tata', 'Mahindra', 'Volkswagen',\n",
       "       'Audi', 'BMW', 'Mercedes', 'Toyota', 'Ford', 'Hyundai', 'Tata',\n",
       "       'Maruti', 'Honda', 'Volkswagen', 'Audi', 'BMW', 'Mercedes',\n",
       "       'Toyota', 'Ford', 'Hyundai', 'Tata', 'Maruti', 'Honda',\n",
       "       'Volkswagen', 'Audi', 'BMW', 'Mercedes', 'Toyota', 'Ford',\n",
       "       'Hyundai', 'Tata', 'Mahindra', 'Volkswagen', 'Audi', 'BMW',\n",
       "       'Mercedes', 'Toyota', 'Ford', 'Hyundai', 'Tata', 'Mahindra',\n",
       "       'Volkswagen', 'Audi', 'BMW', 'Mercedes', 'Toyota', 'Ford',\n",
       "       'Hyundai', 'Tata', 'Maruti', 'Honda', 'Volkswagen', 'Audi', 'BMW',\n",
       "       'Mercedes', 'Toyota', 'Ford', 'Hyundai', 'Tata', 'Maruti', 'Honda',\n",
       "       'Volkswagen', 'Audi', 'BMW', 'Mercedes', 'Toyota', 'Ford',\n",
       "       'Hyundai', 'Tata', 'Mahindra', 'Volkswagen', 'Audi', 'BMW',\n",
       "       'Mercedes', 'Toyota', 'Ford', 'Hyundai', 'Tata'], dtype=object)"
      ]
     },
     "execution_count": 398,
     "metadata": {},
     "output_type": "execute_result"
    }
   ],
   "source": [
    "#Classificadores\n",
    "Y_carros = base_carros.iloc[:,0].values\n",
    "Y_carros"
   ]
  },
  {
   "cell_type": "markdown",
   "metadata": {},
   "source": [
    "//Encodificar atributos categóricos (Strings principalmente)"
   ]
  },
  {
   "cell_type": "code",
   "execution_count": 399,
   "metadata": {},
   "outputs": [],
   "source": [
    "from sklearn.preprocessing import LabelEncoder"
   ]
  },
  {
   "cell_type": "code",
   "execution_count": 400,
   "metadata": {},
   "outputs": [],
   "source": [
    "label_encoder_model = LabelEncoder()"
   ]
  },
  {
   "cell_type": "code",
   "execution_count": 401,
   "metadata": {},
   "outputs": [
    {
     "data": {
      "text/plain": [
       "array(['Corolla', 'Civic', 'Mustang', 'Swift', 'Sonata', 'Nexon',\n",
       "       'Scorpio', 'Polo', 'A4', 'X1', 'C-Class', 'Endeavour', 'Creta',\n",
       "       'Harrier', 'Ertiga', 'City', 'Tiguan', 'Q3', '5 Series', 'GLC',\n",
       "       'Innova', 'Figo', 'Verna', 'Altroz', 'Thar', 'Passat', 'A6', 'X3',\n",
       "       'E-Class', 'Fortuner', 'Aspire', 'Elantra', 'Safari', 'Vitara',\n",
       "       'WR-V', 'Ameo', 'A3', '7 Series', 'GLE', 'Yaris', 'Ranger',\n",
       "       'Santro', 'Tigor', 'S-Cross', 'BR-V', 'T-Roc', 'Q7', 'X5', 'GLA',\n",
       "       'Camry', 'Mustang', 'Venue', 'Tiago', 'XUV300', 'Vento', 'A5',\n",
       "       '3 Series', 'C-Class', 'Innova Crysta', 'EcoSport', 'Verna',\n",
       "       'Altroz', 'Thar', 'Passat', 'A6', 'X3', 'E-Class', 'Fortuner',\n",
       "       'Aspire', 'Elantra', 'Safari', 'Vitara', 'WR-V', 'Ameo', 'A3',\n",
       "       '7 Series', 'GLE', 'Yaris', 'Ranger', 'Santro', 'Tigor', 'S-Cross',\n",
       "       'BR-V', 'T-Roc', 'Q7', 'X5', 'GLA', 'Camry', 'Mustang', 'Venue',\n",
       "       'Tiago', 'XUV300', 'Vento', 'A5', '3 Series', 'C-Class',\n",
       "       'Innova Crysta', 'EcoSport', 'Verna', 'Altroz'], dtype=object)"
      ]
     },
     "execution_count": 401,
     "metadata": {},
     "output_type": "execute_result"
    }
   ],
   "source": [
    "X_carros[:,0]"
   ]
  },
  {
   "cell_type": "code",
   "execution_count": 402,
   "metadata": {},
   "outputs": [],
   "source": [
    "X_carros[:,0] = label_encoder_model.fit_transform(X_carros[:,0])"
   ]
  },
  {
   "cell_type": "code",
   "execution_count": 403,
   "metadata": {},
   "outputs": [
    {
     "data": {
      "text/plain": [
       "array([15, 14, 30, 42, 41, 31, 40, 33, 4, 53, 11, 20, 16, 27, 21, 13, 47,\n",
       "       34, 1, 25, 28, 22, 50, 7, 44, 32, 6, 54, 17, 23, 9, 19, 38, 51, 52,\n",
       "       8, 3, 2, 26, 57, 36, 39, 46, 37, 10, 43, 35, 55, 24, 12, 30, 49,\n",
       "       45, 56, 48, 5, 0, 11, 29, 18, 50, 7, 44, 32, 6, 54, 17, 23, 9, 19,\n",
       "       38, 51, 52, 8, 3, 2, 26, 57, 36, 39, 46, 37, 10, 43, 35, 55, 24,\n",
       "       12, 30, 49, 45, 56, 48, 5, 0, 11, 29, 18, 50, 7], dtype=object)"
      ]
     },
     "execution_count": 403,
     "metadata": {},
     "output_type": "execute_result"
    }
   ],
   "source": [
    "X_carros[:,0]"
   ]
  },
  {
   "cell_type": "markdown",
   "metadata": {},
   "source": [
    "Usando essa tática pra cada atributo categórico de tipon string..."
   ]
  },
  {
   "cell_type": "code",
   "execution_count": 404,
   "metadata": {},
   "outputs": [],
   "source": [
    "\n",
    "label_encoder_owner = LabelEncoder()"
   ]
  },
  {
   "cell_type": "code",
   "execution_count": 405,
   "metadata": {},
   "outputs": [],
   "source": [
    "X_carros[:,3] = label_encoder_owner.fit_transform(X_carros[:,3])"
   ]
  },
  {
   "cell_type": "code",
   "execution_count": 406,
   "metadata": {},
   "outputs": [
    {
     "data": {
      "text/plain": [
       "array([0, 1, 0, 2, 1, 0, 1, 0, 0, 1, 0, 1, 2, 0, 0, 1, 0, 1, 0, 1, 0, 2,\n",
       "       1, 0, 0, 1, 0, 1, 0, 1, 2, 1, 0, 1, 0, 2, 1, 0, 1, 0, 1, 2, 0, 1,\n",
       "       0, 1, 0, 1, 0, 1, 0, 2, 0, 1, 1, 0, 1, 0, 1, 2, 1, 0, 0, 1, 0, 1,\n",
       "       0, 1, 2, 1, 0, 1, 0, 2, 1, 0, 1, 0, 1, 2, 0, 1, 0, 1, 0, 1, 0, 1,\n",
       "       0, 2, 0, 1, 1, 0, 1, 0, 1, 2, 1, 0], dtype=object)"
      ]
     },
     "execution_count": 406,
     "metadata": {},
     "output_type": "execute_result"
    }
   ],
   "source": [
    "X_carros[:,3]"
   ]
  },
  {
   "cell_type": "code",
   "execution_count": 407,
   "metadata": {},
   "outputs": [
    {
     "data": {
      "text/plain": [
       "array([[15, 2018, 50000, 0, 5, 49600.0],\n",
       "       [14, 2019, 40000, 1, 5, 62000.0],\n",
       "       [30, 2017, 20000, 0, 4, 155000.0],\n",
       "       [42, 2020, 30000, 2, 5, 37200.0],\n",
       "       [41, 2016, 60000, 1, 5, 52700.0],\n",
       "       [31, 2019, 35000, 0, 5, 46500.0],\n",
       "       [40, 2018, 45000, 1, 7, 55800.0],\n",
       "       [33, 2020, 25000, 0, 5, 40300.0],\n",
       "       [4, 2017, 30000, 0, 5, 136400.0],\n",
       "       [53, 2019, 20000, 1, 5, 167400.0],\n",
       "       [11, 2018, 28000, 0, 5, 142600.0],\n",
       "       [20, 2017, 35000, 1, 7, 124000.0],\n",
       "       [16, 2019, 22000, 2, 5, 52700.0],\n",
       "       [27, 2018, 40000, 0, 5, 99200.0],\n",
       "       [21, 2020, 18000, 0, 7, 52700.0],\n",
       "       [13, 2017, 42000, 1, 5, 40300.0],\n",
       "       [47, 2018, 32000, 0, 5, 111600.0],\n",
       "       [34, 2016, 38000, 1, 5, 117800.0],\n",
       "       [1, 2019, 24000, 0, 5, 186000.0],\n",
       "       [25, 2017, 26000, 1, 5, 155000.0],\n",
       "       [28, 2018, 50000, 0, 7, 86800.0],\n",
       "       [22, 2020, 15000, 2, 5, 34100.0],\n",
       "       [50, 2019, 26000, 1, 5, 52700.0],\n",
       "       [7, 2020, 18000, 0, 5, 37200.0],\n",
       "       [44, 2021, 10000, 0, 4, 74400.0],\n",
       "       [32, 2017, 32000, 1, 5, 99200.0],\n",
       "       [6, 2018, 28000, 0, 5, 198400.0],\n",
       "       [54, 2019, 22000, 1, 5, 173600.0],\n",
       "       [17, 2017, 30000, 0, 5, 167400.0],\n",
       "       [23, 2018, 38000, 1, 7, 155000.0],\n",
       "       [9, 2019, 26000, 2, 5, 37200.0],\n",
       "       [19, 2017, 32000, 1, 5, 49600.0],\n",
       "       [38, 2018, 42000, 0, 7, 80600.0],\n",
       "       [51, 2019, 24000, 1, 5, 43400.0],\n",
       "       [52, 2018, 28000, 0, 5, 46500.0],\n",
       "       [8, 2020, 15000, 2, 5, 31000.0],\n",
       "       [3, 2017, 38000, 1, 5, 124000.0],\n",
       "       [2, 2019, 22000, 0, 5, 217000.0],\n",
       "       [26, 2018, 26000, 1, 5, 248000.0],\n",
       "       [57, 2020, 18000, 0, 5, 40300.0],\n",
       "       [36, 2017, 38000, 1, 5, 93000.0],\n",
       "       [39, 2019, 26000, 2, 5, 27900.0],\n",
       "       [46, 2018, 42000, 0, 5, 31000.0],\n",
       "       [37, 2020, 15000, 1, 5, 43400.0],\n",
       "       [10, 2018, 28000, 0, 7, 52700.0],\n",
       "       [43, 2019, 22000, 1, 5, 99200.0],\n",
       "       [35, 2017, 30000, 0, 7, 186000.0],\n",
       "       [55, 2018, 28000, 1, 5, 198400.0],\n",
       "       [24, 2019, 24000, 0, 5, 148800.0],\n",
       "       [12, 2016, 38000, 1, 5, 111600.0],\n",
       "       [30, 2019, 22000, 0, 4, 167400.0],\n",
       "       [49, 2018, 32000, 2, 5, 34100.0],\n",
       "       [45, 2020, 18000, 0, 5, 31000.0],\n",
       "       [56, 2019, 26000, 1, 5, 43400.0],\n",
       "       [48, 2017, 32000, 1, 5, 40300.0],\n",
       "       [5, 2018, 28000, 0, 5, 161200.0],\n",
       "       [0, 2020, 15000, 1, 5, 173600.0],\n",
       "       [11, 2019, 22000, 0, 5, 179800.0],\n",
       "       [29, 2017, 38000, 1, 7, 86800.0],\n",
       "       [18, 2018, 26000, 2, 5, 46500.0],\n",
       "       [50, 2019, 24000, 1, 5, 52700.0],\n",
       "       [7, 2020, 18000, 0, 5, 37200.0],\n",
       "       [44, 2021, 10000, 0, 4, 74400.0],\n",
       "       [32, 2017, 32000, 1, 5, 99200.0],\n",
       "       [6, 2018, 28000, 0, 5, 198400.0],\n",
       "       [54, 2019, 22000, 1, 5, 173600.0],\n",
       "       [17, 2017, 30000, 0, 5, 167400.0],\n",
       "       [23, 2018, 38000, 1, 7, 155000.0],\n",
       "       [9, 2019, 26000, 2, 5, 37200.0],\n",
       "       [19, 2017, 32000, 1, 5, 49600.0],\n",
       "       [38, 2018, 42000, 0, 7, 80600.0],\n",
       "       [51, 2019, 24000, 1, 5, 43400.0],\n",
       "       [52, 2018, 28000, 0, 5, 46500.0],\n",
       "       [8, 2020, 15000, 2, 5, 31000.0],\n",
       "       [3, 2017, 38000, 1, 5, 124000.0],\n",
       "       [2, 2019, 22000, 0, 5, 217000.0],\n",
       "       [26, 2018, 26000, 1, 5, 248000.0],\n",
       "       [57, 2020, 18000, 0, 5, 40300.0],\n",
       "       [36, 2017, 38000, 1, 5, 93000.0],\n",
       "       [39, 2019, 26000, 2, 5, 27900.0],\n",
       "       [46, 2018, 42000, 0, 5, 31000.0],\n",
       "       [37, 2020, 15000, 1, 5, 43400.0],\n",
       "       [10, 2018, 28000, 0, 7, 52700.0],\n",
       "       [43, 2019, 22000, 1, 5, 99200.0],\n",
       "       [35, 2017, 30000, 0, 7, 186000.0],\n",
       "       [55, 2018, 28000, 1, 5, 198400.0],\n",
       "       [24, 2019, 24000, 0, 5, 148800.0],\n",
       "       [12, 2016, 38000, 1, 5, 111600.0],\n",
       "       [30, 2019, 22000, 0, 4, 167400.0],\n",
       "       [49, 2018, 32000, 2, 5, 34100.0],\n",
       "       [45, 2020, 18000, 0, 5, 31000.0],\n",
       "       [56, 2019, 26000, 1, 5, 43400.0],\n",
       "       [48, 2017, 32000, 1, 5, 40300.0],\n",
       "       [5, 2018, 28000, 0, 5, 161200.0],\n",
       "       [0, 2020, 15000, 1, 5, 173600.0],\n",
       "       [11, 2019, 22000, 0, 5, 179800.0],\n",
       "       [29, 2017, 38000, 1, 7, 86800.0],\n",
       "       [18, 2018, 26000, 2, 5, 46500.0],\n",
       "       [50, 2019, 24000, 1, 5, 52700.0],\n",
       "       [7, 2020, 18000, 0, 5, 37200.0]], dtype=object)"
      ]
     },
     "execution_count": 407,
     "metadata": {},
     "output_type": "execute_result"
    }
   ],
   "source": [
    "X_carros"
   ]
  },
  {
   "cell_type": "markdown",
   "metadata": {},
   "source": [
    "Agora que todos os dados estão em formato numérico, usaremos o one hot encoder para retirar o 'peso' das categorias numeradas."
   ]
  },
  {
   "cell_type": "code",
   "execution_count": 408,
   "metadata": {},
   "outputs": [],
   "source": [
    "from sklearn.preprocessing import OneHotEncoder\n",
    "from sklearn.compose import ColumnTransformer"
   ]
  },
  {
   "cell_type": "code",
   "execution_count": 409,
   "metadata": {},
   "outputs": [],
   "source": [
    "onehotencoder_carros = ColumnTransformer(transformers=[('OneHot', OneHotEncoder(), [0,3])], remainder='passthrough')"
   ]
  },
  {
   "cell_type": "code",
   "execution_count": 410,
   "metadata": {},
   "outputs": [],
   "source": [
    "X_carros = onehotencoder_carros.fit_transform(X_carros).toarray()"
   ]
  },
  {
   "cell_type": "code",
   "execution_count": 411,
   "metadata": {},
   "outputs": [
    {
     "data": {
      "text/plain": [
       "array([[0.00e+00, 0.00e+00, 0.00e+00, ..., 5.00e+04, 5.00e+00, 4.96e+04],\n",
       "       [0.00e+00, 0.00e+00, 0.00e+00, ..., 4.00e+04, 5.00e+00, 6.20e+04],\n",
       "       [0.00e+00, 0.00e+00, 0.00e+00, ..., 2.00e+04, 4.00e+00, 1.55e+05],\n",
       "       ...,\n",
       "       [0.00e+00, 0.00e+00, 0.00e+00, ..., 2.60e+04, 5.00e+00, 4.65e+04],\n",
       "       [0.00e+00, 0.00e+00, 0.00e+00, ..., 2.40e+04, 5.00e+00, 5.27e+04],\n",
       "       [0.00e+00, 0.00e+00, 0.00e+00, ..., 1.80e+04, 5.00e+00, 3.72e+04]])"
      ]
     },
     "execution_count": 411,
     "metadata": {},
     "output_type": "execute_result"
    }
   ],
   "source": [
    "X_carros"
   ]
  },
  {
   "cell_type": "code",
   "execution_count": 412,
   "metadata": {},
   "outputs": [
    {
     "data": {
      "text/plain": [
       "array([0.000e+00, 0.000e+00, 0.000e+00, 0.000e+00, 0.000e+00, 0.000e+00,\n",
       "       0.000e+00, 0.000e+00, 0.000e+00, 0.000e+00, 0.000e+00, 0.000e+00,\n",
       "       0.000e+00, 0.000e+00, 0.000e+00, 1.000e+00, 0.000e+00, 0.000e+00,\n",
       "       0.000e+00, 0.000e+00, 0.000e+00, 0.000e+00, 0.000e+00, 0.000e+00,\n",
       "       0.000e+00, 0.000e+00, 0.000e+00, 0.000e+00, 0.000e+00, 0.000e+00,\n",
       "       0.000e+00, 0.000e+00, 0.000e+00, 0.000e+00, 0.000e+00, 0.000e+00,\n",
       "       0.000e+00, 0.000e+00, 0.000e+00, 0.000e+00, 0.000e+00, 0.000e+00,\n",
       "       0.000e+00, 0.000e+00, 0.000e+00, 0.000e+00, 0.000e+00, 0.000e+00,\n",
       "       0.000e+00, 0.000e+00, 0.000e+00, 0.000e+00, 0.000e+00, 0.000e+00,\n",
       "       0.000e+00, 0.000e+00, 0.000e+00, 0.000e+00, 1.000e+00, 0.000e+00,\n",
       "       0.000e+00, 2.018e+03, 5.000e+04, 5.000e+00, 4.960e+04])"
      ]
     },
     "execution_count": 412,
     "metadata": {},
     "output_type": "execute_result"
    }
   ],
   "source": [
    "X_carros[0]"
   ]
  },
  {
   "cell_type": "code",
   "execution_count": 413,
   "metadata": {},
   "outputs": [
    {
     "data": {
      "text/plain": [
       "(100, 65)"
      ]
     },
     "execution_count": 413,
     "metadata": {},
     "output_type": "execute_result"
    }
   ],
   "source": [
    "X_carros.shape"
   ]
  },
  {
   "cell_type": "markdown",
   "metadata": {},
   "source": [
    "//Escalonamento dos valores"
   ]
  },
  {
   "cell_type": "code",
   "execution_count": 414,
   "metadata": {},
   "outputs": [],
   "source": [
    "from sklearn.preprocessing import StandardScaler\n",
    "scaler_carros = StandardScaler()\n",
    "X_carros = scaler_carros.fit_transform(X_carros)"
   ]
  },
  {
   "cell_type": "code",
   "execution_count": 415,
   "metadata": {},
   "outputs": [
    {
     "data": {
      "text/plain": [
       "array([[-0.14285714, -0.10050378, -0.14285714, ...,  2.40753993,\n",
       "        -0.30814935, -0.77769348],\n",
       "       [-0.14285714, -0.10050378, -0.14285714, ...,  1.30569099,\n",
       "        -0.30814935, -0.57673909],\n",
       "       [-0.14285714, -0.10050378, -0.14285714, ..., -0.89800689,\n",
       "        -1.64792914,  0.93041882],\n",
       "       ...,\n",
       "       [-0.14285714, -0.10050378, -0.14285714, ..., -0.23689752,\n",
       "        -0.30814935, -0.82793208],\n",
       "       [-0.14285714, -0.10050378, -0.14285714, ..., -0.45726731,\n",
       "        -0.30814935, -0.72745489],\n",
       "       [-0.14285714, -0.10050378, -0.14285714, ..., -1.11837667,\n",
       "        -0.30814935, -0.97864787]])"
      ]
     },
     "execution_count": 415,
     "metadata": {},
     "output_type": "execute_result"
    }
   ],
   "source": [
    "X_carros"
   ]
  },
  {
   "cell_type": "code",
   "execution_count": 416,
   "metadata": {},
   "outputs": [
    {
     "data": {
      "text/plain": [
       "array([-0.14285714, -0.10050378, -0.14285714, -0.14285714, -0.10050378,\n",
       "       -0.14285714, -0.14285714, -0.17586311, -0.14285714, -0.14285714,\n",
       "       -0.14285714, -0.17586311, -0.14285714, -0.10050378, -0.10050378,\n",
       "        9.94987437, -0.10050378, -0.14285714, -0.14285714, -0.14285714,\n",
       "       -0.10050378, -0.10050378, -0.10050378, -0.14285714, -0.14285714,\n",
       "       -0.10050378, -0.14285714, -0.10050378, -0.10050378, -0.14285714,\n",
       "       -0.17586311, -0.10050378, -0.14285714, -0.10050378, -0.10050378,\n",
       "       -0.14285714, -0.14285714, -0.14285714, -0.14285714, -0.14285714,\n",
       "       -0.10050378, -0.10050378, -0.10050378, -0.14285714, -0.14285714,\n",
       "       -0.14285714, -0.14285714, -0.10050378, -0.14285714, -0.14285714,\n",
       "       -0.17586311, -0.14285714, -0.14285714, -0.10050378, -0.14285714,\n",
       "       -0.14285714, -0.14285714, -0.14285714,  1.12815215, -0.86855395,\n",
       "       -0.38655567, -0.33468073,  2.40753993, -0.30814935, -0.77769348])"
      ]
     },
     "execution_count": 416,
     "metadata": {},
     "output_type": "execute_result"
    }
   ],
   "source": [
    "X_carros[0]#model"
   ]
  },
  {
   "cell_type": "markdown",
   "metadata": {},
   "source": [
    "//Divisão de base treino e base teste"
   ]
  },
  {
   "cell_type": "code",
   "execution_count": 417,
   "metadata": {},
   "outputs": [],
   "source": [
    "from sklearn.model_selection import train_test_split"
   ]
  },
  {
   "cell_type": "code",
   "execution_count": 418,
   "metadata": {},
   "outputs": [],
   "source": [
    "X_carros_treinamento, X_carros_teste, Y_carros_treinamento, Y_carros_teste = train_test_split(X_carros,Y_carros,test_size = 0.35, random_state = 0)"
   ]
  },
  {
   "cell_type": "code",
   "execution_count": 419,
   "metadata": {},
   "outputs": [
    {
     "data": {
      "text/plain": [
       "(65, 65)"
      ]
     },
     "execution_count": 419,
     "metadata": {},
     "output_type": "execute_result"
    }
   ],
   "source": [
    "X_carros_treinamento.shape"
   ]
  },
  {
   "cell_type": "code",
   "execution_count": 420,
   "metadata": {},
   "outputs": [
    {
     "data": {
      "text/plain": [
       "(65,)"
      ]
     },
     "execution_count": 420,
     "metadata": {},
     "output_type": "execute_result"
    }
   ],
   "source": [
    "Y_carros_treinamento.shape"
   ]
  },
  {
   "cell_type": "code",
   "execution_count": 421,
   "metadata": {},
   "outputs": [
    {
     "data": {
      "text/plain": [
       "((35, 65), (35,))"
      ]
     },
     "execution_count": 421,
     "metadata": {},
     "output_type": "execute_result"
    }
   ],
   "source": [
    "X_carros_teste.shape, Y_carros_teste.shape"
   ]
  },
  {
   "cell_type": "markdown",
   "metadata": {},
   "source": [
    "//Salvar variáveis com pickle"
   ]
  },
  {
   "cell_type": "code",
   "execution_count": 422,
   "metadata": {},
   "outputs": [],
   "source": [
    "import pickle"
   ]
  },
  {
   "cell_type": "code",
   "execution_count": 423,
   "metadata": {},
   "outputs": [],
   "source": [
    "with open('carros.pkl',mode= 'wb') as f:\n",
    "    pickle.dump([X_carros_treinamento,Y_carros_treinamento,X_carros_teste,Y_carros_teste],f)"
   ]
  },
  {
   "cell_type": "markdown",
   "metadata": {},
   "source": [
    "//NAIVE BAYES"
   ]
  },
  {
   "cell_type": "code",
   "execution_count": 424,
   "metadata": {},
   "outputs": [],
   "source": [
    "from sklearn.naive_bayes import GaussianNB"
   ]
  },
  {
   "cell_type": "code",
   "execution_count": 425,
   "metadata": {},
   "outputs": [
    {
     "data": {
      "text/html": [
       "<style>#sk-container-id-8 {\n",
       "  /* Definition of color scheme common for light and dark mode */\n",
       "  --sklearn-color-text: black;\n",
       "  --sklearn-color-line: gray;\n",
       "  /* Definition of color scheme for unfitted estimators */\n",
       "  --sklearn-color-unfitted-level-0: #fff5e6;\n",
       "  --sklearn-color-unfitted-level-1: #f6e4d2;\n",
       "  --sklearn-color-unfitted-level-2: #ffe0b3;\n",
       "  --sklearn-color-unfitted-level-3: chocolate;\n",
       "  /* Definition of color scheme for fitted estimators */\n",
       "  --sklearn-color-fitted-level-0: #f0f8ff;\n",
       "  --sklearn-color-fitted-level-1: #d4ebff;\n",
       "  --sklearn-color-fitted-level-2: #b3dbfd;\n",
       "  --sklearn-color-fitted-level-3: cornflowerblue;\n",
       "\n",
       "  /* Specific color for light theme */\n",
       "  --sklearn-color-text-on-default-background: var(--sg-text-color, var(--theme-code-foreground, var(--jp-content-font-color1, black)));\n",
       "  --sklearn-color-background: var(--sg-background-color, var(--theme-background, var(--jp-layout-color0, white)));\n",
       "  --sklearn-color-border-box: var(--sg-text-color, var(--theme-code-foreground, var(--jp-content-font-color1, black)));\n",
       "  --sklearn-color-icon: #696969;\n",
       "\n",
       "  @media (prefers-color-scheme: dark) {\n",
       "    /* Redefinition of color scheme for dark theme */\n",
       "    --sklearn-color-text-on-default-background: var(--sg-text-color, var(--theme-code-foreground, var(--jp-content-font-color1, white)));\n",
       "    --sklearn-color-background: var(--sg-background-color, var(--theme-background, var(--jp-layout-color0, #111)));\n",
       "    --sklearn-color-border-box: var(--sg-text-color, var(--theme-code-foreground, var(--jp-content-font-color1, white)));\n",
       "    --sklearn-color-icon: #878787;\n",
       "  }\n",
       "}\n",
       "\n",
       "#sk-container-id-8 {\n",
       "  color: var(--sklearn-color-text);\n",
       "}\n",
       "\n",
       "#sk-container-id-8 pre {\n",
       "  padding: 0;\n",
       "}\n",
       "\n",
       "#sk-container-id-8 input.sk-hidden--visually {\n",
       "  border: 0;\n",
       "  clip: rect(1px 1px 1px 1px);\n",
       "  clip: rect(1px, 1px, 1px, 1px);\n",
       "  height: 1px;\n",
       "  margin: -1px;\n",
       "  overflow: hidden;\n",
       "  padding: 0;\n",
       "  position: absolute;\n",
       "  width: 1px;\n",
       "}\n",
       "\n",
       "#sk-container-id-8 div.sk-dashed-wrapped {\n",
       "  border: 1px dashed var(--sklearn-color-line);\n",
       "  margin: 0 0.4em 0.5em 0.4em;\n",
       "  box-sizing: border-box;\n",
       "  padding-bottom: 0.4em;\n",
       "  background-color: var(--sklearn-color-background);\n",
       "}\n",
       "\n",
       "#sk-container-id-8 div.sk-container {\n",
       "  /* jupyter's `normalize.less` sets `[hidden] { display: none; }`\n",
       "     but bootstrap.min.css set `[hidden] { display: none !important; }`\n",
       "     so we also need the `!important` here to be able to override the\n",
       "     default hidden behavior on the sphinx rendered scikit-learn.org.\n",
       "     See: https://github.com/scikit-learn/scikit-learn/issues/21755 */\n",
       "  display: inline-block !important;\n",
       "  position: relative;\n",
       "}\n",
       "\n",
       "#sk-container-id-8 div.sk-text-repr-fallback {\n",
       "  display: none;\n",
       "}\n",
       "\n",
       "div.sk-parallel-item,\n",
       "div.sk-serial,\n",
       "div.sk-item {\n",
       "  /* draw centered vertical line to link estimators */\n",
       "  background-image: linear-gradient(var(--sklearn-color-text-on-default-background), var(--sklearn-color-text-on-default-background));\n",
       "  background-size: 2px 100%;\n",
       "  background-repeat: no-repeat;\n",
       "  background-position: center center;\n",
       "}\n",
       "\n",
       "/* Parallel-specific style estimator block */\n",
       "\n",
       "#sk-container-id-8 div.sk-parallel-item::after {\n",
       "  content: \"\";\n",
       "  width: 100%;\n",
       "  border-bottom: 2px solid var(--sklearn-color-text-on-default-background);\n",
       "  flex-grow: 1;\n",
       "}\n",
       "\n",
       "#sk-container-id-8 div.sk-parallel {\n",
       "  display: flex;\n",
       "  align-items: stretch;\n",
       "  justify-content: center;\n",
       "  background-color: var(--sklearn-color-background);\n",
       "  position: relative;\n",
       "}\n",
       "\n",
       "#sk-container-id-8 div.sk-parallel-item {\n",
       "  display: flex;\n",
       "  flex-direction: column;\n",
       "}\n",
       "\n",
       "#sk-container-id-8 div.sk-parallel-item:first-child::after {\n",
       "  align-self: flex-end;\n",
       "  width: 50%;\n",
       "}\n",
       "\n",
       "#sk-container-id-8 div.sk-parallel-item:last-child::after {\n",
       "  align-self: flex-start;\n",
       "  width: 50%;\n",
       "}\n",
       "\n",
       "#sk-container-id-8 div.sk-parallel-item:only-child::after {\n",
       "  width: 0;\n",
       "}\n",
       "\n",
       "/* Serial-specific style estimator block */\n",
       "\n",
       "#sk-container-id-8 div.sk-serial {\n",
       "  display: flex;\n",
       "  flex-direction: column;\n",
       "  align-items: center;\n",
       "  background-color: var(--sklearn-color-background);\n",
       "  padding-right: 1em;\n",
       "  padding-left: 1em;\n",
       "}\n",
       "\n",
       "\n",
       "/* Toggleable style: style used for estimator/Pipeline/ColumnTransformer box that is\n",
       "clickable and can be expanded/collapsed.\n",
       "- Pipeline and ColumnTransformer use this feature and define the default style\n",
       "- Estimators will overwrite some part of the style using the `sk-estimator` class\n",
       "*/\n",
       "\n",
       "/* Pipeline and ColumnTransformer style (default) */\n",
       "\n",
       "#sk-container-id-8 div.sk-toggleable {\n",
       "  /* Default theme specific background. It is overwritten whether we have a\n",
       "  specific estimator or a Pipeline/ColumnTransformer */\n",
       "  background-color: var(--sklearn-color-background);\n",
       "}\n",
       "\n",
       "/* Toggleable label */\n",
       "#sk-container-id-8 label.sk-toggleable__label {\n",
       "  cursor: pointer;\n",
       "  display: block;\n",
       "  width: 100%;\n",
       "  margin-bottom: 0;\n",
       "  padding: 0.5em;\n",
       "  box-sizing: border-box;\n",
       "  text-align: center;\n",
       "}\n",
       "\n",
       "#sk-container-id-8 label.sk-toggleable__label-arrow:before {\n",
       "  /* Arrow on the left of the label */\n",
       "  content: \"▸\";\n",
       "  float: left;\n",
       "  margin-right: 0.25em;\n",
       "  color: var(--sklearn-color-icon);\n",
       "}\n",
       "\n",
       "#sk-container-id-8 label.sk-toggleable__label-arrow:hover:before {\n",
       "  color: var(--sklearn-color-text);\n",
       "}\n",
       "\n",
       "/* Toggleable content - dropdown */\n",
       "\n",
       "#sk-container-id-8 div.sk-toggleable__content {\n",
       "  max-height: 0;\n",
       "  max-width: 0;\n",
       "  overflow: hidden;\n",
       "  text-align: left;\n",
       "  /* unfitted */\n",
       "  background-color: var(--sklearn-color-unfitted-level-0);\n",
       "}\n",
       "\n",
       "#sk-container-id-8 div.sk-toggleable__content.fitted {\n",
       "  /* fitted */\n",
       "  background-color: var(--sklearn-color-fitted-level-0);\n",
       "}\n",
       "\n",
       "#sk-container-id-8 div.sk-toggleable__content pre {\n",
       "  margin: 0.2em;\n",
       "  border-radius: 0.25em;\n",
       "  color: var(--sklearn-color-text);\n",
       "  /* unfitted */\n",
       "  background-color: var(--sklearn-color-unfitted-level-0);\n",
       "}\n",
       "\n",
       "#sk-container-id-8 div.sk-toggleable__content.fitted pre {\n",
       "  /* unfitted */\n",
       "  background-color: var(--sklearn-color-fitted-level-0);\n",
       "}\n",
       "\n",
       "#sk-container-id-8 input.sk-toggleable__control:checked~div.sk-toggleable__content {\n",
       "  /* Expand drop-down */\n",
       "  max-height: 200px;\n",
       "  max-width: 100%;\n",
       "  overflow: auto;\n",
       "}\n",
       "\n",
       "#sk-container-id-8 input.sk-toggleable__control:checked~label.sk-toggleable__label-arrow:before {\n",
       "  content: \"▾\";\n",
       "}\n",
       "\n",
       "/* Pipeline/ColumnTransformer-specific style */\n",
       "\n",
       "#sk-container-id-8 div.sk-label input.sk-toggleable__control:checked~label.sk-toggleable__label {\n",
       "  color: var(--sklearn-color-text);\n",
       "  background-color: var(--sklearn-color-unfitted-level-2);\n",
       "}\n",
       "\n",
       "#sk-container-id-8 div.sk-label.fitted input.sk-toggleable__control:checked~label.sk-toggleable__label {\n",
       "  background-color: var(--sklearn-color-fitted-level-2);\n",
       "}\n",
       "\n",
       "/* Estimator-specific style */\n",
       "\n",
       "/* Colorize estimator box */\n",
       "#sk-container-id-8 div.sk-estimator input.sk-toggleable__control:checked~label.sk-toggleable__label {\n",
       "  /* unfitted */\n",
       "  background-color: var(--sklearn-color-unfitted-level-2);\n",
       "}\n",
       "\n",
       "#sk-container-id-8 div.sk-estimator.fitted input.sk-toggleable__control:checked~label.sk-toggleable__label {\n",
       "  /* fitted */\n",
       "  background-color: var(--sklearn-color-fitted-level-2);\n",
       "}\n",
       "\n",
       "#sk-container-id-8 div.sk-label label.sk-toggleable__label,\n",
       "#sk-container-id-8 div.sk-label label {\n",
       "  /* The background is the default theme color */\n",
       "  color: var(--sklearn-color-text-on-default-background);\n",
       "}\n",
       "\n",
       "/* On hover, darken the color of the background */\n",
       "#sk-container-id-8 div.sk-label:hover label.sk-toggleable__label {\n",
       "  color: var(--sklearn-color-text);\n",
       "  background-color: var(--sklearn-color-unfitted-level-2);\n",
       "}\n",
       "\n",
       "/* Label box, darken color on hover, fitted */\n",
       "#sk-container-id-8 div.sk-label.fitted:hover label.sk-toggleable__label.fitted {\n",
       "  color: var(--sklearn-color-text);\n",
       "  background-color: var(--sklearn-color-fitted-level-2);\n",
       "}\n",
       "\n",
       "/* Estimator label */\n",
       "\n",
       "#sk-container-id-8 div.sk-label label {\n",
       "  font-family: monospace;\n",
       "  font-weight: bold;\n",
       "  display: inline-block;\n",
       "  line-height: 1.2em;\n",
       "}\n",
       "\n",
       "#sk-container-id-8 div.sk-label-container {\n",
       "  text-align: center;\n",
       "}\n",
       "\n",
       "/* Estimator-specific */\n",
       "#sk-container-id-8 div.sk-estimator {\n",
       "  font-family: monospace;\n",
       "  border: 1px dotted var(--sklearn-color-border-box);\n",
       "  border-radius: 0.25em;\n",
       "  box-sizing: border-box;\n",
       "  margin-bottom: 0.5em;\n",
       "  /* unfitted */\n",
       "  background-color: var(--sklearn-color-unfitted-level-0);\n",
       "}\n",
       "\n",
       "#sk-container-id-8 div.sk-estimator.fitted {\n",
       "  /* fitted */\n",
       "  background-color: var(--sklearn-color-fitted-level-0);\n",
       "}\n",
       "\n",
       "/* on hover */\n",
       "#sk-container-id-8 div.sk-estimator:hover {\n",
       "  /* unfitted */\n",
       "  background-color: var(--sklearn-color-unfitted-level-2);\n",
       "}\n",
       "\n",
       "#sk-container-id-8 div.sk-estimator.fitted:hover {\n",
       "  /* fitted */\n",
       "  background-color: var(--sklearn-color-fitted-level-2);\n",
       "}\n",
       "\n",
       "/* Specification for estimator info (e.g. \"i\" and \"?\") */\n",
       "\n",
       "/* Common style for \"i\" and \"?\" */\n",
       "\n",
       ".sk-estimator-doc-link,\n",
       "a:link.sk-estimator-doc-link,\n",
       "a:visited.sk-estimator-doc-link {\n",
       "  float: right;\n",
       "  font-size: smaller;\n",
       "  line-height: 1em;\n",
       "  font-family: monospace;\n",
       "  background-color: var(--sklearn-color-background);\n",
       "  border-radius: 1em;\n",
       "  height: 1em;\n",
       "  width: 1em;\n",
       "  text-decoration: none !important;\n",
       "  margin-left: 1ex;\n",
       "  /* unfitted */\n",
       "  border: var(--sklearn-color-unfitted-level-1) 1pt solid;\n",
       "  color: var(--sklearn-color-unfitted-level-1);\n",
       "}\n",
       "\n",
       ".sk-estimator-doc-link.fitted,\n",
       "a:link.sk-estimator-doc-link.fitted,\n",
       "a:visited.sk-estimator-doc-link.fitted {\n",
       "  /* fitted */\n",
       "  border: var(--sklearn-color-fitted-level-1) 1pt solid;\n",
       "  color: var(--sklearn-color-fitted-level-1);\n",
       "}\n",
       "\n",
       "/* On hover */\n",
       "div.sk-estimator:hover .sk-estimator-doc-link:hover,\n",
       ".sk-estimator-doc-link:hover,\n",
       "div.sk-label-container:hover .sk-estimator-doc-link:hover,\n",
       ".sk-estimator-doc-link:hover {\n",
       "  /* unfitted */\n",
       "  background-color: var(--sklearn-color-unfitted-level-3);\n",
       "  color: var(--sklearn-color-background);\n",
       "  text-decoration: none;\n",
       "}\n",
       "\n",
       "div.sk-estimator.fitted:hover .sk-estimator-doc-link.fitted:hover,\n",
       ".sk-estimator-doc-link.fitted:hover,\n",
       "div.sk-label-container:hover .sk-estimator-doc-link.fitted:hover,\n",
       ".sk-estimator-doc-link.fitted:hover {\n",
       "  /* fitted */\n",
       "  background-color: var(--sklearn-color-fitted-level-3);\n",
       "  color: var(--sklearn-color-background);\n",
       "  text-decoration: none;\n",
       "}\n",
       "\n",
       "/* Span, style for the box shown on hovering the info icon */\n",
       ".sk-estimator-doc-link span {\n",
       "  display: none;\n",
       "  z-index: 9999;\n",
       "  position: relative;\n",
       "  font-weight: normal;\n",
       "  right: .2ex;\n",
       "  padding: .5ex;\n",
       "  margin: .5ex;\n",
       "  width: min-content;\n",
       "  min-width: 20ex;\n",
       "  max-width: 50ex;\n",
       "  color: var(--sklearn-color-text);\n",
       "  box-shadow: 2pt 2pt 4pt #999;\n",
       "  /* unfitted */\n",
       "  background: var(--sklearn-color-unfitted-level-0);\n",
       "  border: .5pt solid var(--sklearn-color-unfitted-level-3);\n",
       "}\n",
       "\n",
       ".sk-estimator-doc-link.fitted span {\n",
       "  /* fitted */\n",
       "  background: var(--sklearn-color-fitted-level-0);\n",
       "  border: var(--sklearn-color-fitted-level-3);\n",
       "}\n",
       "\n",
       ".sk-estimator-doc-link:hover span {\n",
       "  display: block;\n",
       "}\n",
       "\n",
       "/* \"?\"-specific style due to the `<a>` HTML tag */\n",
       "\n",
       "#sk-container-id-8 a.estimator_doc_link {\n",
       "  float: right;\n",
       "  font-size: 1rem;\n",
       "  line-height: 1em;\n",
       "  font-family: monospace;\n",
       "  background-color: var(--sklearn-color-background);\n",
       "  border-radius: 1rem;\n",
       "  height: 1rem;\n",
       "  width: 1rem;\n",
       "  text-decoration: none;\n",
       "  /* unfitted */\n",
       "  color: var(--sklearn-color-unfitted-level-1);\n",
       "  border: var(--sklearn-color-unfitted-level-1) 1pt solid;\n",
       "}\n",
       "\n",
       "#sk-container-id-8 a.estimator_doc_link.fitted {\n",
       "  /* fitted */\n",
       "  border: var(--sklearn-color-fitted-level-1) 1pt solid;\n",
       "  color: var(--sklearn-color-fitted-level-1);\n",
       "}\n",
       "\n",
       "/* On hover */\n",
       "#sk-container-id-8 a.estimator_doc_link:hover {\n",
       "  /* unfitted */\n",
       "  background-color: var(--sklearn-color-unfitted-level-3);\n",
       "  color: var(--sklearn-color-background);\n",
       "  text-decoration: none;\n",
       "}\n",
       "\n",
       "#sk-container-id-8 a.estimator_doc_link.fitted:hover {\n",
       "  /* fitted */\n",
       "  background-color: var(--sklearn-color-fitted-level-3);\n",
       "}\n",
       "</style><div id=\"sk-container-id-8\" class=\"sk-top-container\"><div class=\"sk-text-repr-fallback\"><pre>GaussianNB()</pre><b>In a Jupyter environment, please rerun this cell to show the HTML representation or trust the notebook. <br />On GitHub, the HTML representation is unable to render, please try loading this page with nbviewer.org.</b></div><div class=\"sk-container\" hidden><div class=\"sk-item\"><div class=\"sk-estimator fitted sk-toggleable\"><input class=\"sk-toggleable__control sk-hidden--visually\" id=\"sk-estimator-id-8\" type=\"checkbox\" checked><label for=\"sk-estimator-id-8\" class=\"sk-toggleable__label fitted sk-toggleable__label-arrow fitted\">&nbsp;&nbsp;GaussianNB<a class=\"sk-estimator-doc-link fitted\" rel=\"noreferrer\" target=\"_blank\" href=\"https://scikit-learn.org/1.4/modules/generated/sklearn.naive_bayes.GaussianNB.html\">?<span>Documentation for GaussianNB</span></a><span class=\"sk-estimator-doc-link fitted\">i<span>Fitted</span></span></label><div class=\"sk-toggleable__content fitted\"><pre>GaussianNB()</pre></div> </div></div></div></div>"
      ],
      "text/plain": [
       "GaussianNB()"
      ]
     },
     "execution_count": 425,
     "metadata": {},
     "output_type": "execute_result"
    }
   ],
   "source": [
    "naive_carros = GaussianNB()\n",
    "naive_carros.fit(X_carros_treinamento,Y_carros_treinamento)"
   ]
  },
  {
   "cell_type": "markdown",
   "metadata": {},
   "source": [
    "Lembrando as colunas da tabela X_carros:<br>\n",
    "    0,       1,       2,                   3,            4,      5 e       6<br>\n",
    "Brand -\tModel - Year - Kilometers_Driven - Owner_Type - Seats - Price"
   ]
  },
  {
   "cell_type": "code",
   "execution_count": 426,
   "metadata": {},
   "outputs": [
    {
     "data": {
      "text/plain": [
       "array(['Audi', 'Mercedes', 'Ford', 'Mercedes', 'BMW', 'Mercedes',\n",
       "       'Mercedes', 'Volkswagen', 'Volkswagen', 'Mercedes', 'Mahindra',\n",
       "       'Volkswagen', 'Ford', 'Tata', 'Maruti', 'Volkswagen', 'Hyundai',\n",
       "       'Tata', 'Volkswagen', 'Mercedes', 'Maruti', 'Tata', 'Volkswagen',\n",
       "       'Volkswagen', 'Volkswagen', 'Mercedes', 'Honda', 'Tata', 'Honda',\n",
       "       'Mercedes', 'Hyundai', 'Tata', 'Tata', 'Volkswagen', 'Hyundai'],\n",
       "      dtype='<U10')"
      ]
     },
     "execution_count": 426,
     "metadata": {},
     "output_type": "execute_result"
    }
   ],
   "source": [
    "previsoes = naive_carros.predict(X_carros_teste)\n",
    "previsoes"
   ]
  },
  {
   "cell_type": "markdown",
   "metadata": {},
   "source": [
    "//Comparação com as respostas reais (Y_Carros_teste)"
   ]
  },
  {
   "cell_type": "code",
   "execution_count": 427,
   "metadata": {},
   "outputs": [
    {
     "data": {
      "text/plain": [
       "array(['Audi', 'Mercedes', 'Ford', 'Audi', 'BMW', 'Audi', 'Volkswagen',\n",
       "       'Volkswagen', 'Volkswagen', 'Mercedes', 'Mahindra', 'Volkswagen',\n",
       "       'Ford', 'Tata', 'Volkswagen', 'Ford', 'Hyundai', 'Mahindra',\n",
       "       'Maruti', 'Audi', 'Maruti', 'Mahindra', 'Maruti', 'Maruti',\n",
       "       'Volkswagen', 'Mercedes', 'Mahindra', 'Tata', 'Honda', 'Mercedes',\n",
       "       'Hyundai', 'Tata', 'Tata', 'Ford', 'Hyundai'], dtype=object)"
      ]
     },
     "execution_count": 427,
     "metadata": {},
     "output_type": "execute_result"
    }
   ],
   "source": [
    "Y_carros_teste"
   ]
  },
  {
   "cell_type": "code",
   "execution_count": 428,
   "metadata": {},
   "outputs": [],
   "source": [
    "from sklearn.metrics import accuracy_score\n"
   ]
  },
  {
   "cell_type": "code",
   "execution_count": 429,
   "metadata": {},
   "outputs": [
    {
     "data": {
      "text/plain": [
       "0.6285714285714286"
      ]
     },
     "execution_count": 429,
     "metadata": {},
     "output_type": "execute_result"
    }
   ],
   "source": [
    "accuracy_score(Y_carros_teste,previsoes)#não executando escalonamento para naive bayes costuma dar melhores resultados. Como faremos mais algoritmos não é nosso caso."
   ]
  },
  {
   "cell_type": "code",
   "execution_count": 430,
   "metadata": {},
   "outputs": [],
   "source": [
    "from yellowbrick.classifier import ConfusionMatrix,classification_report"
   ]
  },
  {
   "cell_type": "code",
   "execution_count": 431,
   "metadata": {},
   "outputs": [
    {
     "data": {
      "text/plain": [
       "0.6285714285714286"
      ]
     },
     "execution_count": 431,
     "metadata": {},
     "output_type": "execute_result"
    },
    {
     "data": {
      "image/png": "[encoded data removed]",
      "text/plain": [
       "<Figure size 800x550 with 1 Axes>"
      ]
     },
     "metadata": {},
     "output_type": "display_data"
    }
   ],
   "source": [
    "cm = ConfusionMatrix(naive_carros)\n",
    "cm.fit(X_carros_treinamento,Y_carros_treinamento)\n",
    "cm.score(X_carros_teste,Y_carros_teste)"
   ]
  }
 ],
 "metadata": {
  "kernelspec": {
   "display_name": "Python 3",
   "language": "python",
   "name": "python3"
  },
  "language_info": {
   "codemirror_mode": {
    "name": "ipython",
    "version": 3
   },
   "file_extension": ".py",
   "mimetype": "text/x-python",
   "name": "python",
   "nbconvert_exporter": "python",
   "pygments_lexer": "ipython3",
   "version": "3.12.2"
  }
 },
 "nbformat": 4,
 "nbformat_minor": 2
}
