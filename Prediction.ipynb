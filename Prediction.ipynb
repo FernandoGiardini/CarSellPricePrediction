{
 "cells": [
  {
   "cell_type": "code",
   "execution_count": 185,
   "metadata": {},
   "outputs": [],
   "source": [
    "!pip -q install plotly \n",
    "!pip -q install yellowbrick\n",
    "!pip -q install pandas\n",
    "!pip -q install matplotlib\n",
    "!pip -q install seaborn"
   ]
  },
  {
   "cell_type": "code",
   "execution_count": 186,
   "metadata": {},
   "outputs": [],
   "source": [
    "import pandas as pd\n",
    "import numpy as np\n",
    "import seaborn as sns\n",
    "import matplotlib.pyplot as plt\n",
    "import plotly.express as px"
   ]
  },
  {
   "cell_type": "code",
   "execution_count": 187,
   "metadata": {},
   "outputs": [],
   "source": [
    "base_carros = pd.read_csv('cars.csv')"
   ]
  },
  {
   "cell_type": "code",
   "execution_count": 188,
   "metadata": {},
   "outputs": [
    {
     "data": {
      "text/html": [
       "<div>\n",
       "<style scoped>\n",
       "    .dataframe tbody tr th:only-of-type {\n",
       "        vertical-align: middle;\n",
       "    }\n",
       "\n",
       "    .dataframe tbody tr th {\n",
       "        vertical-align: top;\n",
       "    }\n",
       "\n",
       "    .dataframe thead th {\n",
       "        text-align: right;\n",
       "    }\n",
       "</style>\n",
       "<table border=\"1\" class=\"dataframe\">\n",
       "  <thead>\n",
       "    <tr style=\"text-align: right;\">\n",
       "      <th></th>\n",
       "      <th>Car_ID</th>\n",
       "      <th>Brand</th>\n",
       "      <th>Model</th>\n",
       "      <th>Year</th>\n",
       "      <th>Kilometers_Driven</th>\n",
       "      <th>Fuel_Type</th>\n",
       "      <th>Transmission</th>\n",
       "      <th>Owner_Type</th>\n",
       "      <th>Mileage</th>\n",
       "      <th>Engine</th>\n",
       "      <th>Power</th>\n",
       "      <th>Seats</th>\n",
       "      <th>Price</th>\n",
       "    </tr>\n",
       "  </thead>\n",
       "  <tbody>\n",
       "    <tr>\n",
       "      <th>0</th>\n",
       "      <td>1</td>\n",
       "      <td>Toyota</td>\n",
       "      <td>Corolla</td>\n",
       "      <td>2018</td>\n",
       "      <td>50000</td>\n",
       "      <td>Petrol</td>\n",
       "      <td>Manual</td>\n",
       "      <td>First</td>\n",
       "      <td>15</td>\n",
       "      <td>1498</td>\n",
       "      <td>108</td>\n",
       "      <td>5</td>\n",
       "      <td>800000</td>\n",
       "    </tr>\n",
       "    <tr>\n",
       "      <th>1</th>\n",
       "      <td>2</td>\n",
       "      <td>Honda</td>\n",
       "      <td>Civic</td>\n",
       "      <td>2019</td>\n",
       "      <td>40000</td>\n",
       "      <td>Petrol</td>\n",
       "      <td>Automatic</td>\n",
       "      <td>Second</td>\n",
       "      <td>17</td>\n",
       "      <td>1597</td>\n",
       "      <td>140</td>\n",
       "      <td>5</td>\n",
       "      <td>1000000</td>\n",
       "    </tr>\n",
       "    <tr>\n",
       "      <th>2</th>\n",
       "      <td>3</td>\n",
       "      <td>Ford</td>\n",
       "      <td>Mustang</td>\n",
       "      <td>2017</td>\n",
       "      <td>20000</td>\n",
       "      <td>Petrol</td>\n",
       "      <td>Automatic</td>\n",
       "      <td>First</td>\n",
       "      <td>10</td>\n",
       "      <td>4951</td>\n",
       "      <td>395</td>\n",
       "      <td>4</td>\n",
       "      <td>2500000</td>\n",
       "    </tr>\n",
       "    <tr>\n",
       "      <th>3</th>\n",
       "      <td>4</td>\n",
       "      <td>Maruti</td>\n",
       "      <td>Swift</td>\n",
       "      <td>2020</td>\n",
       "      <td>30000</td>\n",
       "      <td>Diesel</td>\n",
       "      <td>Manual</td>\n",
       "      <td>Third</td>\n",
       "      <td>23</td>\n",
       "      <td>1248</td>\n",
       "      <td>74</td>\n",
       "      <td>5</td>\n",
       "      <td>600000</td>\n",
       "    </tr>\n",
       "    <tr>\n",
       "      <th>4</th>\n",
       "      <td>5</td>\n",
       "      <td>Hyundai</td>\n",
       "      <td>Sonata</td>\n",
       "      <td>2016</td>\n",
       "      <td>60000</td>\n",
       "      <td>Diesel</td>\n",
       "      <td>Automatic</td>\n",
       "      <td>Second</td>\n",
       "      <td>18</td>\n",
       "      <td>1999</td>\n",
       "      <td>194</td>\n",
       "      <td>5</td>\n",
       "      <td>850000</td>\n",
       "    </tr>\n",
       "    <tr>\n",
       "      <th>...</th>\n",
       "      <td>...</td>\n",
       "      <td>...</td>\n",
       "      <td>...</td>\n",
       "      <td>...</td>\n",
       "      <td>...</td>\n",
       "      <td>...</td>\n",
       "      <td>...</td>\n",
       "      <td>...</td>\n",
       "      <td>...</td>\n",
       "      <td>...</td>\n",
       "      <td>...</td>\n",
       "      <td>...</td>\n",
       "      <td>...</td>\n",
       "    </tr>\n",
       "    <tr>\n",
       "      <th>95</th>\n",
       "      <td>96</td>\n",
       "      <td>Mercedes</td>\n",
       "      <td>C-Class</td>\n",
       "      <td>2019</td>\n",
       "      <td>22000</td>\n",
       "      <td>Diesel</td>\n",
       "      <td>Automatic</td>\n",
       "      <td>First</td>\n",
       "      <td>16</td>\n",
       "      <td>1950</td>\n",
       "      <td>191</td>\n",
       "      <td>5</td>\n",
       "      <td>2900000</td>\n",
       "    </tr>\n",
       "    <tr>\n",
       "      <th>96</th>\n",
       "      <td>97</td>\n",
       "      <td>Toyota</td>\n",
       "      <td>Innova Crysta</td>\n",
       "      <td>2017</td>\n",
       "      <td>38000</td>\n",
       "      <td>Diesel</td>\n",
       "      <td>Manual</td>\n",
       "      <td>Second</td>\n",
       "      <td>13</td>\n",
       "      <td>2755</td>\n",
       "      <td>171</td>\n",
       "      <td>7</td>\n",
       "      <td>1400000</td>\n",
       "    </tr>\n",
       "    <tr>\n",
       "      <th>97</th>\n",
       "      <td>98</td>\n",
       "      <td>Ford</td>\n",
       "      <td>EcoSport</td>\n",
       "      <td>2018</td>\n",
       "      <td>26000</td>\n",
       "      <td>Petrol</td>\n",
       "      <td>Manual</td>\n",
       "      <td>Third</td>\n",
       "      <td>18</td>\n",
       "      <td>1497</td>\n",
       "      <td>121</td>\n",
       "      <td>5</td>\n",
       "      <td>750000</td>\n",
       "    </tr>\n",
       "    <tr>\n",
       "      <th>98</th>\n",
       "      <td>99</td>\n",
       "      <td>Hyundai</td>\n",
       "      <td>Verna</td>\n",
       "      <td>2019</td>\n",
       "      <td>24000</td>\n",
       "      <td>Petrol</td>\n",
       "      <td>Automatic</td>\n",
       "      <td>Second</td>\n",
       "      <td>17</td>\n",
       "      <td>1497</td>\n",
       "      <td>113</td>\n",
       "      <td>5</td>\n",
       "      <td>850000</td>\n",
       "    </tr>\n",
       "    <tr>\n",
       "      <th>99</th>\n",
       "      <td>100</td>\n",
       "      <td>Tata</td>\n",
       "      <td>Altroz</td>\n",
       "      <td>2020</td>\n",
       "      <td>18000</td>\n",
       "      <td>Petrol</td>\n",
       "      <td>Manual</td>\n",
       "      <td>First</td>\n",
       "      <td>20</td>\n",
       "      <td>1199</td>\n",
       "      <td>85</td>\n",
       "      <td>5</td>\n",
       "      <td>600000</td>\n",
       "    </tr>\n",
       "  </tbody>\n",
       "</table>\n",
       "<p>100 rows × 13 columns</p>\n",
       "</div>"
      ],
      "text/plain": [
       "    Car_ID     Brand          Model  Year  Kilometers_Driven Fuel_Type  \\\n",
       "0        1    Toyota        Corolla  2018              50000    Petrol   \n",
       "1        2     Honda          Civic  2019              40000    Petrol   \n",
       "2        3      Ford        Mustang  2017              20000    Petrol   \n",
       "3        4    Maruti          Swift  2020              30000    Diesel   \n",
       "4        5   Hyundai         Sonata  2016              60000    Diesel   \n",
       "..     ...       ...            ...   ...                ...       ...   \n",
       "95      96  Mercedes        C-Class  2019              22000    Diesel   \n",
       "96      97    Toyota  Innova Crysta  2017              38000    Diesel   \n",
       "97      98      Ford       EcoSport  2018              26000    Petrol   \n",
       "98      99   Hyundai          Verna  2019              24000    Petrol   \n",
       "99     100      Tata         Altroz  2020              18000    Petrol   \n",
       "\n",
       "   Transmission Owner_Type  Mileage  Engine  Power  Seats    Price  \n",
       "0        Manual      First       15    1498    108      5   800000  \n",
       "1     Automatic     Second       17    1597    140      5  1000000  \n",
       "2     Automatic      First       10    4951    395      4  2500000  \n",
       "3        Manual      Third       23    1248     74      5   600000  \n",
       "4     Automatic     Second       18    1999    194      5   850000  \n",
       "..          ...        ...      ...     ...    ...    ...      ...  \n",
       "95    Automatic      First       16    1950    191      5  2900000  \n",
       "96       Manual     Second       13    2755    171      7  1400000  \n",
       "97       Manual      Third       18    1497    121      5   750000  \n",
       "98    Automatic     Second       17    1497    113      5   850000  \n",
       "99       Manual      First       20    1199     85      5   600000  \n",
       "\n",
       "[100 rows x 13 columns]"
      ]
     },
     "execution_count": 188,
     "metadata": {},
     "output_type": "execute_result"
    }
   ],
   "source": [
    "base_carros"
   ]
  },
  {
   "cell_type": "code",
   "execution_count": 189,
   "metadata": {},
   "outputs": [
    {
     "data": {
      "text/html": [
       "<div>\n",
       "<style scoped>\n",
       "    .dataframe tbody tr th:only-of-type {\n",
       "        vertical-align: middle;\n",
       "    }\n",
       "\n",
       "    .dataframe tbody tr th {\n",
       "        vertical-align: top;\n",
       "    }\n",
       "\n",
       "    .dataframe thead th {\n",
       "        text-align: right;\n",
       "    }\n",
       "</style>\n",
       "<table border=\"1\" class=\"dataframe\">\n",
       "  <thead>\n",
       "    <tr style=\"text-align: right;\">\n",
       "      <th></th>\n",
       "      <th>Brand</th>\n",
       "      <th>Model</th>\n",
       "      <th>Year</th>\n",
       "      <th>Kilometers_Driven</th>\n",
       "      <th>Owner_Type</th>\n",
       "      <th>Seats</th>\n",
       "      <th>Price</th>\n",
       "    </tr>\n",
       "  </thead>\n",
       "  <tbody>\n",
       "    <tr>\n",
       "      <th>0</th>\n",
       "      <td>Toyota</td>\n",
       "      <td>Corolla</td>\n",
       "      <td>2018</td>\n",
       "      <td>50000</td>\n",
       "      <td>First</td>\n",
       "      <td>5</td>\n",
       "      <td>800000</td>\n",
       "    </tr>\n",
       "    <tr>\n",
       "      <th>1</th>\n",
       "      <td>Honda</td>\n",
       "      <td>Civic</td>\n",
       "      <td>2019</td>\n",
       "      <td>40000</td>\n",
       "      <td>Second</td>\n",
       "      <td>5</td>\n",
       "      <td>1000000</td>\n",
       "    </tr>\n",
       "    <tr>\n",
       "      <th>2</th>\n",
       "      <td>Ford</td>\n",
       "      <td>Mustang</td>\n",
       "      <td>2017</td>\n",
       "      <td>20000</td>\n",
       "      <td>First</td>\n",
       "      <td>4</td>\n",
       "      <td>2500000</td>\n",
       "    </tr>\n",
       "    <tr>\n",
       "      <th>3</th>\n",
       "      <td>Maruti</td>\n",
       "      <td>Swift</td>\n",
       "      <td>2020</td>\n",
       "      <td>30000</td>\n",
       "      <td>Third</td>\n",
       "      <td>5</td>\n",
       "      <td>600000</td>\n",
       "    </tr>\n",
       "    <tr>\n",
       "      <th>4</th>\n",
       "      <td>Hyundai</td>\n",
       "      <td>Sonata</td>\n",
       "      <td>2016</td>\n",
       "      <td>60000</td>\n",
       "      <td>Second</td>\n",
       "      <td>5</td>\n",
       "      <td>850000</td>\n",
       "    </tr>\n",
       "    <tr>\n",
       "      <th>...</th>\n",
       "      <td>...</td>\n",
       "      <td>...</td>\n",
       "      <td>...</td>\n",
       "      <td>...</td>\n",
       "      <td>...</td>\n",
       "      <td>...</td>\n",
       "      <td>...</td>\n",
       "    </tr>\n",
       "    <tr>\n",
       "      <th>95</th>\n",
       "      <td>Mercedes</td>\n",
       "      <td>C-Class</td>\n",
       "      <td>2019</td>\n",
       "      <td>22000</td>\n",
       "      <td>First</td>\n",
       "      <td>5</td>\n",
       "      <td>2900000</td>\n",
       "    </tr>\n",
       "    <tr>\n",
       "      <th>96</th>\n",
       "      <td>Toyota</td>\n",
       "      <td>Innova Crysta</td>\n",
       "      <td>2017</td>\n",
       "      <td>38000</td>\n",
       "      <td>Second</td>\n",
       "      <td>7</td>\n",
       "      <td>1400000</td>\n",
       "    </tr>\n",
       "    <tr>\n",
       "      <th>97</th>\n",
       "      <td>Ford</td>\n",
       "      <td>EcoSport</td>\n",
       "      <td>2018</td>\n",
       "      <td>26000</td>\n",
       "      <td>Third</td>\n",
       "      <td>5</td>\n",
       "      <td>750000</td>\n",
       "    </tr>\n",
       "    <tr>\n",
       "      <th>98</th>\n",
       "      <td>Hyundai</td>\n",
       "      <td>Verna</td>\n",
       "      <td>2019</td>\n",
       "      <td>24000</td>\n",
       "      <td>Second</td>\n",
       "      <td>5</td>\n",
       "      <td>850000</td>\n",
       "    </tr>\n",
       "    <tr>\n",
       "      <th>99</th>\n",
       "      <td>Tata</td>\n",
       "      <td>Altroz</td>\n",
       "      <td>2020</td>\n",
       "      <td>18000</td>\n",
       "      <td>First</td>\n",
       "      <td>5</td>\n",
       "      <td>600000</td>\n",
       "    </tr>\n",
       "  </tbody>\n",
       "</table>\n",
       "<p>100 rows × 7 columns</p>\n",
       "</div>"
      ],
      "text/plain": [
       "       Brand          Model  Year  Kilometers_Driven Owner_Type  Seats  \\\n",
       "0     Toyota        Corolla  2018              50000      First      5   \n",
       "1      Honda          Civic  2019              40000     Second      5   \n",
       "2       Ford        Mustang  2017              20000      First      4   \n",
       "3     Maruti          Swift  2020              30000      Third      5   \n",
       "4    Hyundai         Sonata  2016              60000     Second      5   \n",
       "..       ...            ...   ...                ...        ...    ...   \n",
       "95  Mercedes        C-Class  2019              22000      First      5   \n",
       "96    Toyota  Innova Crysta  2017              38000     Second      7   \n",
       "97      Ford       EcoSport  2018              26000      Third      5   \n",
       "98   Hyundai          Verna  2019              24000     Second      5   \n",
       "99      Tata         Altroz  2020              18000      First      5   \n",
       "\n",
       "      Price  \n",
       "0    800000  \n",
       "1   1000000  \n",
       "2   2500000  \n",
       "3    600000  \n",
       "4    850000  \n",
       "..      ...  \n",
       "95  2900000  \n",
       "96  1400000  \n",
       "97   750000  \n",
       "98   850000  \n",
       "99   600000  \n",
       "\n",
       "[100 rows x 7 columns]"
      ]
     },
     "execution_count": 189,
     "metadata": {},
     "output_type": "execute_result"
    }
   ],
   "source": [
    "base_carros = base_carros[['Brand','Model','Year','Kilometers_Driven','Owner_Type','Seats','Price']]\n",
    "base_carros\n",
    "#Reduzindo base de dados para ter somente os dados relevantes."
   ]
  },
  {
   "cell_type": "markdown",
   "metadata": {},
   "source": [
    "Decidi transformar o valor do preço dos carros de Rúpias Indianas para Reais Brasileiros, para trabalhar com medidas que possuo melhor noção quantitativa."
   ]
  },
  {
   "cell_type": "code",
   "execution_count": 190,
   "metadata": {},
   "outputs": [
    {
     "name": "stderr",
     "output_type": "stream",
     "text": [
      "C:\\Users\\ferna\\AppData\\Local\\Temp\\ipykernel_19956\\2122226254.py:1: SettingWithCopyWarning:\n",
      "\n",
      "\n",
      "A value is trying to be set on a copy of a slice from a DataFrame.\n",
      "Try using .loc[row_indexer,col_indexer] = value instead\n",
      "\n",
      "See the caveats in the documentation: https://pandas.pydata.org/pandas-docs/stable/user_guide/indexing.html#returning-a-view-versus-a-copy\n",
      "\n"
     ]
    }
   ],
   "source": [
    "\n",
    "base_carros['Price'] = np.multiply(base_carros['Price'] , 0.062)\n"
   ]
  },
  {
   "cell_type": "code",
   "execution_count": 191,
   "metadata": {},
   "outputs": [
    {
     "data": {
      "text/html": [
       "<div>\n",
       "<style scoped>\n",
       "    .dataframe tbody tr th:only-of-type {\n",
       "        vertical-align: middle;\n",
       "    }\n",
       "\n",
       "    .dataframe tbody tr th {\n",
       "        vertical-align: top;\n",
       "    }\n",
       "\n",
       "    .dataframe thead th {\n",
       "        text-align: right;\n",
       "    }\n",
       "</style>\n",
       "<table border=\"1\" class=\"dataframe\">\n",
       "  <thead>\n",
       "    <tr style=\"text-align: right;\">\n",
       "      <th></th>\n",
       "      <th>Brand</th>\n",
       "      <th>Model</th>\n",
       "      <th>Year</th>\n",
       "      <th>Kilometers_Driven</th>\n",
       "      <th>Owner_Type</th>\n",
       "      <th>Seats</th>\n",
       "      <th>Price</th>\n",
       "    </tr>\n",
       "  </thead>\n",
       "  <tbody>\n",
       "    <tr>\n",
       "      <th>0</th>\n",
       "      <td>Toyota</td>\n",
       "      <td>Corolla</td>\n",
       "      <td>2018</td>\n",
       "      <td>50000</td>\n",
       "      <td>First</td>\n",
       "      <td>5</td>\n",
       "      <td>49600.0</td>\n",
       "    </tr>\n",
       "    <tr>\n",
       "      <th>1</th>\n",
       "      <td>Honda</td>\n",
       "      <td>Civic</td>\n",
       "      <td>2019</td>\n",
       "      <td>40000</td>\n",
       "      <td>Second</td>\n",
       "      <td>5</td>\n",
       "      <td>62000.0</td>\n",
       "    </tr>\n",
       "    <tr>\n",
       "      <th>2</th>\n",
       "      <td>Ford</td>\n",
       "      <td>Mustang</td>\n",
       "      <td>2017</td>\n",
       "      <td>20000</td>\n",
       "      <td>First</td>\n",
       "      <td>4</td>\n",
       "      <td>155000.0</td>\n",
       "    </tr>\n",
       "    <tr>\n",
       "      <th>3</th>\n",
       "      <td>Maruti</td>\n",
       "      <td>Swift</td>\n",
       "      <td>2020</td>\n",
       "      <td>30000</td>\n",
       "      <td>Third</td>\n",
       "      <td>5</td>\n",
       "      <td>37200.0</td>\n",
       "    </tr>\n",
       "    <tr>\n",
       "      <th>4</th>\n",
       "      <td>Hyundai</td>\n",
       "      <td>Sonata</td>\n",
       "      <td>2016</td>\n",
       "      <td>60000</td>\n",
       "      <td>Second</td>\n",
       "      <td>5</td>\n",
       "      <td>52700.0</td>\n",
       "    </tr>\n",
       "    <tr>\n",
       "      <th>...</th>\n",
       "      <td>...</td>\n",
       "      <td>...</td>\n",
       "      <td>...</td>\n",
       "      <td>...</td>\n",
       "      <td>...</td>\n",
       "      <td>...</td>\n",
       "      <td>...</td>\n",
       "    </tr>\n",
       "    <tr>\n",
       "      <th>95</th>\n",
       "      <td>Mercedes</td>\n",
       "      <td>C-Class</td>\n",
       "      <td>2019</td>\n",
       "      <td>22000</td>\n",
       "      <td>First</td>\n",
       "      <td>5</td>\n",
       "      <td>179800.0</td>\n",
       "    </tr>\n",
       "    <tr>\n",
       "      <th>96</th>\n",
       "      <td>Toyota</td>\n",
       "      <td>Innova Crysta</td>\n",
       "      <td>2017</td>\n",
       "      <td>38000</td>\n",
       "      <td>Second</td>\n",
       "      <td>7</td>\n",
       "      <td>86800.0</td>\n",
       "    </tr>\n",
       "    <tr>\n",
       "      <th>97</th>\n",
       "      <td>Ford</td>\n",
       "      <td>EcoSport</td>\n",
       "      <td>2018</td>\n",
       "      <td>26000</td>\n",
       "      <td>Third</td>\n",
       "      <td>5</td>\n",
       "      <td>46500.0</td>\n",
       "    </tr>\n",
       "    <tr>\n",
       "      <th>98</th>\n",
       "      <td>Hyundai</td>\n",
       "      <td>Verna</td>\n",
       "      <td>2019</td>\n",
       "      <td>24000</td>\n",
       "      <td>Second</td>\n",
       "      <td>5</td>\n",
       "      <td>52700.0</td>\n",
       "    </tr>\n",
       "    <tr>\n",
       "      <th>99</th>\n",
       "      <td>Tata</td>\n",
       "      <td>Altroz</td>\n",
       "      <td>2020</td>\n",
       "      <td>18000</td>\n",
       "      <td>First</td>\n",
       "      <td>5</td>\n",
       "      <td>37200.0</td>\n",
       "    </tr>\n",
       "  </tbody>\n",
       "</table>\n",
       "<p>100 rows × 7 columns</p>\n",
       "</div>"
      ],
      "text/plain": [
       "       Brand          Model  Year  Kilometers_Driven Owner_Type  Seats  \\\n",
       "0     Toyota        Corolla  2018              50000      First      5   \n",
       "1      Honda          Civic  2019              40000     Second      5   \n",
       "2       Ford        Mustang  2017              20000      First      4   \n",
       "3     Maruti          Swift  2020              30000      Third      5   \n",
       "4    Hyundai         Sonata  2016              60000     Second      5   \n",
       "..       ...            ...   ...                ...        ...    ...   \n",
       "95  Mercedes        C-Class  2019              22000      First      5   \n",
       "96    Toyota  Innova Crysta  2017              38000     Second      7   \n",
       "97      Ford       EcoSport  2018              26000      Third      5   \n",
       "98   Hyundai          Verna  2019              24000     Second      5   \n",
       "99      Tata         Altroz  2020              18000      First      5   \n",
       "\n",
       "       Price  \n",
       "0    49600.0  \n",
       "1    62000.0  \n",
       "2   155000.0  \n",
       "3    37200.0  \n",
       "4    52700.0  \n",
       "..       ...  \n",
       "95  179800.0  \n",
       "96   86800.0  \n",
       "97   46500.0  \n",
       "98   52700.0  \n",
       "99   37200.0  \n",
       "\n",
       "[100 rows x 7 columns]"
      ]
     },
     "execution_count": 191,
     "metadata": {},
     "output_type": "execute_result"
    }
   ],
   "source": [
    "base_carros"
   ]
  },
  {
   "cell_type": "code",
   "execution_count": 192,
   "metadata": {},
   "outputs": [
    {
     "data": {
      "text/html": [
       "<div>\n",
       "<style scoped>\n",
       "    .dataframe tbody tr th:only-of-type {\n",
       "        vertical-align: middle;\n",
       "    }\n",
       "\n",
       "    .dataframe tbody tr th {\n",
       "        vertical-align: top;\n",
       "    }\n",
       "\n",
       "    .dataframe thead th {\n",
       "        text-align: right;\n",
       "    }\n",
       "</style>\n",
       "<table border=\"1\" class=\"dataframe\">\n",
       "  <thead>\n",
       "    <tr style=\"text-align: right;\">\n",
       "      <th></th>\n",
       "      <th>Year</th>\n",
       "      <th>Kilometers_Driven</th>\n",
       "      <th>Seats</th>\n",
       "      <th>Price</th>\n",
       "    </tr>\n",
       "  </thead>\n",
       "  <tbody>\n",
       "    <tr>\n",
       "      <th>count</th>\n",
       "      <td>100.00000</td>\n",
       "      <td>100.000000</td>\n",
       "      <td>100.000000</td>\n",
       "      <td>100.00000</td>\n",
       "    </tr>\n",
       "    <tr>\n",
       "      <th>mean</th>\n",
       "      <td>2018.39000</td>\n",
       "      <td>28150.000000</td>\n",
       "      <td>5.230000</td>\n",
       "      <td>97588.00000</td>\n",
       "    </tr>\n",
       "    <tr>\n",
       "      <th>std</th>\n",
       "      <td>1.17116</td>\n",
       "      <td>9121.375716</td>\n",
       "      <td>0.750151</td>\n",
       "      <td>62016.40591</td>\n",
       "    </tr>\n",
       "    <tr>\n",
       "      <th>min</th>\n",
       "      <td>2016.00000</td>\n",
       "      <td>10000.000000</td>\n",
       "      <td>4.000000</td>\n",
       "      <td>27900.00000</td>\n",
       "    </tr>\n",
       "    <tr>\n",
       "      <th>25%</th>\n",
       "      <td>2017.75000</td>\n",
       "      <td>22000.000000</td>\n",
       "      <td>5.000000</td>\n",
       "      <td>43400.00000</td>\n",
       "    </tr>\n",
       "    <tr>\n",
       "      <th>50%</th>\n",
       "      <td>2018.00000</td>\n",
       "      <td>27000.000000</td>\n",
       "      <td>5.000000</td>\n",
       "      <td>80600.00000</td>\n",
       "    </tr>\n",
       "    <tr>\n",
       "      <th>75%</th>\n",
       "      <td>2019.00000</td>\n",
       "      <td>32000.000000</td>\n",
       "      <td>5.000000</td>\n",
       "      <td>155000.00000</td>\n",
       "    </tr>\n",
       "    <tr>\n",
       "      <th>max</th>\n",
       "      <td>2021.00000</td>\n",
       "      <td>60000.000000</td>\n",
       "      <td>7.000000</td>\n",
       "      <td>248000.00000</td>\n",
       "    </tr>\n",
       "  </tbody>\n",
       "</table>\n",
       "</div>"
      ],
      "text/plain": [
       "             Year  Kilometers_Driven       Seats         Price\n",
       "count   100.00000         100.000000  100.000000     100.00000\n",
       "mean   2018.39000       28150.000000    5.230000   97588.00000\n",
       "std       1.17116        9121.375716    0.750151   62016.40591\n",
       "min    2016.00000       10000.000000    4.000000   27900.00000\n",
       "25%    2017.75000       22000.000000    5.000000   43400.00000\n",
       "50%    2018.00000       27000.000000    5.000000   80600.00000\n",
       "75%    2019.00000       32000.000000    5.000000  155000.00000\n",
       "max    2021.00000       60000.000000    7.000000  248000.00000"
      ]
     },
     "execution_count": 192,
     "metadata": {},
     "output_type": "execute_result"
    }
   ],
   "source": [
    "base_carros.describe()"
   ]
  },
  {
   "cell_type": "markdown",
   "metadata": {},
   "source": [
    "Importante perceber que a nossa base de dados não é grande, vamos perceber como isso afeta nossos algoritmos de classificação mais a frente."
   ]
  },
  {
   "cell_type": "code",
   "execution_count": 193,
   "metadata": {},
   "outputs": [
    {
     "data": {
      "image/png": "[encoded data removed]",
      "text/plain": [
       "<Figure size 640x480 with 1 Axes>"
      ]
     },
     "metadata": {},
     "output_type": "display_data"
    }
   ],
   "source": [
    "plt.hist(x = base_carros['Kilometers_Driven']);\n",
    "#Descobrindo o formato geral dos dados de kilometragem dos nossos carros usados."
   ]
  },
  {
   "cell_type": "code",
   "execution_count": 194,
   "metadata": {},
   "outputs": [
    {
     "data": {
      "application/vnd.plotly.v1+json": {
       "config": {
        "plotlyServerURL": "https://plot.ly"
       },
       "data": [
        {
         "dimensions": [
          {
           "axis": {
            "matches": true
           },
           "label": "Brand",
           "values": [
            "Toyota",
            "Honda",
            "Ford",
            "Maruti",
            "Hyundai",
            "Tata",
            "Mahindra",
            "Volkswagen",
            "Audi",
            "BMW",
            "Mercedes",
            "Ford",
            "Hyundai",
            "Tata",
            "Maruti",
            "Honda",
            "Volkswagen",
            "Audi",
            "BMW",
            "Mercedes",
            "Toyota",
            "Ford",
            "Hyundai",
            "Tata",
            "Mahindra",
            "Volkswagen",
            "Audi",
            "BMW",
            "Mercedes",
            "Toyota",
            "Ford",
            "Hyundai",
            "Tata",
            "Maruti",
            "Honda",
            "Volkswagen",
            "Audi",
            "BMW",
            "Mercedes",
            "Toyota",
            "Ford",
            "Hyundai",
            "Tata",
            "Maruti",
            "Honda",
            "Volkswagen",
            "Audi",
            "BMW",
            "Mercedes",
            "Toyota",
            "Ford",
            "Hyundai",
            "Tata",
            "Mahindra",
            "Volkswagen",
            "Audi",
            "BMW",
            "Mercedes",
            "Toyota",
            "Ford",
            "Hyundai",
            "Tata",
            "Mahindra",
            "Volkswagen",
            "Audi",
            "BMW",
            "Mercedes",
            "Toyota",
            "Ford",
            "Hyundai",
            "Tata",
            "Maruti",
            "Honda",
            "Volkswagen",
            "Audi",
            "BMW",
            "Mercedes",
            "Toyota",
            "Ford",
            "Hyundai",
            "Tata",
            "Maruti",
            "Honda",
            "Volkswagen",
            "Audi",
            "BMW",
            "Mercedes",
            "Toyota",
            "Ford",
            "Hyundai",
            "Tata",
            "Mahindra",
            "Volkswagen",
            "Audi",
            "BMW",
            "Mercedes",
            "Toyota",
            "Ford",
            "Hyundai",
            "Tata"
           ]
          },
          {
           "axis": {
            "matches": true
           },
           "label": "Price",
           "values": [
            49600,
            62000,
            155000,
            37200,
            52700,
            46500,
            55800,
            40300,
            136400,
            167400,
            142600,
            124000,
            52700,
            99200,
            52700,
            40300,
            111600,
            117800,
            186000,
            155000,
            86800,
            34100,
            52700,
            37200,
            74400,
            99200,
            198400,
            173600,
            167400,
            155000,
            37200,
            49600,
            80600,
            43400,
            46500,
            31000,
            124000,
            217000,
            248000,
            40300,
            93000,
            27900,
            31000,
            43400,
            52700,
            99200,
            186000,
            198400,
            148800,
            111600,
            167400,
            34100,
            31000,
            43400,
            40300,
            161200,
            173600,
            179800,
            86800,
            46500,
            52700,
            37200,
            74400,
            99200,
            198400,
            173600,
            167400,
            155000,
            37200,
            49600,
            80600,
            43400,
            46500,
            31000,
            124000,
            217000,
            248000,
            40300,
            93000,
            27900,
            31000,
            43400,
            52700,
            99200,
            186000,
            198400,
            148800,
            111600,
            167400,
            34100,
            31000,
            43400,
            40300,
            161200,
            173600,
            179800,
            86800,
            46500,
            52700,
            37200
           ]
          },
          {
           "axis": {
            "matches": true
           },
           "label": "Kilometers_Driven",
           "values": [
            50000,
            40000,
            20000,
            30000,
            60000,
            35000,
            45000,
            25000,
            30000,
            20000,
            28000,
            35000,
            22000,
            40000,
            18000,
            42000,
            32000,
            38000,
            24000,
            26000,
            50000,
            15000,
            26000,
            18000,
            10000,
            32000,
            28000,
            22000,
            30000,
            38000,
            26000,
            32000,
            42000,
            24000,
            28000,
            15000,
            38000,
            22000,
            26000,
            18000,
            38000,
            26000,
            42000,
            15000,
            28000,
            22000,
            30000,
            28000,
            24000,
            38000,
            22000,
            32000,
            18000,
            26000,
            32000,
            28000,
            15000,
            22000,
            38000,
            26000,
            24000,
            18000,
            10000,
            32000,
            28000,
            22000,
            30000,
            38000,
            26000,
            32000,
            42000,
            24000,
            28000,
            15000,
            38000,
            22000,
            26000,
            18000,
            38000,
            26000,
            42000,
            15000,
            28000,
            22000,
            30000,
            28000,
            24000,
            38000,
            22000,
            32000,
            18000,
            26000,
            32000,
            28000,
            15000,
            22000,
            38000,
            26000,
            24000,
            18000
           ]
          }
         ],
         "hovertemplate": "%{xaxis.title.text}=%{x}<br>%{yaxis.title.text}=%{y}<br>Price=%{marker.color}<extra></extra>",
         "legendgroup": "",
         "marker": {
          "color": [
           49600,
           62000,
           155000,
           37200,
           52700,
           46500,
           55800,
           40300,
           136400,
           167400,
           142600,
           124000,
           52700,
           99200,
           52700,
           40300,
           111600,
           117800,
           186000,
           155000,
           86800,
           34100,
           52700,
           37200,
           74400,
           99200,
           198400,
           173600,
           167400,
           155000,
           37200,
           49600,
           80600,
           43400,
           46500,
           31000,
           124000,
           217000,
           248000,
           40300,
           93000,
           27900,
           31000,
           43400,
           52700,
           99200,
           186000,
           198400,
           148800,
           111600,
           167400,
           34100,
           31000,
           43400,
           40300,
           161200,
           173600,
           179800,
           86800,
           46500,
           52700,
           37200,
           74400,
           99200,
           198400,
           173600,
           167400,
           155000,
           37200,
           49600,
           80600,
           43400,
           46500,
           31000,
           124000,
           217000,
           248000,
           40300,
           93000,
           27900,
           31000,
           43400,
           52700,
           99200,
           186000,
           198400,
           148800,
           111600,
           167400,
           34100,
           31000,
           43400,
           40300,
           161200,
           173600,
           179800,
           86800,
           46500,
           52700,
           37200
          ],
          "coloraxis": "coloraxis",
          "symbol": "circle"
         },
         "name": "",
         "showlegend": false,
         "type": "splom"
        }
       ],
       "layout": {
        "coloraxis": {
         "colorbar": {
          "title": {
           "text": "Price"
          }
         },
         "colorscale": [
          [
           0,
           "#0d0887"
          ],
          [
           0.1111111111111111,
           "#46039f"
          ],
          [
           0.2222222222222222,
           "#7201a8"
          ],
          [
           0.3333333333333333,
           "#9c179e"
          ],
          [
           0.4444444444444444,
           "#bd3786"
          ],
          [
           0.5555555555555556,
           "#d8576b"
          ],
          [
           0.6666666666666666,
           "#ed7953"
          ],
          [
           0.7777777777777778,
           "#fb9f3a"
          ],
          [
           0.8888888888888888,
           "#fdca26"
          ],
          [
           1,
           "#f0f921"
          ]
         ]
        },
        "dragmode": "select",
        "legend": {
         "tracegroupgap": 0
        },
        "margin": {
         "t": 60
        },
        "template": {
         "data": {
          "bar": [
           {
            "error_x": {
             "color": "#2a3f5f"
            },
            "error_y": {
             "color": "#2a3f5f"
            },
            "marker": {
             "line": {
              "color": "#E5ECF6",
              "width": 0.5
             },
             "pattern": {
              "fillmode": "overlay",
              "size": 10,
              "solidity": 0.2
             }
            },
            "type": "bar"
           }
          ],
          "barpolar": [
           {
            "marker": {
             "line": {
              "color": "#E5ECF6",
              "width": 0.5
             },
             "pattern": {
              "fillmode": "overlay",
              "size": 10,
              "solidity": 0.2
             }
            },
            "type": "barpolar"
           }
          ],
          "carpet": [
           {
            "aaxis": {
             "endlinecolor": "#2a3f5f",
             "gridcolor": "white",
             "linecolor": "white",
             "minorgridcolor": "white",
             "startlinecolor": "#2a3f5f"
            },
            "baxis": {
             "endlinecolor": "#2a3f5f",
             "gridcolor": "white",
             "linecolor": "white",
             "minorgridcolor": "white",
             "startlinecolor": "#2a3f5f"
            },
            "type": "carpet"
           }
          ],
          "choropleth": [
           {
            "colorbar": {
             "outlinewidth": 0,
             "ticks": ""
            },
            "type": "choropleth"
           }
          ],
          "contour": [
           {
            "colorbar": {
             "outlinewidth": 0,
             "ticks": ""
            },
            "colorscale": [
             [
              0,
              "#0d0887"
             ],
             [
              0.1111111111111111,
              "#46039f"
             ],
             [
              0.2222222222222222,
              "#7201a8"
             ],
             [
              0.3333333333333333,
              "#9c179e"
             ],
             [
              0.4444444444444444,
              "#bd3786"
             ],
             [
              0.5555555555555556,
              "#d8576b"
             ],
             [
              0.6666666666666666,
              "#ed7953"
             ],
             [
              0.7777777777777778,
              "#fb9f3a"
             ],
             [
              0.8888888888888888,
              "#fdca26"
             ],
             [
              1,
              "#f0f921"
             ]
            ],
            "type": "contour"
           }
          ],
          "contourcarpet": [
           {
            "colorbar": {
             "outlinewidth": 0,
             "ticks": ""
            },
            "type": "contourcarpet"
           }
          ],
          "heatmap": [
           {
            "colorbar": {
             "outlinewidth": 0,
             "ticks": ""
            },
            "colorscale": [
             [
              0,
              "#0d0887"
             ],
             [
              0.1111111111111111,
              "#46039f"
             ],
             [
              0.2222222222222222,
              "#7201a8"
             ],
             [
              0.3333333333333333,
              "#9c179e"
             ],
             [
              0.4444444444444444,
              "#bd3786"
             ],
             [
              0.5555555555555556,
              "#d8576b"
             ],
             [
              0.6666666666666666,
              "#ed7953"
             ],
             [
              0.7777777777777778,
              "#fb9f3a"
             ],
             [
              0.8888888888888888,
              "#fdca26"
             ],
             [
              1,
              "#f0f921"
             ]
            ],
            "type": "heatmap"
           }
          ],
          "heatmapgl": [
           {
            "colorbar": {
             "outlinewidth": 0,
             "ticks": ""
            },
            "colorscale": [
             [
              0,
              "#0d0887"
             ],
             [
              0.1111111111111111,
              "#46039f"
             ],
             [
              0.2222222222222222,
              "#7201a8"
             ],
             [
              0.3333333333333333,
              "#9c179e"
             ],
             [
              0.4444444444444444,
              "#bd3786"
             ],
             [
              0.5555555555555556,
              "#d8576b"
             ],
             [
              0.6666666666666666,
              "#ed7953"
             ],
             [
              0.7777777777777778,
              "#fb9f3a"
             ],
             [
              0.8888888888888888,
              "#fdca26"
             ],
             [
              1,
              "#f0f921"
             ]
            ],
            "type": "heatmapgl"
           }
          ],
          "histogram": [
           {
            "marker": {
             "pattern": {
              "fillmode": "overlay",
              "size": 10,
              "solidity": 0.2
             }
            },
            "type": "histogram"
           }
          ],
          "histogram2d": [
           {
            "colorbar": {
             "outlinewidth": 0,
             "ticks": ""
            },
            "colorscale": [
             [
              0,
              "#0d0887"
             ],
             [
              0.1111111111111111,
              "#46039f"
             ],
             [
              0.2222222222222222,
              "#7201a8"
             ],
             [
              0.3333333333333333,
              "#9c179e"
             ],
             [
              0.4444444444444444,
              "#bd3786"
             ],
             [
              0.5555555555555556,
              "#d8576b"
             ],
             [
              0.6666666666666666,
              "#ed7953"
             ],
             [
              0.7777777777777778,
              "#fb9f3a"
             ],
             [
              0.8888888888888888,
              "#fdca26"
             ],
             [
              1,
              "#f0f921"
             ]
            ],
            "type": "histogram2d"
           }
          ],
          "histogram2dcontour": [
           {
            "colorbar": {
             "outlinewidth": 0,
             "ticks": ""
            },
            "colorscale": [
             [
              0,
              "#0d0887"
             ],
             [
              0.1111111111111111,
              "#46039f"
             ],
             [
              0.2222222222222222,
              "#7201a8"
             ],
             [
              0.3333333333333333,
              "#9c179e"
             ],
             [
              0.4444444444444444,
              "#bd3786"
             ],
             [
              0.5555555555555556,
              "#d8576b"
             ],
             [
              0.6666666666666666,
              "#ed7953"
             ],
             [
              0.7777777777777778,
              "#fb9f3a"
             ],
             [
              0.8888888888888888,
              "#fdca26"
             ],
             [
              1,
              "#f0f921"
             ]
            ],
            "type": "histogram2dcontour"
           }
          ],
          "mesh3d": [
           {
            "colorbar": {
             "outlinewidth": 0,
             "ticks": ""
            },
            "type": "mesh3d"
           }
          ],
          "parcoords": [
           {
            "line": {
             "colorbar": {
              "outlinewidth": 0,
              "ticks": ""
             }
            },
            "type": "parcoords"
           }
          ],
          "pie": [
           {
            "automargin": true,
            "type": "pie"
           }
          ],
          "scatter": [
           {
            "fillpattern": {
             "fillmode": "overlay",
             "size": 10,
             "solidity": 0.2
            },
            "type": "scatter"
           }
          ],
          "scatter3d": [
           {
            "line": {
             "colorbar": {
              "outlinewidth": 0,
              "ticks": ""
             }
            },
            "marker": {
             "colorbar": {
              "outlinewidth": 0,
              "ticks": ""
             }
            },
            "type": "scatter3d"
           }
          ],
          "scattercarpet": [
           {
            "marker": {
             "colorbar": {
              "outlinewidth": 0,
              "ticks": ""
             }
            },
            "type": "scattercarpet"
           }
          ],
          "scattergeo": [
           {
            "marker": {
             "colorbar": {
              "outlinewidth": 0,
              "ticks": ""
             }
            },
            "type": "scattergeo"
           }
          ],
          "scattergl": [
           {
            "marker": {
             "colorbar": {
              "outlinewidth": 0,
              "ticks": ""
             }
            },
            "type": "scattergl"
           }
          ],
          "scattermapbox": [
           {
            "marker": {
             "colorbar": {
              "outlinewidth": 0,
              "ticks": ""
             }
            },
            "type": "scattermapbox"
           }
          ],
          "scatterpolar": [
           {
            "marker": {
             "colorbar": {
              "outlinewidth": 0,
              "ticks": ""
             }
            },
            "type": "scatterpolar"
           }
          ],
          "scatterpolargl": [
           {
            "marker": {
             "colorbar": {
              "outlinewidth": 0,
              "ticks": ""
             }
            },
            "type": "scatterpolargl"
           }
          ],
          "scatterternary": [
           {
            "marker": {
             "colorbar": {
              "outlinewidth": 0,
              "ticks": ""
             }
            },
            "type": "scatterternary"
           }
          ],
          "surface": [
           {
            "colorbar": {
             "outlinewidth": 0,
             "ticks": ""
            },
            "colorscale": [
             [
              0,
              "#0d0887"
             ],
             [
              0.1111111111111111,
              "#46039f"
             ],
             [
              0.2222222222222222,
              "#7201a8"
             ],
             [
              0.3333333333333333,
              "#9c179e"
             ],
             [
              0.4444444444444444,
              "#bd3786"
             ],
             [
              0.5555555555555556,
              "#d8576b"
             ],
             [
              0.6666666666666666,
              "#ed7953"
             ],
             [
              0.7777777777777778,
              "#fb9f3a"
             ],
             [
              0.8888888888888888,
              "#fdca26"
             ],
             [
              1,
              "#f0f921"
             ]
            ],
            "type": "surface"
           }
          ],
          "table": [
           {
            "cells": {
             "fill": {
              "color": "#EBF0F8"
             },
             "line": {
              "color": "white"
             }
            },
            "header": {
             "fill": {
              "color": "#C8D4E3"
             },
             "line": {
              "color": "white"
             }
            },
            "type": "table"
           }
          ]
         },
         "layout": {
          "annotationdefaults": {
           "arrowcolor": "#2a3f5f",
           "arrowhead": 0,
           "arrowwidth": 1
          },
          "autotypenumbers": "strict",
          "coloraxis": {
           "colorbar": {
            "outlinewidth": 0,
            "ticks": ""
           }
          },
          "colorscale": {
           "diverging": [
            [
             0,
             "#8e0152"
            ],
            [
             0.1,
             "#c51b7d"
            ],
            [
             0.2,
             "#de77ae"
            ],
            [
             0.3,
             "#f1b6da"
            ],
            [
             0.4,
             "#fde0ef"
            ],
            [
             0.5,
             "#f7f7f7"
            ],
            [
             0.6,
             "#e6f5d0"
            ],
            [
             0.7,
             "#b8e186"
            ],
            [
             0.8,
             "#7fbc41"
            ],
            [
             0.9,
             "#4d9221"
            ],
            [
             1,
             "#276419"
            ]
           ],
           "sequential": [
            [
             0,
             "#0d0887"
            ],
            [
             0.1111111111111111,
             "#46039f"
            ],
            [
             0.2222222222222222,
             "#7201a8"
            ],
            [
             0.3333333333333333,
             "#9c179e"
            ],
            [
             0.4444444444444444,
             "#bd3786"
            ],
            [
             0.5555555555555556,
             "#d8576b"
            ],
            [
             0.6666666666666666,
             "#ed7953"
            ],
            [
             0.7777777777777778,
             "#fb9f3a"
            ],
            [
             0.8888888888888888,
             "#fdca26"
            ],
            [
             1,
             "#f0f921"
            ]
           ],
           "sequentialminus": [
            [
             0,
             "#0d0887"
            ],
            [
             0.1111111111111111,
             "#46039f"
            ],
            [
             0.2222222222222222,
             "#7201a8"
            ],
            [
             0.3333333333333333,
             "#9c179e"
            ],
            [
             0.4444444444444444,
             "#bd3786"
            ],
            [
             0.5555555555555556,
             "#d8576b"
            ],
            [
             0.6666666666666666,
             "#ed7953"
            ],
            [
             0.7777777777777778,
             "#fb9f3a"
            ],
            [
             0.8888888888888888,
             "#fdca26"
            ],
            [
             1,
             "#f0f921"
            ]
           ]
          },
          "colorway": [
           "#636efa",
           "#EF553B",
           "#00cc96",
           "#ab63fa",
           "#FFA15A",
           "#19d3f3",
           "#FF6692",
           "#B6E880",
           "#FF97FF",
           "#FECB52"
          ],
          "font": {
           "color": "#2a3f5f"
          },
          "geo": {
           "bgcolor": "white",
           "lakecolor": "white",
           "landcolor": "#E5ECF6",
           "showlakes": true,
           "showland": true,
           "subunitcolor": "white"
          },
          "hoverlabel": {
           "align": "left"
          },
          "hovermode": "closest",
          "mapbox": {
           "style": "light"
          },
          "paper_bgcolor": "white",
          "plot_bgcolor": "#E5ECF6",
          "polar": {
           "angularaxis": {
            "gridcolor": "white",
            "linecolor": "white",
            "ticks": ""
           },
           "bgcolor": "#E5ECF6",
           "radialaxis": {
            "gridcolor": "white",
            "linecolor": "white",
            "ticks": ""
           }
          },
          "scene": {
           "xaxis": {
            "backgroundcolor": "#E5ECF6",
            "gridcolor": "white",
            "gridwidth": 2,
            "linecolor": "white",
            "showbackground": true,
            "ticks": "",
            "zerolinecolor": "white"
           },
           "yaxis": {
            "backgroundcolor": "#E5ECF6",
            "gridcolor": "white",
            "gridwidth": 2,
            "linecolor": "white",
            "showbackground": true,
            "ticks": "",
            "zerolinecolor": "white"
           },
           "zaxis": {
            "backgroundcolor": "#E5ECF6",
            "gridcolor": "white",
            "gridwidth": 2,
            "linecolor": "white",
            "showbackground": true,
            "ticks": "",
            "zerolinecolor": "white"
           }
          },
          "shapedefaults": {
           "line": {
            "color": "#2a3f5f"
           }
          },
          "ternary": {
           "aaxis": {
            "gridcolor": "white",
            "linecolor": "white",
            "ticks": ""
           },
           "baxis": {
            "gridcolor": "white",
            "linecolor": "white",
            "ticks": ""
           },
           "bgcolor": "#E5ECF6",
           "caxis": {
            "gridcolor": "white",
            "linecolor": "white",
            "ticks": ""
           }
          },
          "title": {
           "x": 0.05
          },
          "xaxis": {
           "automargin": true,
           "gridcolor": "white",
           "linecolor": "white",
           "ticks": "",
           "title": {
            "standoff": 15
           },
           "zerolinecolor": "white",
           "zerolinewidth": 2
          },
          "yaxis": {
           "automargin": true,
           "gridcolor": "white",
           "linecolor": "white",
           "ticks": "",
           "title": {
            "standoff": 15
           },
           "zerolinecolor": "white",
           "zerolinewidth": 2
          }
         }
        }
       }
      }
     },
     "metadata": {},
     "output_type": "display_data"
    }
   ],
   "source": [
    "grafico = px.scatter_matrix(base_carros, dimensions=['Brand', 'Price', 'Kilometers_Driven'], color = 'Price')\n",
    "grafico.show()"
   ]
  },
  {
   "cell_type": "markdown",
   "metadata": {},
   "source": [
    "Neste último gráfico conseguimos informações relevantes do nossos dados, entre elas:\n",
    "    - O gráfico de marca por preço, mostrando a influencia direta entre esses dois > marcas de luxo são mais claras no mapeamento de calor do preço;\n",
    "    - O gráfico de marca por kilometragem > marcas de luxo normalmente tem kilometragem mais baixa, o que ajuda a preservar seu valor de revenda e exibe o estilo de vida dos donos em relação a aquele carro.\n",
    "                Além disso, carros mais baratos tendem a ter uma maior kilometragem, pois servem mais como uma ferramenta e não tem o aspecto de mostrar status social como os de luxo, além de ser menos alvejados por criminosos. \n",
    "\n",
    "Assim chegamos a conclusões socio-econômicas interessantes desses dados que vem da índia, que é um país em desenvolvimento parecido com o Brasil nestes aspectos citados acima."
   ]
  },
  {
   "cell_type": "code",
   "execution_count": 195,
   "metadata": {},
   "outputs": [
    {
     "data": {
      "application/vnd.plotly.v1+json": {
       "config": {
        "plotlyServerURL": "https://plot.ly"
       },
       "data": [
        {
         "branchvalues": "total",
         "domain": {
          "x": [
           0,
           1
          ],
          "y": [
           0,
           1
          ]
         },
         "hovertemplate": "labels=%{label}<br>count=%{value}<br>parent=%{parent}<br>id=%{id}<extra></extra>",
         "ids": [
          "Hyundai/Third/Santro/27900.0",
          "Volkswagen/Third/Ameo/31000.0",
          "Tata/First/Tiago/31000.0",
          "Tata/First/Tigor/31000.0",
          "Ford/Third/Figo/34100.0",
          "Hyundai/Third/Venue/34100.0",
          "Tata/First/Altroz/37200.0",
          "Ford/Third/Aspire/37200.0",
          "Maruti/Third/Swift/37200.0",
          "Honda/Second/City/40300.0",
          "Volkswagen/First/Polo/40300.0",
          "Volkswagen/Second/Vento/40300.0",
          "Toyota/First/Yaris/40300.0",
          "Maruti/Second/S-Cross/43400.0",
          "Maruti/Second/Vitara/43400.0",
          "Mahindra/Second/XUV300/43400.0",
          "Ford/Third/EcoSport/46500.0",
          "Tata/First/Nexon/46500.0",
          "Honda/First/WR-V/46500.0",
          "Toyota/First/Corolla/49600.0",
          "Hyundai/Second/Elantra/49600.0",
          "Honda/First/BR-V/52700.0",
          "Hyundai/Third/Creta/52700.0",
          "Maruti/First/Ertiga/52700.0",
          "Hyundai/Second/Sonata/52700.0",
          "Hyundai/Second/Verna/52700.0",
          "Mahindra/Second/Scorpio/55800.0",
          "Honda/Second/Civic/62000.0",
          "Mahindra/First/Thar/74400.0",
          "Tata/First/Safari/80600.0",
          "Toyota/First/Innova/86800.0",
          "Toyota/Second/Innova Crysta/86800.0",
          "Ford/Second/Ranger/93000.0",
          "Tata/First/Harrier/99200.0",
          "Volkswagen/Second/Passat/99200.0",
          "Volkswagen/Second/T-Roc/99200.0",
          "Toyota/Second/Camry/111600.0",
          "Volkswagen/First/Tiguan/111600.0",
          "Audi/Second/Q3/117800.0",
          "Audi/Second/A3/124000.0",
          "Ford/Second/Endeavour/124000.0",
          "Audi/First/A4/136400.0",
          "Mercedes/First/C-Class/142600.0",
          "Mercedes/First/GLA/148800.0",
          "Toyota/Second/Fortuner/155000.0",
          "Mercedes/Second/GLC/155000.0",
          "Ford/First/Mustang/155000.0",
          "Audi/First/A5/161200.0",
          "Mercedes/First/E-Class/167400.0",
          "Ford/First/Mustang/167400.0",
          "BMW/Second/X1/167400.0",
          "BMW/Second/3 Series/173600.0",
          "BMW/Second/X3/173600.0",
          "Mercedes/First/C-Class/179800.0",
          "BMW/First/5 Series/186000.0",
          "Audi/First/Q7/186000.0",
          "Audi/First/A6/198400.0",
          "BMW/Second/X5/198400.0",
          "BMW/First/7 Series/217000.0",
          "Mercedes/Second/GLE/248000.0",
          "BMW/Second/3 Series",
          "BMW/First/5 Series",
          "BMW/First/7 Series",
          "Audi/Second/A3",
          "Audi/First/A4",
          "Audi/First/A5",
          "Audi/First/A6",
          "Tata/First/Altroz",
          "Volkswagen/Third/Ameo",
          "Ford/Third/Aspire",
          "Honda/First/BR-V",
          "Mercedes/First/C-Class",
          "Toyota/Second/Camry",
          "Honda/Second/City",
          "Honda/Second/Civic",
          "Toyota/First/Corolla",
          "Hyundai/Third/Creta",
          "Mercedes/First/E-Class",
          "Ford/Third/EcoSport",
          "Hyundai/Second/Elantra",
          "Ford/Second/Endeavour",
          "Maruti/First/Ertiga",
          "Ford/Third/Figo",
          "Toyota/Second/Fortuner",
          "Mercedes/First/GLA",
          "Mercedes/Second/GLC",
          "Mercedes/Second/GLE",
          "Tata/First/Harrier",
          "Toyota/First/Innova",
          "Toyota/Second/Innova Crysta",
          "Ford/First/Mustang",
          "Tata/First/Nexon",
          "Volkswagen/Second/Passat",
          "Volkswagen/First/Polo",
          "Audi/Second/Q3",
          "Audi/First/Q7",
          "Ford/Second/Ranger",
          "Maruti/Second/S-Cross",
          "Tata/First/Safari",
          "Hyundai/Third/Santro",
          "Mahindra/Second/Scorpio",
          "Hyundai/Second/Sonata",
          "Maruti/Third/Swift",
          "Volkswagen/Second/T-Roc",
          "Mahindra/First/Thar",
          "Tata/First/Tiago",
          "Tata/First/Tigor",
          "Volkswagen/First/Tiguan",
          "Volkswagen/Second/Vento",
          "Hyundai/Third/Venue",
          "Hyundai/Second/Verna",
          "Maruti/Second/Vitara",
          "Honda/First/WR-V",
          "BMW/Second/X1",
          "BMW/Second/X3",
          "BMW/Second/X5",
          "Mahindra/Second/XUV300",
          "Toyota/First/Yaris",
          "Audi/First",
          "BMW/First",
          "Ford/First",
          "Honda/First",
          "Mahindra/First",
          "Maruti/First",
          "Mercedes/First",
          "Tata/First",
          "Toyota/First",
          "Volkswagen/First",
          "Audi/Second",
          "BMW/Second",
          "Ford/Second",
          "Honda/Second",
          "Hyundai/Second",
          "Mahindra/Second",
          "Maruti/Second",
          "Mercedes/Second",
          "Toyota/Second",
          "Volkswagen/Second",
          "Ford/Third",
          "Hyundai/Third",
          "Maruti/Third",
          "Volkswagen/Third",
          "Audi",
          "BMW",
          "Ford",
          "Honda",
          "Hyundai",
          "Mahindra",
          "Maruti",
          "Mercedes",
          "Tata",
          "Toyota",
          "Volkswagen"
         ],
         "labels": [
          "27900.0",
          "31000.0",
          "31000.0",
          "31000.0",
          "34100.0",
          "34100.0",
          "37200.0",
          "37200.0",
          "37200.0",
          "40300.0",
          "40300.0",
          "40300.0",
          "40300.0",
          "43400.0",
          "43400.0",
          "43400.0",
          "46500.0",
          "46500.0",
          "46500.0",
          "49600.0",
          "49600.0",
          "52700.0",
          "52700.0",
          "52700.0",
          "52700.0",
          "52700.0",
          "55800.0",
          "62000.0",
          "74400.0",
          "80600.0",
          "86800.0",
          "86800.0",
          "93000.0",
          "99200.0",
          "99200.0",
          "99200.0",
          "111600.0",
          "111600.0",
          "117800.0",
          "124000.0",
          "124000.0",
          "136400.0",
          "142600.0",
          "148800.0",
          "155000.0",
          "155000.0",
          "155000.0",
          "161200.0",
          "167400.0",
          "167400.0",
          "167400.0",
          "173600.0",
          "173600.0",
          "179800.0",
          "186000.0",
          "186000.0",
          "198400.0",
          "198400.0",
          "217000.0",
          "248000.0",
          "3 Series",
          "5 Series",
          "7 Series",
          "A3",
          "A4",
          "A5",
          "A6",
          "Altroz",
          "Ameo",
          "Aspire",
          "BR-V",
          "C-Class",
          "Camry",
          "City",
          "Civic",
          "Corolla",
          "Creta",
          "E-Class",
          "EcoSport",
          "Elantra",
          "Endeavour",
          "Ertiga",
          "Figo",
          "Fortuner",
          "GLA",
          "GLC",
          "GLE",
          "Harrier",
          "Innova",
          "Innova Crysta",
          "Mustang",
          "Nexon",
          "Passat",
          "Polo",
          "Q3",
          "Q7",
          "Ranger",
          "S-Cross",
          "Safari",
          "Santro",
          "Scorpio",
          "Sonata",
          "Swift",
          "T-Roc",
          "Thar",
          "Tiago",
          "Tigor",
          "Tiguan",
          "Vento",
          "Venue",
          "Verna",
          "Vitara",
          "WR-V",
          "X1",
          "X3",
          "X5",
          "XUV300",
          "Yaris",
          "First",
          "First",
          "First",
          "First",
          "First",
          "First",
          "First",
          "First",
          "First",
          "First",
          "Second",
          "Second",
          "Second",
          "Second",
          "Second",
          "Second",
          "Second",
          "Second",
          "Second",
          "Second",
          "Third",
          "Third",
          "Third",
          "Third",
          "Audi",
          "BMW",
          "Ford",
          "Honda",
          "Hyundai",
          "Mahindra",
          "Maruti",
          "Mercedes",
          "Tata",
          "Toyota",
          "Volkswagen"
         ],
         "name": "",
         "parents": [
          "Hyundai/Third/Santro",
          "Volkswagen/Third/Ameo",
          "Tata/First/Tiago",
          "Tata/First/Tigor",
          "Ford/Third/Figo",
          "Hyundai/Third/Venue",
          "Tata/First/Altroz",
          "Ford/Third/Aspire",
          "Maruti/Third/Swift",
          "Honda/Second/City",
          "Volkswagen/First/Polo",
          "Volkswagen/Second/Vento",
          "Toyota/First/Yaris",
          "Maruti/Second/S-Cross",
          "Maruti/Second/Vitara",
          "Mahindra/Second/XUV300",
          "Ford/Third/EcoSport",
          "Tata/First/Nexon",
          "Honda/First/WR-V",
          "Toyota/First/Corolla",
          "Hyundai/Second/Elantra",
          "Honda/First/BR-V",
          "Hyundai/Third/Creta",
          "Maruti/First/Ertiga",
          "Hyundai/Second/Sonata",
          "Hyundai/Second/Verna",
          "Mahindra/Second/Scorpio",
          "Honda/Second/Civic",
          "Mahindra/First/Thar",
          "Tata/First/Safari",
          "Toyota/First/Innova",
          "Toyota/Second/Innova Crysta",
          "Ford/Second/Ranger",
          "Tata/First/Harrier",
          "Volkswagen/Second/Passat",
          "Volkswagen/Second/T-Roc",
          "Toyota/Second/Camry",
          "Volkswagen/First/Tiguan",
          "Audi/Second/Q3",
          "Audi/Second/A3",
          "Ford/Second/Endeavour",
          "Audi/First/A4",
          "Mercedes/First/C-Class",
          "Mercedes/First/GLA",
          "Toyota/Second/Fortuner",
          "Mercedes/Second/GLC",
          "Ford/First/Mustang",
          "Audi/First/A5",
          "Mercedes/First/E-Class",
          "Ford/First/Mustang",
          "BMW/Second/X1",
          "BMW/Second/3 Series",
          "BMW/Second/X3",
          "Mercedes/First/C-Class",
          "BMW/First/5 Series",
          "Audi/First/Q7",
          "Audi/First/A6",
          "BMW/Second/X5",
          "BMW/First/7 Series",
          "Mercedes/Second/GLE",
          "BMW/Second",
          "BMW/First",
          "BMW/First",
          "Audi/Second",
          "Audi/First",
          "Audi/First",
          "Audi/First",
          "Tata/First",
          "Volkswagen/Third",
          "Ford/Third",
          "Honda/First",
          "Mercedes/First",
          "Toyota/Second",
          "Honda/Second",
          "Honda/Second",
          "Toyota/First",
          "Hyundai/Third",
          "Mercedes/First",
          "Ford/Third",
          "Hyundai/Second",
          "Ford/Second",
          "Maruti/First",
          "Ford/Third",
          "Toyota/Second",
          "Mercedes/First",
          "Mercedes/Second",
          "Mercedes/Second",
          "Tata/First",
          "Toyota/First",
          "Toyota/Second",
          "Ford/First",
          "Tata/First",
          "Volkswagen/Second",
          "Volkswagen/First",
          "Audi/Second",
          "Audi/First",
          "Ford/Second",
          "Maruti/Second",
          "Tata/First",
          "Hyundai/Third",
          "Mahindra/Second",
          "Hyundai/Second",
          "Maruti/Third",
          "Volkswagen/Second",
          "Mahindra/First",
          "Tata/First",
          "Tata/First",
          "Volkswagen/First",
          "Volkswagen/Second",
          "Hyundai/Third",
          "Hyundai/Second",
          "Maruti/Second",
          "Honda/First",
          "BMW/Second",
          "BMW/Second",
          "BMW/Second",
          "Mahindra/Second",
          "Toyota/First",
          "Audi",
          "BMW",
          "Ford",
          "Honda",
          "Mahindra",
          "Maruti",
          "Mercedes",
          "Tata",
          "Toyota",
          "Volkswagen",
          "Audi",
          "BMW",
          "Ford",
          "Honda",
          "Hyundai",
          "Mahindra",
          "Maruti",
          "Mercedes",
          "Toyota",
          "Volkswagen",
          "Ford",
          "Hyundai",
          "Maruti",
          "Volkswagen",
          "",
          "",
          "",
          "",
          "",
          "",
          "",
          "",
          "",
          "",
          ""
         ],
         "type": "treemap",
         "values": [
          2,
          2,
          2,
          2,
          1,
          2,
          3,
          2,
          1,
          1,
          1,
          2,
          2,
          2,
          2,
          2,
          2,
          1,
          2,
          1,
          2,
          2,
          1,
          1,
          1,
          3,
          1,
          1,
          2,
          2,
          1,
          2,
          2,
          1,
          2,
          2,
          2,
          1,
          1,
          2,
          1,
          1,
          1,
          2,
          2,
          1,
          1,
          2,
          2,
          2,
          1,
          2,
          2,
          2,
          1,
          2,
          2,
          2,
          2,
          2,
          2,
          1,
          2,
          2,
          1,
          2,
          2,
          3,
          2,
          2,
          2,
          3,
          2,
          1,
          1,
          1,
          1,
          2,
          2,
          2,
          1,
          1,
          1,
          2,
          2,
          1,
          2,
          1,
          1,
          2,
          3,
          1,
          2,
          1,
          1,
          2,
          2,
          2,
          2,
          2,
          1,
          1,
          1,
          2,
          2,
          2,
          2,
          1,
          2,
          2,
          3,
          2,
          2,
          1,
          2,
          2,
          2,
          2,
          7,
          3,
          3,
          4,
          2,
          1,
          7,
          11,
          4,
          2,
          3,
          7,
          3,
          2,
          6,
          3,
          4,
          3,
          6,
          6,
          5,
          5,
          1,
          2,
          10,
          10,
          11,
          6,
          11,
          5,
          6,
          10,
          11,
          10,
          10
         ]
        }
       ],
       "layout": {
        "legend": {
         "tracegroupgap": 0
        },
        "margin": {
         "t": 60
        },
        "template": {
         "data": {
          "bar": [
           {
            "error_x": {
             "color": "#2a3f5f"
            },
            "error_y": {
             "color": "#2a3f5f"
            },
            "marker": {
             "line": {
              "color": "#E5ECF6",
              "width": 0.5
             },
             "pattern": {
              "fillmode": "overlay",
              "size": 10,
              "solidity": 0.2
             }
            },
            "type": "bar"
           }
          ],
          "barpolar": [
           {
            "marker": {
             "line": {
              "color": "#E5ECF6",
              "width": 0.5
             },
             "pattern": {
              "fillmode": "overlay",
              "size": 10,
              "solidity": 0.2
             }
            },
            "type": "barpolar"
           }
          ],
          "carpet": [
           {
            "aaxis": {
             "endlinecolor": "#2a3f5f",
             "gridcolor": "white",
             "linecolor": "white",
             "minorgridcolor": "white",
             "startlinecolor": "#2a3f5f"
            },
            "baxis": {
             "endlinecolor": "#2a3f5f",
             "gridcolor": "white",
             "linecolor": "white",
             "minorgridcolor": "white",
             "startlinecolor": "#2a3f5f"
            },
            "type": "carpet"
           }
          ],
          "choropleth": [
           {
            "colorbar": {
             "outlinewidth": 0,
             "ticks": ""
            },
            "type": "choropleth"
           }
          ],
          "contour": [
           {
            "colorbar": {
             "outlinewidth": 0,
             "ticks": ""
            },
            "colorscale": [
             [
              0,
              "#0d0887"
             ],
             [
              0.1111111111111111,
              "#46039f"
             ],
             [
              0.2222222222222222,
              "#7201a8"
             ],
             [
              0.3333333333333333,
              "#9c179e"
             ],
             [
              0.4444444444444444,
              "#bd3786"
             ],
             [
              0.5555555555555556,
              "#d8576b"
             ],
             [
              0.6666666666666666,
              "#ed7953"
             ],
             [
              0.7777777777777778,
              "#fb9f3a"
             ],
             [
              0.8888888888888888,
              "#fdca26"
             ],
             [
              1,
              "#f0f921"
             ]
            ],
            "type": "contour"
           }
          ],
          "contourcarpet": [
           {
            "colorbar": {
             "outlinewidth": 0,
             "ticks": ""
            },
            "type": "contourcarpet"
           }
          ],
          "heatmap": [
           {
            "colorbar": {
             "outlinewidth": 0,
             "ticks": ""
            },
            "colorscale": [
             [
              0,
              "#0d0887"
             ],
             [
              0.1111111111111111,
              "#46039f"
             ],
             [
              0.2222222222222222,
              "#7201a8"
             ],
             [
              0.3333333333333333,
              "#9c179e"
             ],
             [
              0.4444444444444444,
              "#bd3786"
             ],
             [
              0.5555555555555556,
              "#d8576b"
             ],
             [
              0.6666666666666666,
              "#ed7953"
             ],
             [
              0.7777777777777778,
              "#fb9f3a"
             ],
             [
              0.8888888888888888,
              "#fdca26"
             ],
             [
              1,
              "#f0f921"
             ]
            ],
            "type": "heatmap"
           }
          ],
          "heatmapgl": [
           {
            "colorbar": {
             "outlinewidth": 0,
             "ticks": ""
            },
            "colorscale": [
             [
              0,
              "#0d0887"
             ],
             [
              0.1111111111111111,
              "#46039f"
             ],
             [
              0.2222222222222222,
              "#7201a8"
             ],
             [
              0.3333333333333333,
              "#9c179e"
             ],
             [
              0.4444444444444444,
              "#bd3786"
             ],
             [
              0.5555555555555556,
              "#d8576b"
             ],
             [
              0.6666666666666666,
              "#ed7953"
             ],
             [
              0.7777777777777778,
              "#fb9f3a"
             ],
             [
              0.8888888888888888,
              "#fdca26"
             ],
             [
              1,
              "#f0f921"
             ]
            ],
            "type": "heatmapgl"
           }
          ],
          "histogram": [
           {
            "marker": {
             "pattern": {
              "fillmode": "overlay",
              "size": 10,
              "solidity": 0.2
             }
            },
            "type": "histogram"
           }
          ],
          "histogram2d": [
           {
            "colorbar": {
             "outlinewidth": 0,
             "ticks": ""
            },
            "colorscale": [
             [
              0,
              "#0d0887"
             ],
             [
              0.1111111111111111,
              "#46039f"
             ],
             [
              0.2222222222222222,
              "#7201a8"
             ],
             [
              0.3333333333333333,
              "#9c179e"
             ],
             [
              0.4444444444444444,
              "#bd3786"
             ],
             [
              0.5555555555555556,
              "#d8576b"
             ],
             [
              0.6666666666666666,
              "#ed7953"
             ],
             [
              0.7777777777777778,
              "#fb9f3a"
             ],
             [
              0.8888888888888888,
              "#fdca26"
             ],
             [
              1,
              "#f0f921"
             ]
            ],
            "type": "histogram2d"
           }
          ],
          "histogram2dcontour": [
           {
            "colorbar": {
             "outlinewidth": 0,
             "ticks": ""
            },
            "colorscale": [
             [
              0,
              "#0d0887"
             ],
             [
              0.1111111111111111,
              "#46039f"
             ],
             [
              0.2222222222222222,
              "#7201a8"
             ],
             [
              0.3333333333333333,
              "#9c179e"
             ],
             [
              0.4444444444444444,
              "#bd3786"
             ],
             [
              0.5555555555555556,
              "#d8576b"
             ],
             [
              0.6666666666666666,
              "#ed7953"
             ],
             [
              0.7777777777777778,
              "#fb9f3a"
             ],
             [
              0.8888888888888888,
              "#fdca26"
             ],
             [
              1,
              "#f0f921"
             ]
            ],
            "type": "histogram2dcontour"
           }
          ],
          "mesh3d": [
           {
            "colorbar": {
             "outlinewidth": 0,
             "ticks": ""
            },
            "type": "mesh3d"
           }
          ],
          "parcoords": [
           {
            "line": {
             "colorbar": {
              "outlinewidth": 0,
              "ticks": ""
             }
            },
            "type": "parcoords"
           }
          ],
          "pie": [
           {
            "automargin": true,
            "type": "pie"
           }
          ],
          "scatter": [
           {
            "fillpattern": {
             "fillmode": "overlay",
             "size": 10,
             "solidity": 0.2
            },
            "type": "scatter"
           }
          ],
          "scatter3d": [
           {
            "line": {
             "colorbar": {
              "outlinewidth": 0,
              "ticks": ""
             }
            },
            "marker": {
             "colorbar": {
              "outlinewidth": 0,
              "ticks": ""
             }
            },
            "type": "scatter3d"
           }
          ],
          "scattercarpet": [
           {
            "marker": {
             "colorbar": {
              "outlinewidth": 0,
              "ticks": ""
             }
            },
            "type": "scattercarpet"
           }
          ],
          "scattergeo": [
           {
            "marker": {
             "colorbar": {
              "outlinewidth": 0,
              "ticks": ""
             }
            },
            "type": "scattergeo"
           }
          ],
          "scattergl": [
           {
            "marker": {
             "colorbar": {
              "outlinewidth": 0,
              "ticks": ""
             }
            },
            "type": "scattergl"
           }
          ],
          "scattermapbox": [
           {
            "marker": {
             "colorbar": {
              "outlinewidth": 0,
              "ticks": ""
             }
            },
            "type": "scattermapbox"
           }
          ],
          "scatterpolar": [
           {
            "marker": {
             "colorbar": {
              "outlinewidth": 0,
              "ticks": ""
             }
            },
            "type": "scatterpolar"
           }
          ],
          "scatterpolargl": [
           {
            "marker": {
             "colorbar": {
              "outlinewidth": 0,
              "ticks": ""
             }
            },
            "type": "scatterpolargl"
           }
          ],
          "scatterternary": [
           {
            "marker": {
             "colorbar": {
              "outlinewidth": 0,
              "ticks": ""
             }
            },
            "type": "scatterternary"
           }
          ],
          "surface": [
           {
            "colorbar": {
             "outlinewidth": 0,
             "ticks": ""
            },
            "colorscale": [
             [
              0,
              "#0d0887"
             ],
             [
              0.1111111111111111,
              "#46039f"
             ],
             [
              0.2222222222222222,
              "#7201a8"
             ],
             [
              0.3333333333333333,
              "#9c179e"
             ],
             [
              0.4444444444444444,
              "#bd3786"
             ],
             [
              0.5555555555555556,
              "#d8576b"
             ],
             [
              0.6666666666666666,
              "#ed7953"
             ],
             [
              0.7777777777777778,
              "#fb9f3a"
             ],
             [
              0.8888888888888888,
              "#fdca26"
             ],
             [
              1,
              "#f0f921"
             ]
            ],
            "type": "surface"
           }
          ],
          "table": [
           {
            "cells": {
             "fill": {
              "color": "#EBF0F8"
             },
             "line": {
              "color": "white"
             }
            },
            "header": {
             "fill": {
              "color": "#C8D4E3"
             },
             "line": {
              "color": "white"
             }
            },
            "type": "table"
           }
          ]
         },
         "layout": {
          "annotationdefaults": {
           "arrowcolor": "#2a3f5f",
           "arrowhead": 0,
           "arrowwidth": 1
          },
          "autotypenumbers": "strict",
          "coloraxis": {
           "colorbar": {
            "outlinewidth": 0,
            "ticks": ""
           }
          },
          "colorscale": {
           "diverging": [
            [
             0,
             "#8e0152"
            ],
            [
             0.1,
             "#c51b7d"
            ],
            [
             0.2,
             "#de77ae"
            ],
            [
             0.3,
             "#f1b6da"
            ],
            [
             0.4,
             "#fde0ef"
            ],
            [
             0.5,
             "#f7f7f7"
            ],
            [
             0.6,
             "#e6f5d0"
            ],
            [
             0.7,
             "#b8e186"
            ],
            [
             0.8,
             "#7fbc41"
            ],
            [
             0.9,
             "#4d9221"
            ],
            [
             1,
             "#276419"
            ]
           ],
           "sequential": [
            [
             0,
             "#0d0887"
            ],
            [
             0.1111111111111111,
             "#46039f"
            ],
            [
             0.2222222222222222,
             "#7201a8"
            ],
            [
             0.3333333333333333,
             "#9c179e"
            ],
            [
             0.4444444444444444,
             "#bd3786"
            ],
            [
             0.5555555555555556,
             "#d8576b"
            ],
            [
             0.6666666666666666,
             "#ed7953"
            ],
            [
             0.7777777777777778,
             "#fb9f3a"
            ],
            [
             0.8888888888888888,
             "#fdca26"
            ],
            [
             1,
             "#f0f921"
            ]
           ],
           "sequentialminus": [
            [
             0,
             "#0d0887"
            ],
            [
             0.1111111111111111,
             "#46039f"
            ],
            [
             0.2222222222222222,
             "#7201a8"
            ],
            [
             0.3333333333333333,
             "#9c179e"
            ],
            [
             0.4444444444444444,
             "#bd3786"
            ],
            [
             0.5555555555555556,
             "#d8576b"
            ],
            [
             0.6666666666666666,
             "#ed7953"
            ],
            [
             0.7777777777777778,
             "#fb9f3a"
            ],
            [
             0.8888888888888888,
             "#fdca26"
            ],
            [
             1,
             "#f0f921"
            ]
           ]
          },
          "colorway": [
           "#636efa",
           "#EF553B",
           "#00cc96",
           "#ab63fa",
           "#FFA15A",
           "#19d3f3",
           "#FF6692",
           "#B6E880",
           "#FF97FF",
           "#FECB52"
          ],
          "font": {
           "color": "#2a3f5f"
          },
          "geo": {
           "bgcolor": "white",
           "lakecolor": "white",
           "landcolor": "#E5ECF6",
           "showlakes": true,
           "showland": true,
           "subunitcolor": "white"
          },
          "hoverlabel": {
           "align": "left"
          },
          "hovermode": "closest",
          "mapbox": {
           "style": "light"
          },
          "paper_bgcolor": "white",
          "plot_bgcolor": "#E5ECF6",
          "polar": {
           "angularaxis": {
            "gridcolor": "white",
            "linecolor": "white",
            "ticks": ""
           },
           "bgcolor": "#E5ECF6",
           "radialaxis": {
            "gridcolor": "white",
            "linecolor": "white",
            "ticks": ""
           }
          },
          "scene": {
           "xaxis": {
            "backgroundcolor": "#E5ECF6",
            "gridcolor": "white",
            "gridwidth": 2,
            "linecolor": "white",
            "showbackground": true,
            "ticks": "",
            "zerolinecolor": "white"
           },
           "yaxis": {
            "backgroundcolor": "#E5ECF6",
            "gridcolor": "white",
            "gridwidth": 2,
            "linecolor": "white",
            "showbackground": true,
            "ticks": "",
            "zerolinecolor": "white"
           },
           "zaxis": {
            "backgroundcolor": "#E5ECF6",
            "gridcolor": "white",
            "gridwidth": 2,
            "linecolor": "white",
            "showbackground": true,
            "ticks": "",
            "zerolinecolor": "white"
           }
          },
          "shapedefaults": {
           "line": {
            "color": "#2a3f5f"
           }
          },
          "ternary": {
           "aaxis": {
            "gridcolor": "white",
            "linecolor": "white",
            "ticks": ""
           },
           "baxis": {
            "gridcolor": "white",
            "linecolor": "white",
            "ticks": ""
           },
           "bgcolor": "#E5ECF6",
           "caxis": {
            "gridcolor": "white",
            "linecolor": "white",
            "ticks": ""
           }
          },
          "title": {
           "x": 0.05
          },
          "xaxis": {
           "automargin": true,
           "gridcolor": "white",
           "linecolor": "white",
           "ticks": "",
           "title": {
            "standoff": 15
           },
           "zerolinecolor": "white",
           "zerolinewidth": 2
          },
          "yaxis": {
           "automargin": true,
           "gridcolor": "white",
           "linecolor": "white",
           "ticks": "",
           "title": {
            "standoff": 15
           },
           "zerolinecolor": "white",
           "zerolinewidth": 2
          }
         }
        }
       }
      }
     },
     "metadata": {},
     "output_type": "display_data"
    }
   ],
   "source": [
    "grafico = px.treemap(base_carros, path=['Brand','Owner_Type','Model','Price'])\n",
    "grafico.show()"
   ]
  },
  {
   "cell_type": "markdown",
   "metadata": {},
   "source": [
    "Aqui vemos uma relação proporcional entre a desvalorização e a quantidade de revendas, com pequenas situações que podem fugir deste cenário por conta do modelo do veículo, que já é mais caro a priori."
   ]
  },
  {
   "cell_type": "code",
   "execution_count": 196,
   "metadata": {},
   "outputs": [
    {
     "data": {
      "text/html": [
       "<div>\n",
       "<style scoped>\n",
       "    .dataframe tbody tr th:only-of-type {\n",
       "        vertical-align: middle;\n",
       "    }\n",
       "\n",
       "    .dataframe tbody tr th {\n",
       "        vertical-align: top;\n",
       "    }\n",
       "\n",
       "    .dataframe thead th {\n",
       "        text-align: right;\n",
       "    }\n",
       "</style>\n",
       "<table border=\"1\" class=\"dataframe\">\n",
       "  <thead>\n",
       "    <tr style=\"text-align: right;\">\n",
       "      <th></th>\n",
       "      <th>Brand</th>\n",
       "      <th>Model</th>\n",
       "      <th>Year</th>\n",
       "      <th>Kilometers_Driven</th>\n",
       "      <th>Owner_Type</th>\n",
       "      <th>Seats</th>\n",
       "      <th>Price</th>\n",
       "    </tr>\n",
       "  </thead>\n",
       "  <tbody>\n",
       "    <tr>\n",
       "      <th>0</th>\n",
       "      <td>Toyota</td>\n",
       "      <td>Corolla</td>\n",
       "      <td>2018</td>\n",
       "      <td>50000</td>\n",
       "      <td>First</td>\n",
       "      <td>5</td>\n",
       "      <td>49600.0</td>\n",
       "    </tr>\n",
       "    <tr>\n",
       "      <th>1</th>\n",
       "      <td>Honda</td>\n",
       "      <td>Civic</td>\n",
       "      <td>2019</td>\n",
       "      <td>40000</td>\n",
       "      <td>Second</td>\n",
       "      <td>5</td>\n",
       "      <td>62000.0</td>\n",
       "    </tr>\n",
       "    <tr>\n",
       "      <th>2</th>\n",
       "      <td>Ford</td>\n",
       "      <td>Mustang</td>\n",
       "      <td>2017</td>\n",
       "      <td>20000</td>\n",
       "      <td>First</td>\n",
       "      <td>4</td>\n",
       "      <td>155000.0</td>\n",
       "    </tr>\n",
       "    <tr>\n",
       "      <th>3</th>\n",
       "      <td>Maruti</td>\n",
       "      <td>Swift</td>\n",
       "      <td>2020</td>\n",
       "      <td>30000</td>\n",
       "      <td>Third</td>\n",
       "      <td>5</td>\n",
       "      <td>37200.0</td>\n",
       "    </tr>\n",
       "    <tr>\n",
       "      <th>4</th>\n",
       "      <td>Hyundai</td>\n",
       "      <td>Sonata</td>\n",
       "      <td>2016</td>\n",
       "      <td>60000</td>\n",
       "      <td>Second</td>\n",
       "      <td>5</td>\n",
       "      <td>52700.0</td>\n",
       "    </tr>\n",
       "    <tr>\n",
       "      <th>...</th>\n",
       "      <td>...</td>\n",
       "      <td>...</td>\n",
       "      <td>...</td>\n",
       "      <td>...</td>\n",
       "      <td>...</td>\n",
       "      <td>...</td>\n",
       "      <td>...</td>\n",
       "    </tr>\n",
       "    <tr>\n",
       "      <th>95</th>\n",
       "      <td>Mercedes</td>\n",
       "      <td>C-Class</td>\n",
       "      <td>2019</td>\n",
       "      <td>22000</td>\n",
       "      <td>First</td>\n",
       "      <td>5</td>\n",
       "      <td>179800.0</td>\n",
       "    </tr>\n",
       "    <tr>\n",
       "      <th>96</th>\n",
       "      <td>Toyota</td>\n",
       "      <td>Innova Crysta</td>\n",
       "      <td>2017</td>\n",
       "      <td>38000</td>\n",
       "      <td>Second</td>\n",
       "      <td>7</td>\n",
       "      <td>86800.0</td>\n",
       "    </tr>\n",
       "    <tr>\n",
       "      <th>97</th>\n",
       "      <td>Ford</td>\n",
       "      <td>EcoSport</td>\n",
       "      <td>2018</td>\n",
       "      <td>26000</td>\n",
       "      <td>Third</td>\n",
       "      <td>5</td>\n",
       "      <td>46500.0</td>\n",
       "    </tr>\n",
       "    <tr>\n",
       "      <th>98</th>\n",
       "      <td>Hyundai</td>\n",
       "      <td>Verna</td>\n",
       "      <td>2019</td>\n",
       "      <td>24000</td>\n",
       "      <td>Second</td>\n",
       "      <td>5</td>\n",
       "      <td>52700.0</td>\n",
       "    </tr>\n",
       "    <tr>\n",
       "      <th>99</th>\n",
       "      <td>Tata</td>\n",
       "      <td>Altroz</td>\n",
       "      <td>2020</td>\n",
       "      <td>18000</td>\n",
       "      <td>First</td>\n",
       "      <td>5</td>\n",
       "      <td>37200.0</td>\n",
       "    </tr>\n",
       "  </tbody>\n",
       "</table>\n",
       "<p>100 rows × 7 columns</p>\n",
       "</div>"
      ],
      "text/plain": [
       "       Brand          Model  Year  Kilometers_Driven Owner_Type  Seats  \\\n",
       "0     Toyota        Corolla  2018              50000      First      5   \n",
       "1      Honda          Civic  2019              40000     Second      5   \n",
       "2       Ford        Mustang  2017              20000      First      4   \n",
       "3     Maruti          Swift  2020              30000      Third      5   \n",
       "4    Hyundai         Sonata  2016              60000     Second      5   \n",
       "..       ...            ...   ...                ...        ...    ...   \n",
       "95  Mercedes        C-Class  2019              22000      First      5   \n",
       "96    Toyota  Innova Crysta  2017              38000     Second      7   \n",
       "97      Ford       EcoSport  2018              26000      Third      5   \n",
       "98   Hyundai          Verna  2019              24000     Second      5   \n",
       "99      Tata         Altroz  2020              18000      First      5   \n",
       "\n",
       "       Price  \n",
       "0    49600.0  \n",
       "1    62000.0  \n",
       "2   155000.0  \n",
       "3    37200.0  \n",
       "4    52700.0  \n",
       "..       ...  \n",
       "95  179800.0  \n",
       "96   86800.0  \n",
       "97   46500.0  \n",
       "98   52700.0  \n",
       "99   37200.0  \n",
       "\n",
       "[100 rows x 7 columns]"
      ]
     },
     "execution_count": 196,
     "metadata": {},
     "output_type": "execute_result"
    }
   ],
   "source": [
    "base_carros"
   ]
  },
  {
   "cell_type": "code",
   "execution_count": 197,
   "metadata": {},
   "outputs": [
    {
     "data": {
      "text/plain": [
       "array([['Toyota', 'Corolla', 2018, 50000, 'First', 5],\n",
       "       ['Honda', 'Civic', 2019, 40000, 'Second', 5],\n",
       "       ['Ford', 'Mustang', 2017, 20000, 'First', 4],\n",
       "       ['Maruti', 'Swift', 2020, 30000, 'Third', 5],\n",
       "       ['Hyundai', 'Sonata', 2016, 60000, 'Second', 5],\n",
       "       ['Tata', 'Nexon', 2019, 35000, 'First', 5],\n",
       "       ['Mahindra', 'Scorpio', 2018, 45000, 'Second', 7],\n",
       "       ['Volkswagen', 'Polo', 2020, 25000, 'First', 5],\n",
       "       ['Audi', 'A4', 2017, 30000, 'First', 5],\n",
       "       ['BMW', 'X1', 2019, 20000, 'Second', 5],\n",
       "       ['Mercedes', 'C-Class', 2018, 28000, 'First', 5],\n",
       "       ['Ford', 'Endeavour', 2017, 35000, 'Second', 7],\n",
       "       ['Hyundai', 'Creta', 2019, 22000, 'Third', 5],\n",
       "       ['Tata', 'Harrier', 2018, 40000, 'First', 5],\n",
       "       ['Maruti', 'Ertiga', 2020, 18000, 'First', 7],\n",
       "       ['Honda', 'City', 2017, 42000, 'Second', 5],\n",
       "       ['Volkswagen', 'Tiguan', 2018, 32000, 'First', 5],\n",
       "       ['Audi', 'Q3', 2016, 38000, 'Second', 5],\n",
       "       ['BMW', '5 Series', 2019, 24000, 'First', 5],\n",
       "       ['Mercedes', 'GLC', 2017, 26000, 'Second', 5],\n",
       "       ['Toyota', 'Innova', 2018, 50000, 'First', 7],\n",
       "       ['Ford', 'Figo', 2020, 15000, 'Third', 5],\n",
       "       ['Hyundai', 'Verna', 2019, 26000, 'Second', 5],\n",
       "       ['Tata', 'Altroz', 2020, 18000, 'First', 5],\n",
       "       ['Mahindra', 'Thar', 2021, 10000, 'First', 4],\n",
       "       ['Volkswagen', 'Passat', 2017, 32000, 'Second', 5],\n",
       "       ['Audi', 'A6', 2018, 28000, 'First', 5],\n",
       "       ['BMW', 'X3', 2019, 22000, 'Second', 5],\n",
       "       ['Mercedes', 'E-Class', 2017, 30000, 'First', 5],\n",
       "       ['Toyota', 'Fortuner', 2018, 38000, 'Second', 7],\n",
       "       ['Ford', 'Aspire', 2019, 26000, 'Third', 5],\n",
       "       ['Hyundai', 'Elantra', 2017, 32000, 'Second', 5],\n",
       "       ['Tata', 'Safari', 2018, 42000, 'First', 7],\n",
       "       ['Maruti', 'Vitara', 2019, 24000, 'Second', 5],\n",
       "       ['Honda', 'WR-V', 2018, 28000, 'First', 5],\n",
       "       ['Volkswagen', 'Ameo', 2020, 15000, 'Third', 5],\n",
       "       ['Audi', 'A3', 2017, 38000, 'Second', 5],\n",
       "       ['BMW', '7 Series', 2019, 22000, 'First', 5],\n",
       "       ['Mercedes', 'GLE', 2018, 26000, 'Second', 5],\n",
       "       ['Toyota', 'Yaris', 2020, 18000, 'First', 5],\n",
       "       ['Ford', 'Ranger', 2017, 38000, 'Second', 5],\n",
       "       ['Hyundai', 'Santro', 2019, 26000, 'Third', 5],\n",
       "       ['Tata', 'Tigor', 2018, 42000, 'First', 5],\n",
       "       ['Maruti', 'S-Cross', 2020, 15000, 'Second', 5],\n",
       "       ['Honda', 'BR-V', 2018, 28000, 'First', 7],\n",
       "       ['Volkswagen', 'T-Roc', 2019, 22000, 'Second', 5],\n",
       "       ['Audi', 'Q7', 2017, 30000, 'First', 7],\n",
       "       ['BMW', 'X5', 2018, 28000, 'Second', 5],\n",
       "       ['Mercedes', 'GLA', 2019, 24000, 'First', 5],\n",
       "       ['Toyota', 'Camry', 2016, 38000, 'Second', 5],\n",
       "       ['Ford', 'Mustang', 2019, 22000, 'First', 4],\n",
       "       ['Hyundai', 'Venue', 2018, 32000, 'Third', 5],\n",
       "       ['Tata', 'Tiago', 2020, 18000, 'First', 5],\n",
       "       ['Mahindra', 'XUV300', 2019, 26000, 'Second', 5],\n",
       "       ['Volkswagen', 'Vento', 2017, 32000, 'Second', 5],\n",
       "       ['Audi', 'A5', 2018, 28000, 'First', 5],\n",
       "       ['BMW', '3 Series', 2020, 15000, 'Second', 5],\n",
       "       ['Mercedes', 'C-Class', 2019, 22000, 'First', 5],\n",
       "       ['Toyota', 'Innova Crysta', 2017, 38000, 'Second', 7],\n",
       "       ['Ford', 'EcoSport', 2018, 26000, 'Third', 5],\n",
       "       ['Hyundai', 'Verna', 2019, 24000, 'Second', 5],\n",
       "       ['Tata', 'Altroz', 2020, 18000, 'First', 5],\n",
       "       ['Mahindra', 'Thar', 2021, 10000, 'First', 4],\n",
       "       ['Volkswagen', 'Passat', 2017, 32000, 'Second', 5],\n",
       "       ['Audi', 'A6', 2018, 28000, 'First', 5],\n",
       "       ['BMW', 'X3', 2019, 22000, 'Second', 5],\n",
       "       ['Mercedes', 'E-Class', 2017, 30000, 'First', 5],\n",
       "       ['Toyota', 'Fortuner', 2018, 38000, 'Second', 7],\n",
       "       ['Ford', 'Aspire', 2019, 26000, 'Third', 5],\n",
       "       ['Hyundai', 'Elantra', 2017, 32000, 'Second', 5],\n",
       "       ['Tata', 'Safari', 2018, 42000, 'First', 7],\n",
       "       ['Maruti', 'Vitara', 2019, 24000, 'Second', 5],\n",
       "       ['Honda', 'WR-V', 2018, 28000, 'First', 5],\n",
       "       ['Volkswagen', 'Ameo', 2020, 15000, 'Third', 5],\n",
       "       ['Audi', 'A3', 2017, 38000, 'Second', 5],\n",
       "       ['BMW', '7 Series', 2019, 22000, 'First', 5],\n",
       "       ['Mercedes', 'GLE', 2018, 26000, 'Second', 5],\n",
       "       ['Toyota', 'Yaris', 2020, 18000, 'First', 5],\n",
       "       ['Ford', 'Ranger', 2017, 38000, 'Second', 5],\n",
       "       ['Hyundai', 'Santro', 2019, 26000, 'Third', 5],\n",
       "       ['Tata', 'Tigor', 2018, 42000, 'First', 5],\n",
       "       ['Maruti', 'S-Cross', 2020, 15000, 'Second', 5],\n",
       "       ['Honda', 'BR-V', 2018, 28000, 'First', 7],\n",
       "       ['Volkswagen', 'T-Roc', 2019, 22000, 'Second', 5],\n",
       "       ['Audi', 'Q7', 2017, 30000, 'First', 7],\n",
       "       ['BMW', 'X5', 2018, 28000, 'Second', 5],\n",
       "       ['Mercedes', 'GLA', 2019, 24000, 'First', 5],\n",
       "       ['Toyota', 'Camry', 2016, 38000, 'Second', 5],\n",
       "       ['Ford', 'Mustang', 2019, 22000, 'First', 4],\n",
       "       ['Hyundai', 'Venue', 2018, 32000, 'Third', 5],\n",
       "       ['Tata', 'Tiago', 2020, 18000, 'First', 5],\n",
       "       ['Mahindra', 'XUV300', 2019, 26000, 'Second', 5],\n",
       "       ['Volkswagen', 'Vento', 2017, 32000, 'Second', 5],\n",
       "       ['Audi', 'A5', 2018, 28000, 'First', 5],\n",
       "       ['BMW', '3 Series', 2020, 15000, 'Second', 5],\n",
       "       ['Mercedes', 'C-Class', 2019, 22000, 'First', 5],\n",
       "       ['Toyota', 'Innova Crysta', 2017, 38000, 'Second', 7],\n",
       "       ['Ford', 'EcoSport', 2018, 26000, 'Third', 5],\n",
       "       ['Hyundai', 'Verna', 2019, 24000, 'Second', 5],\n",
       "       ['Tata', 'Altroz', 2020, 18000, 'First', 5]], dtype=object)"
      ]
     },
     "execution_count": 197,
     "metadata": {},
     "output_type": "execute_result"
    }
   ],
   "source": [
    "#Previsores\n",
    "X_carros = base_carros.iloc[:,0:6].values\n",
    "X_carros"
   ]
  },
  {
   "cell_type": "code",
   "execution_count": 198,
   "metadata": {},
   "outputs": [
    {
     "data": {
      "text/plain": [
       "array([ 49600.,  62000., 155000.,  37200.,  52700.,  46500.,  55800.,\n",
       "        40300., 136400., 167400., 142600., 124000.,  52700.,  99200.,\n",
       "        52700.,  40300., 111600., 117800., 186000., 155000.,  86800.,\n",
       "        34100.,  52700.,  37200.,  74400.,  99200., 198400., 173600.,\n",
       "       167400., 155000.,  37200.,  49600.,  80600.,  43400.,  46500.,\n",
       "        31000., 124000., 217000., 248000.,  40300.,  93000.,  27900.,\n",
       "        31000.,  43400.,  52700.,  99200., 186000., 198400., 148800.,\n",
       "       111600., 167400.,  34100.,  31000.,  43400.,  40300., 161200.,\n",
       "       173600., 179800.,  86800.,  46500.,  52700.,  37200.,  74400.,\n",
       "        99200., 198400., 173600., 167400., 155000.,  37200.,  49600.,\n",
       "        80600.,  43400.,  46500.,  31000., 124000., 217000., 248000.,\n",
       "        40300.,  93000.,  27900.,  31000.,  43400.,  52700.,  99200.,\n",
       "       186000., 198400., 148800., 111600., 167400.,  34100.,  31000.,\n",
       "        43400.,  40300., 161200., 173600., 179800.,  86800.,  46500.,\n",
       "        52700.,  37200.])"
      ]
     },
     "execution_count": 198,
     "metadata": {},
     "output_type": "execute_result"
    }
   ],
   "source": [
    "#Classificadores\n",
    "Y_carros = base_carros.iloc[:,6].values\n",
    "Y_carros"
   ]
  },
  {
   "cell_type": "markdown",
   "metadata": {},
   "source": [
    "//Encodificar atributos categóricos (Strings principalmente)"
   ]
  },
  {
   "cell_type": "code",
   "execution_count": 199,
   "metadata": {},
   "outputs": [],
   "source": [
    "from sklearn.preprocessing import LabelEncoder"
   ]
  },
  {
   "cell_type": "code",
   "execution_count": 200,
   "metadata": {},
   "outputs": [],
   "source": [
    "label_encoder_brand = LabelEncoder()"
   ]
  },
  {
   "cell_type": "code",
   "execution_count": 201,
   "metadata": {},
   "outputs": [
    {
     "data": {
      "text/plain": [
       "array(['Toyota', 'Honda', 'Ford', 'Maruti', 'Hyundai', 'Tata', 'Mahindra',\n",
       "       'Volkswagen', 'Audi', 'BMW', 'Mercedes', 'Ford', 'Hyundai', 'Tata',\n",
       "       'Maruti', 'Honda', 'Volkswagen', 'Audi', 'BMW', 'Mercedes',\n",
       "       'Toyota', 'Ford', 'Hyundai', 'Tata', 'Mahindra', 'Volkswagen',\n",
       "       'Audi', 'BMW', 'Mercedes', 'Toyota', 'Ford', 'Hyundai', 'Tata',\n",
       "       'Maruti', 'Honda', 'Volkswagen', 'Audi', 'BMW', 'Mercedes',\n",
       "       'Toyota', 'Ford', 'Hyundai', 'Tata', 'Maruti', 'Honda',\n",
       "       'Volkswagen', 'Audi', 'BMW', 'Mercedes', 'Toyota', 'Ford',\n",
       "       'Hyundai', 'Tata', 'Mahindra', 'Volkswagen', 'Audi', 'BMW',\n",
       "       'Mercedes', 'Toyota', 'Ford', 'Hyundai', 'Tata', 'Mahindra',\n",
       "       'Volkswagen', 'Audi', 'BMW', 'Mercedes', 'Toyota', 'Ford',\n",
       "       'Hyundai', 'Tata', 'Maruti', 'Honda', 'Volkswagen', 'Audi', 'BMW',\n",
       "       'Mercedes', 'Toyota', 'Ford', 'Hyundai', 'Tata', 'Maruti', 'Honda',\n",
       "       'Volkswagen', 'Audi', 'BMW', 'Mercedes', 'Toyota', 'Ford',\n",
       "       'Hyundai', 'Tata', 'Mahindra', 'Volkswagen', 'Audi', 'BMW',\n",
       "       'Mercedes', 'Toyota', 'Ford', 'Hyundai', 'Tata'], dtype=object)"
      ]
     },
     "execution_count": 201,
     "metadata": {},
     "output_type": "execute_result"
    }
   ],
   "source": [
    "X_carros[:,0]"
   ]
  },
  {
   "cell_type": "code",
   "execution_count": 202,
   "metadata": {},
   "outputs": [],
   "source": [
    "X_carros[:,0] = label_encoder_brand.fit_transform(X_carros[:,0])"
   ]
  },
  {
   "cell_type": "code",
   "execution_count": 203,
   "metadata": {},
   "outputs": [
    {
     "data": {
      "text/plain": [
       "array([9, 'Corolla', 2018, 50000, 'First', 5], dtype=object)"
      ]
     },
     "execution_count": 203,
     "metadata": {},
     "output_type": "execute_result"
    }
   ],
   "source": [
    "X_carros[0]"
   ]
  },
  {
   "cell_type": "markdown",
   "metadata": {},
   "source": [
    "Usando essa tática pra cada atributo categórico de tipon string..."
   ]
  },
  {
   "cell_type": "code",
   "execution_count": 204,
   "metadata": {},
   "outputs": [],
   "source": [
    "label_encoder_model = LabelEncoder()\n",
    "label_encoder_owner = LabelEncoder()"
   ]
  },
  {
   "cell_type": "code",
   "execution_count": 205,
   "metadata": {},
   "outputs": [],
   "source": [
    "X_carros[:,1] = label_encoder_model.fit_transform(X_carros[:,1])"
   ]
  },
  {
   "cell_type": "code",
   "execution_count": 206,
   "metadata": {},
   "outputs": [],
   "source": [
    "X_carros[:,4] = label_encoder_owner.fit_transform(X_carros[:,4])"
   ]
  },
  {
   "cell_type": "code",
   "execution_count": 207,
   "metadata": {},
   "outputs": [
    {
     "data": {
      "text/plain": [
       "array([[9, 15, 2018, 50000, 0, 5],\n",
       "       [3, 14, 2019, 40000, 1, 5],\n",
       "       [2, 30, 2017, 20000, 0, 4],\n",
       "       [6, 42, 2020, 30000, 2, 5],\n",
       "       [4, 41, 2016, 60000, 1, 5],\n",
       "       [8, 31, 2019, 35000, 0, 5],\n",
       "       [5, 40, 2018, 45000, 1, 7],\n",
       "       [10, 33, 2020, 25000, 0, 5],\n",
       "       [0, 4, 2017, 30000, 0, 5],\n",
       "       [1, 53, 2019, 20000, 1, 5],\n",
       "       [7, 11, 2018, 28000, 0, 5],\n",
       "       [2, 20, 2017, 35000, 1, 7],\n",
       "       [4, 16, 2019, 22000, 2, 5],\n",
       "       [8, 27, 2018, 40000, 0, 5],\n",
       "       [6, 21, 2020, 18000, 0, 7],\n",
       "       [3, 13, 2017, 42000, 1, 5],\n",
       "       [10, 47, 2018, 32000, 0, 5],\n",
       "       [0, 34, 2016, 38000, 1, 5],\n",
       "       [1, 1, 2019, 24000, 0, 5],\n",
       "       [7, 25, 2017, 26000, 1, 5],\n",
       "       [9, 28, 2018, 50000, 0, 7],\n",
       "       [2, 22, 2020, 15000, 2, 5],\n",
       "       [4, 50, 2019, 26000, 1, 5],\n",
       "       [8, 7, 2020, 18000, 0, 5],\n",
       "       [5, 44, 2021, 10000, 0, 4],\n",
       "       [10, 32, 2017, 32000, 1, 5],\n",
       "       [0, 6, 2018, 28000, 0, 5],\n",
       "       [1, 54, 2019, 22000, 1, 5],\n",
       "       [7, 17, 2017, 30000, 0, 5],\n",
       "       [9, 23, 2018, 38000, 1, 7],\n",
       "       [2, 9, 2019, 26000, 2, 5],\n",
       "       [4, 19, 2017, 32000, 1, 5],\n",
       "       [8, 38, 2018, 42000, 0, 7],\n",
       "       [6, 51, 2019, 24000, 1, 5],\n",
       "       [3, 52, 2018, 28000, 0, 5],\n",
       "       [10, 8, 2020, 15000, 2, 5],\n",
       "       [0, 3, 2017, 38000, 1, 5],\n",
       "       [1, 2, 2019, 22000, 0, 5],\n",
       "       [7, 26, 2018, 26000, 1, 5],\n",
       "       [9, 57, 2020, 18000, 0, 5],\n",
       "       [2, 36, 2017, 38000, 1, 5],\n",
       "       [4, 39, 2019, 26000, 2, 5],\n",
       "       [8, 46, 2018, 42000, 0, 5],\n",
       "       [6, 37, 2020, 15000, 1, 5],\n",
       "       [3, 10, 2018, 28000, 0, 7],\n",
       "       [10, 43, 2019, 22000, 1, 5],\n",
       "       [0, 35, 2017, 30000, 0, 7],\n",
       "       [1, 55, 2018, 28000, 1, 5],\n",
       "       [7, 24, 2019, 24000, 0, 5],\n",
       "       [9, 12, 2016, 38000, 1, 5],\n",
       "       [2, 30, 2019, 22000, 0, 4],\n",
       "       [4, 49, 2018, 32000, 2, 5],\n",
       "       [8, 45, 2020, 18000, 0, 5],\n",
       "       [5, 56, 2019, 26000, 1, 5],\n",
       "       [10, 48, 2017, 32000, 1, 5],\n",
       "       [0, 5, 2018, 28000, 0, 5],\n",
       "       [1, 0, 2020, 15000, 1, 5],\n",
       "       [7, 11, 2019, 22000, 0, 5],\n",
       "       [9, 29, 2017, 38000, 1, 7],\n",
       "       [2, 18, 2018, 26000, 2, 5],\n",
       "       [4, 50, 2019, 24000, 1, 5],\n",
       "       [8, 7, 2020, 18000, 0, 5],\n",
       "       [5, 44, 2021, 10000, 0, 4],\n",
       "       [10, 32, 2017, 32000, 1, 5],\n",
       "       [0, 6, 2018, 28000, 0, 5],\n",
       "       [1, 54, 2019, 22000, 1, 5],\n",
       "       [7, 17, 2017, 30000, 0, 5],\n",
       "       [9, 23, 2018, 38000, 1, 7],\n",
       "       [2, 9, 2019, 26000, 2, 5],\n",
       "       [4, 19, 2017, 32000, 1, 5],\n",
       "       [8, 38, 2018, 42000, 0, 7],\n",
       "       [6, 51, 2019, 24000, 1, 5],\n",
       "       [3, 52, 2018, 28000, 0, 5],\n",
       "       [10, 8, 2020, 15000, 2, 5],\n",
       "       [0, 3, 2017, 38000, 1, 5],\n",
       "       [1, 2, 2019, 22000, 0, 5],\n",
       "       [7, 26, 2018, 26000, 1, 5],\n",
       "       [9, 57, 2020, 18000, 0, 5],\n",
       "       [2, 36, 2017, 38000, 1, 5],\n",
       "       [4, 39, 2019, 26000, 2, 5],\n",
       "       [8, 46, 2018, 42000, 0, 5],\n",
       "       [6, 37, 2020, 15000, 1, 5],\n",
       "       [3, 10, 2018, 28000, 0, 7],\n",
       "       [10, 43, 2019, 22000, 1, 5],\n",
       "       [0, 35, 2017, 30000, 0, 7],\n",
       "       [1, 55, 2018, 28000, 1, 5],\n",
       "       [7, 24, 2019, 24000, 0, 5],\n",
       "       [9, 12, 2016, 38000, 1, 5],\n",
       "       [2, 30, 2019, 22000, 0, 4],\n",
       "       [4, 49, 2018, 32000, 2, 5],\n",
       "       [8, 45, 2020, 18000, 0, 5],\n",
       "       [5, 56, 2019, 26000, 1, 5],\n",
       "       [10, 48, 2017, 32000, 1, 5],\n",
       "       [0, 5, 2018, 28000, 0, 5],\n",
       "       [1, 0, 2020, 15000, 1, 5],\n",
       "       [7, 11, 2019, 22000, 0, 5],\n",
       "       [9, 29, 2017, 38000, 1, 7],\n",
       "       [2, 18, 2018, 26000, 2, 5],\n",
       "       [4, 50, 2019, 24000, 1, 5],\n",
       "       [8, 7, 2020, 18000, 0, 5]], dtype=object)"
      ]
     },
     "execution_count": 207,
     "metadata": {},
     "output_type": "execute_result"
    }
   ],
   "source": [
    "X_carros"
   ]
  },
  {
   "cell_type": "markdown",
   "metadata": {},
   "source": [
    "Agora que todos os dados estão em formato numérico, usaremos o one hot encoder para retirar o 'peso' das categorias numeradas."
   ]
  },
  {
   "cell_type": "code",
   "execution_count": 208,
   "metadata": {},
   "outputs": [],
   "source": [
    "from sklearn.preprocessing import OneHotEncoder\n",
    "from sklearn.compose import ColumnTransformer"
   ]
  },
  {
   "cell_type": "code",
   "execution_count": 209,
   "metadata": {},
   "outputs": [],
   "source": [
    "onehotencoder_carros = ColumnTransformer(transformers=[('OneHot', OneHotEncoder(), [0,1,4])], remainder='passthrough')"
   ]
  },
  {
   "cell_type": "code",
   "execution_count": 210,
   "metadata": {},
   "outputs": [],
   "source": [
    "X_carros = onehotencoder_carros.fit_transform(X_carros).toarray()"
   ]
  },
  {
   "cell_type": "code",
   "execution_count": 211,
   "metadata": {},
   "outputs": [
    {
     "data": {
      "text/plain": [
       "array([[0.000e+00, 0.000e+00, 0.000e+00, ..., 2.018e+03, 5.000e+04,\n",
       "        5.000e+00],\n",
       "       [0.000e+00, 0.000e+00, 0.000e+00, ..., 2.019e+03, 4.000e+04,\n",
       "        5.000e+00],\n",
       "       [0.000e+00, 0.000e+00, 1.000e+00, ..., 2.017e+03, 2.000e+04,\n",
       "        4.000e+00],\n",
       "       ...,\n",
       "       [0.000e+00, 0.000e+00, 1.000e+00, ..., 2.018e+03, 2.600e+04,\n",
       "        5.000e+00],\n",
       "       [0.000e+00, 0.000e+00, 0.000e+00, ..., 2.019e+03, 2.400e+04,\n",
       "        5.000e+00],\n",
       "       [0.000e+00, 0.000e+00, 0.000e+00, ..., 2.020e+03, 1.800e+04,\n",
       "        5.000e+00]])"
      ]
     },
     "execution_count": 211,
     "metadata": {},
     "output_type": "execute_result"
    }
   ],
   "source": [
    "X_carros"
   ]
  },
  {
   "cell_type": "code",
   "execution_count": 212,
   "metadata": {},
   "outputs": [
    {
     "data": {
      "text/plain": [
       "array([0.000e+00, 0.000e+00, 0.000e+00, 0.000e+00, 0.000e+00, 0.000e+00,\n",
       "       0.000e+00, 0.000e+00, 0.000e+00, 1.000e+00, 0.000e+00, 0.000e+00,\n",
       "       0.000e+00, 0.000e+00, 0.000e+00, 0.000e+00, 0.000e+00, 0.000e+00,\n",
       "       0.000e+00, 0.000e+00, 0.000e+00, 0.000e+00, 0.000e+00, 0.000e+00,\n",
       "       0.000e+00, 0.000e+00, 1.000e+00, 0.000e+00, 0.000e+00, 0.000e+00,\n",
       "       0.000e+00, 0.000e+00, 0.000e+00, 0.000e+00, 0.000e+00, 0.000e+00,\n",
       "       0.000e+00, 0.000e+00, 0.000e+00, 0.000e+00, 0.000e+00, 0.000e+00,\n",
       "       0.000e+00, 0.000e+00, 0.000e+00, 0.000e+00, 0.000e+00, 0.000e+00,\n",
       "       0.000e+00, 0.000e+00, 0.000e+00, 0.000e+00, 0.000e+00, 0.000e+00,\n",
       "       0.000e+00, 0.000e+00, 0.000e+00, 0.000e+00, 0.000e+00, 0.000e+00,\n",
       "       0.000e+00, 0.000e+00, 0.000e+00, 0.000e+00, 0.000e+00, 0.000e+00,\n",
       "       0.000e+00, 0.000e+00, 0.000e+00, 1.000e+00, 0.000e+00, 0.000e+00,\n",
       "       2.018e+03, 5.000e+04, 5.000e+00])"
      ]
     },
     "execution_count": 212,
     "metadata": {},
     "output_type": "execute_result"
    }
   ],
   "source": [
    "X_carros[0]"
   ]
  },
  {
   "cell_type": "code",
   "execution_count": 213,
   "metadata": {},
   "outputs": [
    {
     "data": {
      "text/plain": [
       "(100, 75)"
      ]
     },
     "execution_count": 213,
     "metadata": {},
     "output_type": "execute_result"
    }
   ],
   "source": [
    "X_carros.shape"
   ]
  },
  {
   "cell_type": "markdown",
   "metadata": {},
   "source": [
    "//Escalonamento dos valores"
   ]
  },
  {
   "cell_type": "code",
   "execution_count": 214,
   "metadata": {},
   "outputs": [],
   "source": [
    "from sklearn.preprocessing import StandardScaler\n",
    "scaler_carros = StandardScaler()\n",
    "X_carros = scaler_carros.fit_transform(X_carros)"
   ]
  },
  {
   "cell_type": "code",
   "execution_count": 215,
   "metadata": {},
   "outputs": [
    {
     "data": {
      "text/plain": [
       "array([[-0.33333333, -0.33333333, -0.35156152, ..., -0.33468073,\n",
       "         2.40753993, -0.30814935],\n",
       "       [-0.33333333, -0.33333333, -0.35156152, ...,  0.52347499,\n",
       "         1.30569099, -0.30814935],\n",
       "       [-0.33333333, -0.33333333,  2.84445234, ..., -1.19283646,\n",
       "        -0.89800689, -1.64792914],\n",
       "       ...,\n",
       "       [-0.33333333, -0.33333333,  2.84445234, ..., -0.33468073,\n",
       "        -0.23689752, -0.30814935],\n",
       "       [-0.33333333, -0.33333333, -0.35156152, ...,  0.52347499,\n",
       "        -0.45726731, -0.30814935],\n",
       "       [-0.33333333, -0.33333333, -0.35156152, ...,  1.38163072,\n",
       "        -1.11837667, -0.30814935]])"
      ]
     },
     "execution_count": 215,
     "metadata": {},
     "output_type": "execute_result"
    }
   ],
   "source": [
    "X_carros"
   ]
  },
  {
   "cell_type": "code",
   "execution_count": 216,
   "metadata": {},
   "outputs": [
    {
     "data": {
      "text/plain": [
       "array([-0.33333333, -0.33333333, -0.35156152, -0.25264558, -0.35156152,\n",
       "       -0.22941573, -0.25264558, -0.33333333, -0.35156152,  3.        ,\n",
       "       -0.33333333, -0.14285714, -0.10050378, -0.14285714, -0.14285714,\n",
       "       -0.10050378, -0.14285714, -0.14285714, -0.17586311, -0.14285714,\n",
       "       -0.14285714, -0.14285714, -0.17586311, -0.14285714, -0.10050378,\n",
       "       -0.10050378,  9.94987437, -0.10050378, -0.14285714, -0.14285714,\n",
       "       -0.14285714, -0.10050378, -0.10050378, -0.10050378, -0.14285714,\n",
       "       -0.14285714, -0.10050378, -0.14285714, -0.10050378, -0.10050378,\n",
       "       -0.14285714, -0.17586311, -0.10050378, -0.14285714, -0.10050378,\n",
       "       -0.10050378, -0.14285714, -0.14285714, -0.14285714, -0.14285714,\n",
       "       -0.14285714, -0.10050378, -0.10050378, -0.10050378, -0.14285714,\n",
       "       -0.14285714, -0.14285714, -0.14285714, -0.10050378, -0.14285714,\n",
       "       -0.14285714, -0.17586311, -0.14285714, -0.14285714, -0.10050378,\n",
       "       -0.14285714, -0.14285714, -0.14285714, -0.14285714,  1.12815215,\n",
       "       -0.86855395, -0.38655567, -0.33468073,  2.40753993, -0.30814935])"
      ]
     },
     "execution_count": 216,
     "metadata": {},
     "output_type": "execute_result"
    }
   ],
   "source": [
    "X_carros[0]"
   ]
  },
  {
   "cell_type": "markdown",
   "metadata": {},
   "source": [
    "//Divisão de base treino e base teste"
   ]
  },
  {
   "cell_type": "code",
   "execution_count": 217,
   "metadata": {},
   "outputs": [],
   "source": [
    "from sklearn.model_selection import train_test_split"
   ]
  },
  {
   "cell_type": "code",
   "execution_count": 218,
   "metadata": {},
   "outputs": [],
   "source": [
    "X_carros_treinamento, X_carros_teste, Y_carros_treinamento, Y_carros_teste = train_test_split(X_carros,Y_carros,test_size = 0.25, random_state = 0)"
   ]
  },
  {
   "cell_type": "code",
   "execution_count": 219,
   "metadata": {},
   "outputs": [
    {
     "data": {
      "text/plain": [
       "(75, 75)"
      ]
     },
     "execution_count": 219,
     "metadata": {},
     "output_type": "execute_result"
    }
   ],
   "source": [
    "X_carros_treinamento.shape"
   ]
  },
  {
   "cell_type": "code",
   "execution_count": 220,
   "metadata": {},
   "outputs": [
    {
     "data": {
      "text/plain": [
       "(75,)"
      ]
     },
     "execution_count": 220,
     "metadata": {},
     "output_type": "execute_result"
    }
   ],
   "source": [
    "Y_carros_treinamento.shape"
   ]
  },
  {
   "cell_type": "code",
   "execution_count": 221,
   "metadata": {},
   "outputs": [
    {
     "data": {
      "text/plain": [
       "((25, 75), (25,))"
      ]
     },
     "execution_count": 221,
     "metadata": {},
     "output_type": "execute_result"
    }
   ],
   "source": [
    "X_carros_teste.shape, Y_carros_teste.shape"
   ]
  },
  {
   "cell_type": "markdown",
   "metadata": {},
   "source": [
    "//Salvar variáveis com pickle"
   ]
  },
  {
   "cell_type": "code",
   "execution_count": 222,
   "metadata": {},
   "outputs": [],
   "source": [
    "import pickle"
   ]
  },
  {
   "cell_type": "code",
   "execution_count": 223,
   "metadata": {},
   "outputs": [],
   "source": [
    "with open('carros.pkl',mode= 'wb') as f:\n",
    "    pickle.dump([X_carros_treinamento,Y_carros_treinamento,X_carros_teste,Y_carros_teste],f)"
   ]
  }
 ],
 "metadata": {
  "kernelspec": {
   "display_name": "Python 3",
   "language": "python",
   "name": "python3"
  },
  "language_info": {
   "codemirror_mode": {
    "name": "ipython",
    "version": 3
   },
   "file_extension": ".py",
   "mimetype": "text/x-python",
   "name": "python",
   "nbconvert_exporter": "python",
   "pygments_lexer": "ipython3",
   "version": "3.12.2"
  }
 },
 "nbformat": 4,
 "nbformat_minor": 2
}
